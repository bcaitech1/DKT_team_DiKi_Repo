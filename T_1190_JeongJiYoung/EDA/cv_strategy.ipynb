{
 "cells": [
  {
   "cell_type": "code",
   "execution_count": 594,
   "id": "b9bfc521-3fd4-486f-9b52-d2cd3085a0a4",
   "metadata": {},
   "outputs": [],
   "source": [
    "import os\n",
    "import pandas as pd\n",
    "from datetime import datetime, timedelta\n",
    "import random\n",
    "import numpy as np\n",
    "import matplotlib.pyplot as plt"
   ]
  },
  {
   "cell_type": "code",
   "execution_count": 629,
   "id": "f3641042-b181-4afa-88f0-cd5a92102d4d",
   "metadata": {},
   "outputs": [],
   "source": [
    "train_file = 'train_data.csv'\n",
    "test_file = 'test_data.csv'\n",
    "\n",
    "data_path = '/opt/ml/input/data/train_dataset'\n",
    "train_path = os.path.join(data_path, train_file)\n",
    "test_path = os.path.join(data_path, test_file)"
   ]
  },
  {
   "cell_type": "code",
   "execution_count": 630,
   "id": "c8e98429-d0b2-4400-b737-41225ad7a4c5",
   "metadata": {},
   "outputs": [],
   "source": [
    "train_df = pd.read_csv(train_path, parse_dates=['Timestamp'])\n",
    "test_df = pd.read_csv(test_path, parse_dates=['Timestamp'])"
   ]
  },
  {
   "cell_type": "code",
   "execution_count": 631,
   "id": "7d23ef94-7262-4e96-bd62-7750e5076141",
   "metadata": {},
   "outputs": [],
   "source": [
    "train_df['grade'] = train_df['testId'].str[2]"
   ]
  },
  {
   "cell_type": "code",
   "execution_count": 607,
   "id": "6e59f9b8-5996-40fd-b4c0-3b11a837e309",
   "metadata": {},
   "outputs": [],
   "source": [
    "train_df['cum'] = train_df.groupby('userID').cumcount()"
   ]
  },
  {
   "cell_type": "code",
   "execution_count": 609,
   "id": "7de721cf-e7da-484f-9037-bd7d257c3b39",
   "metadata": {},
   "outputs": [
    {
     "data": {
      "text/html": [
       "<div>\n",
       "<style scoped>\n",
       "    .dataframe tbody tr th:only-of-type {\n",
       "        vertical-align: middle;\n",
       "    }\n",
       "\n",
       "    .dataframe tbody tr th {\n",
       "        vertical-align: top;\n",
       "    }\n",
       "\n",
       "    .dataframe thead th {\n",
       "        text-align: right;\n",
       "    }\n",
       "</style>\n",
       "<table border=\"1\" class=\"dataframe\">\n",
       "  <thead>\n",
       "    <tr style=\"text-align: right;\">\n",
       "      <th></th>\n",
       "      <th>cum</th>\n",
       "      <th>answerCode</th>\n",
       "    </tr>\n",
       "  </thead>\n",
       "  <tbody>\n",
       "    <tr>\n",
       "      <th>cum</th>\n",
       "      <td>1.000000</td>\n",
       "      <td>0.012336</td>\n",
       "    </tr>\n",
       "    <tr>\n",
       "      <th>answerCode</th>\n",
       "      <td>0.012336</td>\n",
       "      <td>1.000000</td>\n",
       "    </tr>\n",
       "  </tbody>\n",
       "</table>\n",
       "</div>"
      ],
      "text/plain": [
       "                 cum  answerCode\n",
       "cum         1.000000    0.012336\n",
       "answerCode  0.012336    1.000000"
      ]
     },
     "execution_count": 609,
     "metadata": {},
     "output_type": "execute_result"
    }
   ],
   "source": [
    "train_df[['cum', 'answerCode']].corr()"
   ]
  },
  {
   "cell_type": "code",
   "execution_count": 610,
   "id": "0331368d-c0b2-46b7-ae5b-d0eb2e3ed416",
   "metadata": {},
   "outputs": [],
   "source": [
    "train_df['tag_cum'] = train_df.groupby(['userID', 'KnowledgeTag']).cumcount()"
   ]
  },
  {
   "cell_type": "code",
   "execution_count": 611,
   "id": "74142a50-29f4-4e43-ac24-b4e693aee81c",
   "metadata": {},
   "outputs": [
    {
     "data": {
      "text/html": [
       "<div>\n",
       "<style scoped>\n",
       "    .dataframe tbody tr th:only-of-type {\n",
       "        vertical-align: middle;\n",
       "    }\n",
       "\n",
       "    .dataframe tbody tr th {\n",
       "        vertical-align: top;\n",
       "    }\n",
       "\n",
       "    .dataframe thead th {\n",
       "        text-align: right;\n",
       "    }\n",
       "</style>\n",
       "<table border=\"1\" class=\"dataframe\">\n",
       "  <thead>\n",
       "    <tr style=\"text-align: right;\">\n",
       "      <th></th>\n",
       "      <th>tag_cum</th>\n",
       "      <th>answerCode</th>\n",
       "    </tr>\n",
       "  </thead>\n",
       "  <tbody>\n",
       "    <tr>\n",
       "      <th>tag_cum</th>\n",
       "      <td>1.000000</td>\n",
       "      <td>-0.017581</td>\n",
       "    </tr>\n",
       "    <tr>\n",
       "      <th>answerCode</th>\n",
       "      <td>-0.017581</td>\n",
       "      <td>1.000000</td>\n",
       "    </tr>\n",
       "  </tbody>\n",
       "</table>\n",
       "</div>"
      ],
      "text/plain": [
       "             tag_cum  answerCode\n",
       "tag_cum     1.000000   -0.017581\n",
       "answerCode -0.017581    1.000000"
      ]
     },
     "execution_count": 611,
     "metadata": {},
     "output_type": "execute_result"
    }
   ],
   "source": [
    "train_df[['tag_cum', 'answerCode']].corr()"
   ]
  },
  {
   "cell_type": "code",
   "execution_count": 632,
   "id": "3252343b-7475-4a94-b119-ca5512ad47d1",
   "metadata": {
    "tags": []
   },
   "outputs": [],
   "source": [
    "g_unique = train_df.groupby('userID').grade.nunique().reset_index()\n",
    "g_unique = g_unique.rename(columns={'grade':'gunique'})"
   ]
  },
  {
   "cell_type": "code",
   "execution_count": 637,
   "id": "29b96b40-6ee5-4666-adb9-9baac83b8d9d",
   "metadata": {},
   "outputs": [],
   "source": [
    "train_df = train_df.merge(g_unique, on=['userID'])"
   ]
  }
 ],
 "metadata": {
  "kernelspec": {
   "display_name": "Python 3",
   "language": "python",
   "name": "python3"
  },
  "language_info": {
   "codemirror_mode": {
    "name": "ipython",
    "version": 3
   },
   "file_extension": ".py",
   "mimetype": "text/x-python",
   "name": "python",
   "nbconvert_exporter": "python",
   "pygments_lexer": "ipython3",
   "version": "3.7.7"
  }
 },
 "nbformat": 4,
 "nbformat_minor": 5
}
