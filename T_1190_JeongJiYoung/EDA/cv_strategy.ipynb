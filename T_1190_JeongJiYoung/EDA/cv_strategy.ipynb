{
 "cells": [
  {
   "cell_type": "code",
   "execution_count": null,
   "id": "b9bfc521-3fd4-486f-9b52-d2cd3085a0a4",
   "metadata": {},
   "outputs": [],
   "source": [
    "import os\n",
    "import pandas as pd\n",
    "from datetime import datetime, timedelta\n",
    "import random\n",
    "import numpy as np\n",
    "import matplotlib.pyplot as plt"
   ]
  },
  {
   "cell_type": "code",
   "execution_count": null,
   "id": "8bdfd944-feef-4c24-96a8-8a79ce8522ee",
   "metadata": {},
   "outputs": [],
   "source": []
  },
  {
   "cell_type": "code",
   "execution_count": null,
   "id": "f3641042-b181-4afa-88f0-cd5a92102d4d",
   "metadata": {},
   "outputs": [],
   "source": [
    "train_file = 'train_data.csv'\n",
    "test_file = 'test_data.csv'\n",
    "\n",
    "data_path = '/opt/ml/input/data/train_dataset'\n",
    "train_path = os.path.join(data_path, train_file)\n",
    "test_path = os.path.join(data_path, test_file)"
   ]
  },
  {
   "cell_type": "code",
   "execution_count": null,
   "id": "c8e98429-d0b2-4400-b737-41225ad7a4c5",
   "metadata": {},
   "outputs": [],
   "source": [
    "train_df = pd.read_csv(train_path, parse_dates=['Timestamp'])\n",
    "test_df = pd.read_csv(test_path, parse_dates=['Timestamp'])"
   ]
  },
  {
   "cell_type": "code",
   "execution_count": null,
   "id": "ba324500-561e-4a47-adb5-efdf7ebb909e",
   "metadata": {},
   "outputs": [],
   "source": [
    "train_df['tmp_index'] = train_df.index"
   ]
  },
  {
   "cell_type": "code",
   "execution_count": null,
   "id": "dd951eda-0f75-4d33-9d3d-2f7380ee1464",
   "metadata": {},
   "outputs": [],
   "source": [
    "tmp_df = train_df[['userID', 'testId', 'Timestamp', 'tmp_index']].shift(1)"
   ]
  },
  {
   "cell_type": "code",
   "execution_count": null,
   "id": "7911c4b3-2393-4320-8104-be523ae40965",
   "metadata": {},
   "outputs": [],
   "source": [
    "tmp_df['tmp_index'] += 1"
   ]
  },
  {
   "cell_type": "code",
   "execution_count": null,
   "id": "07e88297-0eae-47c2-9b59-2d6c63a71134",
   "metadata": {},
   "outputs": [],
   "source": [
    "train_df = train_df.merge(tmp_df, how='left', on=['userID', 'testId', 'tmp_index'])"
   ]
  },
  {
   "cell_type": "code",
   "execution_count": null,
   "id": "16d7212f-67ab-4b89-971f-d3d71f3b3956",
   "metadata": {},
   "outputs": [],
   "source": [
    "train_df['prior_elapsed'] = (train_df.Timestamp_x - train_df.Timestamp_y).dt.seconds"
   ]
  },
  {
   "cell_type": "code",
   "execution_count": null,
   "id": "5fbff87f-fb84-4b58-8486-8b0df41601c7",
   "metadata": {},
   "outputs": [],
   "source": [
    "train_df['prior_elapsed'].plot(kind='kde')\n"
   ]
  },
  {
   "cell_type": "code",
   "execution_count": null,
   "id": "80dcdfcc-1205-466e-aee7-48b0c76b07aa",
   "metadata": {},
   "outputs": [],
   "source": [
    "train_df['log_prior'] = np.log1p(train_df['prior_elapsed'])"
   ]
  },
  {
   "cell_type": "code",
   "execution_count": null,
   "id": "75e8184e-6e80-4671-9fb3-3e6ce88da8f4",
   "metadata": {},
   "outputs": [],
   "source": [
    "train_df['log_prior'].plot(kind='kde')"
   ]
  },
  {
   "cell_type": "code",
   "execution_count": null,
   "id": "525fd332-7bc5-4811-ada3-02f13e54ae33",
   "metadata": {},
   "outputs": [],
   "source": [
    "Q1 = train_df['prior_elapsed'].quantile(0.25)\n",
    "Q3 = train_df['prior_elapsed'].quantile(0.75)"
   ]
  },
  {
   "cell_type": "code",
   "execution_count": null,
   "id": "250b7c86-03e5-4b78-b666-5a7ef5b08c30",
   "metadata": {},
   "outputs": [],
   "source": [
    "Q1"
   ]
  },
  {
   "cell_type": "code",
   "execution_count": null,
   "id": "070e5fff-4ef4-4f9e-9c0e-5e05c59bab62",
   "metadata": {},
   "outputs": [],
   "source": [
    "Q3"
   ]
  },
  {
   "cell_type": "code",
   "execution_count": null,
   "id": "86adb37d-e25b-4c65-a284-7caffd08774f",
   "metadata": {},
   "outputs": [],
   "source": [
    "len(train_df)"
   ]
  },
  {
   "cell_type": "code",
   "execution_count": null,
   "id": "7f0e8d1b-fb5d-40b0-80c6-8c29392865c4",
   "metadata": {},
   "outputs": [],
   "source": [
    "(train_df['prior_elapsed'] > 65).sum()"
   ]
  },
  {
   "cell_type": "code",
   "execution_count": null,
   "id": "55aacef7-79bb-4be9-b5fe-e2b43cafe402",
   "metadata": {},
   "outputs": [],
   "source": [
    "470314/ 2266586"
   ]
  },
  {
   "cell_type": "code",
   "execution_count": null,
   "id": "8e8011b1-ae85-42d5-82c2-7613b1bb809b",
   "metadata": {},
   "outputs": [],
   "source": [
    "IQR = Q3 - Q1"
   ]
  },
  {
   "cell_type": "code",
   "execution_count": null,
   "id": "1c1db613-0a5f-4c10-a43d-6581dd440b50",
   "metadata": {},
   "outputs": [],
   "source": [
    "IQR"
   ]
  },
  {
   "cell_type": "code",
   "execution_count": null,
   "id": "93bead55-aa89-4f89-b0ac-e52787e1024c",
   "metadata": {},
   "outputs": [],
   "source": [
    "low_bound = Q1 - 1.5 * IQR \n",
    "upper_bound = Q3 + 1.5 * IQR"
   ]
  },
  {
   "cell_type": "code",
   "execution_count": null,
   "id": "33b7c228-8dbd-4499-9a99-6ddfcc1adcf0",
   "metadata": {},
   "outputs": [],
   "source": [
    "low_bound"
   ]
  },
  {
   "cell_type": "code",
   "execution_count": null,
   "id": "941bbc53-3161-4e64-a130-c9bcc13cf84e",
   "metadata": {},
   "outputs": [],
   "source": [
    "upper_bound"
   ]
  },
  {
   "cell_type": "code",
   "execution_count": null,
   "id": "0a8c996e-13ee-496d-92b8-e35fe3f4c21b",
   "metadata": {},
   "outputs": [],
   "source": [
    "(train_df['prior_elapsed'] > upper_bound).sum()"
   ]
  },
  {
   "cell_type": "code",
   "execution_count": null,
   "id": "c0abd81d-36fc-41c8-bed3-6c280a7e95e9",
   "metadata": {},
   "outputs": [],
   "source": [
    "193417 / 2266586"
   ]
  },
  {
   "cell_type": "code",
   "execution_count": null,
   "id": "bb1021fb-8fda-4dc0-b6e7-ba785ac07f54",
   "metadata": {},
   "outputs": [],
   "source": [
    "Q99 = train_df['prior_elapsed'].quantile(0.98)"
   ]
  },
  {
   "cell_type": "code",
   "execution_count": null,
   "id": "f7dc4b39-eb55-4b48-914b-f2a9c745ed0b",
   "metadata": {},
   "outputs": [],
   "source": [
    "Q99"
   ]
  },
  {
   "cell_type": "code",
   "execution_count": null,
   "id": "e23f8657-180e-4682-b7e9-a98226957144",
   "metadata": {},
   "outputs": [],
   "source": [
    "train_df['prior_elapsed'].median()"
   ]
  },
  {
   "cell_type": "code",
   "execution_count": null,
   "id": "844375f3-9037-4a28-b1f1-ac721461f715",
   "metadata": {},
   "outputs": [],
   "source": [
    "train_df[train_df['prior_elapsed'] <= 260]['prior_elapsed'].median()"
   ]
  },
  {
   "cell_type": "code",
   "execution_count": null,
   "id": "bf7502e3-166f-4da9-8b6d-b21bd9cd5062",
   "metadata": {},
   "outputs": [],
   "source": []
  },
  {
   "cell_type": "code",
   "execution_count": null,
   "id": "2510fc89-7493-453d-a6cb-661d783d60d1",
   "metadata": {},
   "outputs": [],
   "source": [
    "train_df.groupby('assessmentItemID')['prior_elapsed'].get_group('A010001001')"
   ]
  },
  {
   "cell_type": "code",
   "execution_count": null,
   "id": "826adec3-8602-4277-ba15-c0fd00f9ec1b",
   "metadata": {},
   "outputs": [],
   "source": []
  },
  {
   "cell_type": "code",
   "execution_count": null,
   "id": "6781ba62-d784-4624-b2a4-75cabcaa9b89",
   "metadata": {},
   "outputs": [],
   "source": [
    "train_df.loc[train_df['assessmentItemID'] == 'A010001001']"
   ]
  },
  {
   "cell_type": "code",
   "execution_count": null,
   "id": "321bba7f-8814-4bf8-bd45-3f889cd1d59a",
   "metadata": {},
   "outputs": [],
   "source": [
    "assess_time = train_df.groupby('assessmentItemID').prior_elapsed.mean()\n",
    "assess_time.name = 'mean_elapsed'"
   ]
  },
  {
   "cell_type": "code",
   "execution_count": null,
   "id": "c4ec0564-f03c-4ea4-9df3-582d49e5d054",
   "metadata": {},
   "outputs": [],
   "source": [
    "assess_time"
   ]
  },
  {
   "cell_type": "code",
   "execution_count": null,
   "id": "8fa2445e-1679-444e-bf8b-1f23f55bc2e8",
   "metadata": {},
   "outputs": [],
   "source": [
    "a = train_df.groupby('testId').prior_elapsed.mean()"
   ]
  },
  {
   "cell_type": "code",
   "execution_count": null,
   "id": "283a1caa-2c30-47b3-93a2-d0be00b2fbb6",
   "metadata": {},
   "outputs": [],
   "source": [
    "a.name = 'test_time'"
   ]
  },
  {
   "cell_type": "code",
   "execution_count": null,
   "id": "845650ac-f5b1-42b3-b2a1-b17907e51ed9",
   "metadata": {},
   "outputs": [],
   "source": [
    "a"
   ]
  },
  {
   "cell_type": "code",
   "execution_count": null,
   "id": "6ec8efba-9a10-488b-a0f8-ab4ff0cc8f0b",
   "metadata": {},
   "outputs": [],
   "source": [
    "train_df = train_df.merge(a, how='left', on='testId')"
   ]
  },
  {
   "cell_type": "code",
   "execution_count": null,
   "id": "5797fa7b-5920-4cde-9dff-2c885d39f0b8",
   "metadata": {},
   "outputs": [],
   "source": []
  },
  {
   "cell_type": "code",
   "execution_count": null,
   "id": "2caaa80e-146f-40a1-ad28-12f4e6bb7482",
   "metadata": {},
   "outputs": [],
   "source": []
  },
  {
   "cell_type": "code",
   "execution_count": null,
   "id": "b9a8f2cc-7e97-4b32-9781-720dc668af8b",
   "metadata": {},
   "outputs": [],
   "source": [
    "train_df['test_mean'] = train_df.groupby('testId').prior_elapsed.transform(lambda x:x.mean())"
   ]
  },
  {
   "cell_type": "code",
   "execution_count": null,
   "id": "899a9bce-2c9c-48c9-ad54-219e32d244d3",
   "metadata": {},
   "outputs": [],
   "source": [
    "train_df[['answerCode', 'test_mean']].corr()"
   ]
  },
  {
   "cell_type": "code",
   "execution_count": null,
   "id": "a624be25-f700-47d2-8ccd-4e65a6510cc1",
   "metadata": {},
   "outputs": [],
   "source": [
    "train_df['test_mean'].plot(kind='kde')"
   ]
  },
  {
   "cell_type": "code",
   "execution_count": null,
   "id": "5da29b5e-c954-44d1-bbb7-0a6c34a811e0",
   "metadata": {},
   "outputs": [],
   "source": [
    "train_df['log_test_mean'] = np.log1p(train_df['test_mean'])"
   ]
  },
  {
   "cell_type": "code",
   "execution_count": null,
   "id": "3fbae873-f433-41ab-8f97-4fae822b0f24",
   "metadata": {},
   "outputs": [],
   "source": [
    "train_df['log_test_mean'].plot(kind='kde')"
   ]
  },
  {
   "cell_type": "code",
   "execution_count": null,
   "id": "ab8ccb01-166a-4cdc-8dca-b058a1819049",
   "metadata": {},
   "outputs": [],
   "source": [
    "train_df[['answerCode', 'log_test_mean']].corr()"
   ]
  },
  {
   "cell_type": "code",
   "execution_count": null,
   "id": "47d6a94e-caca-4fa5-b3d1-3bffe07981bd",
   "metadata": {},
   "outputs": [],
   "source": []
  },
  {
   "cell_type": "code",
   "execution_count": null,
   "id": "0d4a5775-417f-4b05-a1c8-210bc86b287f",
   "metadata": {},
   "outputs": [],
   "source": []
  },
  {
   "cell_type": "code",
   "execution_count": null,
   "id": "399c0060-ac03-40c3-b7e1-791cecbd2f8a",
   "metadata": {},
   "outputs": [],
   "source": []
  },
  {
   "cell_type": "code",
   "execution_count": null,
   "id": "821cd908-7895-42c0-b8e4-b618abeaa031",
   "metadata": {},
   "outputs": [],
   "source": []
  },
  {
   "cell_type": "code",
   "execution_count": null,
   "id": "4a35d7e8-c134-48a6-803f-9f63ef93544d",
   "metadata": {
    "tags": []
   },
   "outputs": [],
   "source": [
    "data = train_df.groupby(['userID', 'answerCode', 'Timestamp']).apply(\n",
    "    lambda x: (\n",
    "        x['answerCode'].values,\n",
    "        x['Timestamp'].values,\n",
    "    )\n",
    ")"
   ]
  },
  {
   "cell_type": "code",
   "execution_count": null,
   "id": "63359e5f-59d2-4536-85ce-001365502cb5",
   "metadata": {},
   "outputs": [],
   "source": [
    "random.seed(42)\n",
    "random.shuffle(data)"
   ]
  },
  {
   "cell_type": "code",
   "execution_count": null,
   "id": "af51aeee-6500-425c-8bf7-b98a0b8450c6",
   "metadata": {},
   "outputs": [],
   "source": [
    "size = int(len(data) * 0.7)\n",
    "data_1 = data[:size]\n",
    "data_2 = data[size:]"
   ]
  },
  {
   "cell_type": "code",
   "execution_count": null,
   "id": "8f4d46ca-115d-4c44-94ca-af69e8ec3931",
   "metadata": {},
   "outputs": [],
   "source": [
    "# train / val 의 마지막 정답비율을 일치시킨다"
   ]
  },
  {
   "cell_type": "code",
   "execution_count": null,
   "id": "72cae70c-6481-4d63-806f-96fed34f0bba",
   "metadata": {},
   "outputs": [],
   "source": [
    "\n",
    "total = np.array([])\n",
    "for user in data_1:\n",
    "    answer = user[1][-1]\n",
    "    total = np.append(total, answer)\n",
    "    "
   ]
  },
  {
   "cell_type": "code",
   "execution_count": null,
   "id": "8c2d752e-c6f5-4193-8fe5-cf901c0ffda6",
   "metadata": {},
   "outputs": [],
   "source": [
    "total.mean()"
   ]
  },
  {
   "cell_type": "code",
   "execution_count": null,
   "id": "2e574d2c-1ece-4e10-9b5c-1f34c73807af",
   "metadata": {},
   "outputs": [],
   "source": [
    "total = np.array([])\n",
    "for user in data_2:\n",
    "    answer = user[1][-1]\n",
    "    total = np.append(total, answer)\n"
   ]
  },
  {
   "cell_type": "code",
   "execution_count": null,
   "id": "dbba564e-9d55-42af-ad6b-f81b1fede87f",
   "metadata": {},
   "outputs": [],
   "source": [
    "total.mean()"
   ]
  },
  {
   "cell_type": "code",
   "execution_count": null,
   "id": "19ccfdbf-7fde-47d9-854f-a8d0f1420930",
   "metadata": {},
   "outputs": [],
   "source": [
    "train_df.groupby('userID').answerCode.last().mean()"
   ]
  },
  {
   "cell_type": "code",
   "execution_count": null,
   "id": "3cbd0d89-c641-464a-bcd3-80b22cdb945a",
   "metadata": {},
   "outputs": [],
   "source": [
    "(x for x in range(10))"
   ]
  },
  {
   "cell_type": "code",
   "execution_count": null,
   "id": "91fc6743-0f4a-4b3c-8a97-887181fabe48",
   "metadata": {},
   "outputs": [],
   "source": []
  },
  {
   "cell_type": "code",
   "execution_count": null,
   "id": "96d566b6-88f4-406f-bf0b-4f507a5e030c",
   "metadata": {},
   "outputs": [],
   "source": []
  },
  {
   "cell_type": "code",
   "execution_count": null,
   "id": "c1d0f46c-2739-4291-850d-9f446c5ddfd6",
   "metadata": {},
   "outputs": [],
   "source": [
    "last_assess = train_df.groupby(['userID']).last()['assessmentItemID'].reset_index()"
   ]
  },
  {
   "cell_type": "code",
   "execution_count": null,
   "id": "7b99cefb-6a35-4e95-a48b-76a8bc796b10",
   "metadata": {},
   "outputs": [],
   "source": [
    "train_df.loc[ (train_df['userID'] == 7436) & (train_df['assessmentItemID'] == 'A030019001') ]"
   ]
  },
  {
   "cell_type": "code",
   "execution_count": null,
   "id": "3e463fcd-1845-42a0-add5-8cc0a3ddbe02",
   "metadata": {
    "tags": []
   },
   "outputs": [],
   "source": [
    "all_right = 0\n",
    "better_right = 0\n",
    "worse_fail = 0\n",
    "all_fail = 0\n",
    "\n",
    "for i, val in last_assess.iterrows():\n",
    "    bb = train_df.loc[ (train_df['userID'] == val.userID) & (train_df['assessmentItemID'] == val.assessmentItemID) ]\n",
    "    if len(bb) > 1:\n",
    "        answerCode = bb.iloc[-1]['answerCode']\n",
    "        prior_answerCode = bb.iloc[-2]['answerCode']\n",
    "        \n",
    "        if prior_answerCode == 0:\n",
    "            if answerCode == 1:\n",
    "                better_right += 1\n",
    "            else:\n",
    "                all_fail += 1\n",
    "        else:\n",
    "            if answerCode == 1:\n",
    "                all_right += 1\n",
    "            else:\n",
    "                worse_fail += 1\n"
   ]
  },
  {
   "cell_type": "code",
   "execution_count": null,
   "id": "4f5910df-41fc-4eca-b68b-d666963efeac",
   "metadata": {},
   "outputs": [],
   "source": [
    "all_right"
   ]
  },
  {
   "cell_type": "code",
   "execution_count": null,
   "id": "a7358657-69c6-417c-a856-619ad2824ab5",
   "metadata": {},
   "outputs": [],
   "source": [
    "better_right"
   ]
  },
  {
   "cell_type": "code",
   "execution_count": null,
   "id": "dc0725e6-2422-421b-9754-675a78fba711",
   "metadata": {},
   "outputs": [],
   "source": [
    "worse_fail"
   ]
  },
  {
   "cell_type": "code",
   "execution_count": null,
   "id": "a55d27f7-0306-419d-82d0-8f765b929223",
   "metadata": {},
   "outputs": [],
   "source": [
    "all_fail"
   ]
  },
  {
   "cell_type": "code",
   "execution_count": null,
   "id": "98a8d625-36ff-4486-868d-2076ebcf24df",
   "metadata": {},
   "outputs": [],
   "source": [
    "36 / (45+36+36+30)"
   ]
  },
  {
   "cell_type": "code",
   "execution_count": null,
   "id": "b161abff-1304-426a-98bc-0df97999ef86",
   "metadata": {},
   "outputs": [],
   "source": []
  },
  {
   "cell_type": "code",
   "execution_count": null,
   "id": "e3603e70-a576-4e9e-b151-cc0a826ae0ca",
   "metadata": {},
   "outputs": [],
   "source": []
  },
  {
   "cell_type": "code",
   "execution_count": null,
   "id": "959d0953-2b94-4580-b30b-fea40bd52f67",
   "metadata": {},
   "outputs": [],
   "source": [
    "last_assess"
   ]
  },
  {
   "cell_type": "code",
   "execution_count": null,
   "id": "f507517c-e385-48b1-bcd7-1835e4954a60",
   "metadata": {},
   "outputs": [],
   "source": [
    "from sklearn.model_selection import train_test_split"
   ]
  },
  {
   "cell_type": "code",
   "execution_count": null,
   "id": "4ea9513b-eb8f-4f2d-a71e-63d2eda45512",
   "metadata": {},
   "outputs": [],
   "source": [
    "train_df['grade'] = train_df.testId.str[2]"
   ]
  },
  {
   "cell_type": "code",
   "execution_count": null,
   "id": "0f227050-90cb-45df-a0d4-e4b9c6ae20be",
   "metadata": {},
   "outputs": [],
   "source": [
    "train_df['grade'] = train_df['grade'].astype(int)"
   ]
  },
  {
   "cell_type": "code",
   "execution_count": null,
   "id": "21c7dcf2-bb0a-40fc-9d92-62727c838eb6",
   "metadata": {},
   "outputs": [],
   "source": [
    "train_df.groupby('userID').grade.mean()"
   ]
  },
  {
   "cell_type": "code",
   "execution_count": null,
   "id": "939eb723-6fc8-4459-94c7-33049268973f",
   "metadata": {},
   "outputs": [],
   "source": [
    "len(train_df.groupby('userID').grade.mean())"
   ]
  },
  {
   "cell_type": "code",
   "execution_count": null,
   "id": "19ab7b2b-3e9c-48d2-a505-c3edc727c5b4",
   "metadata": {},
   "outputs": [],
   "source": [
    "st = np.random.randint(10, size=(6698,2))"
   ]
  },
  {
   "cell_type": "code",
   "execution_count": null,
   "id": "cbaeef7a-85a1-408b-a6b0-483161625248",
   "metadata": {},
   "outputs": [],
   "source": [
    "st"
   ]
  },
  {
   "cell_type": "code",
   "execution_count": null,
   "id": "06be28b0-dfb3-42ae-9a34-1cab09fa2977",
   "metadata": {},
   "outputs": [],
   "source": [
    "st"
   ]
  },
  {
   "cell_type": "code",
   "execution_count": null,
   "id": "e3a54ab3-9269-4403-8f6b-624144d9bc23",
   "metadata": {},
   "outputs": [],
   "source": [
    "t, v = train_test_split(train_df.groupby('userID').grade.mean(), train_size=0.7, stratify=st)"
   ]
  },
  {
   "cell_type": "code",
   "execution_count": null,
   "id": "6e20c1d0-2a0f-4572-9722-0c16a7691d48",
   "metadata": {},
   "outputs": [],
   "source": [
    "t"
   ]
  },
  {
   "cell_type": "code",
   "execution_count": null,
   "id": "d8deea05-dd9f-4e09-bd44-37adf7d6f290",
   "metadata": {},
   "outputs": [],
   "source": [
    "v"
   ]
  },
  {
   "cell_type": "code",
   "execution_count": null,
   "id": "921c6fbc-9037-4ad5-b3c0-5e7d348af711",
   "metadata": {},
   "outputs": [],
   "source": [
    "len(t) / (len(t) + len(v))"
   ]
  },
  {
   "cell_type": "code",
   "execution_count": null,
   "id": "99681680-4142-4709-9a57-fba604ae9dd8",
   "metadata": {},
   "outputs": [],
   "source": [
    "train_df.iloc[v].grade.mean()"
   ]
  },
  {
   "cell_type": "code",
   "execution_count": null,
   "id": "9916293f-ed87-4295-8ee4-21e774229056",
   "metadata": {},
   "outputs": [],
   "source": [
    "train_df.iloc[t].grade.mean()"
   ]
  },
  {
   "cell_type": "code",
   "execution_count": null,
   "id": "afd1b0a8-26b0-45c2-9f42-c2007006d14a",
   "metadata": {},
   "outputs": [],
   "source": [
    "train_df.groupby('userID').grade.mean()"
   ]
  },
  {
   "cell_type": "code",
   "execution_count": null,
   "id": "02ada1d5-8c03-4078-8425-a8ef4b0a9859",
   "metadata": {},
   "outputs": [],
   "source": []
  },
  {
   "cell_type": "code",
   "execution_count": null,
   "id": "2a931b7d-5285-4184-9eb7-b1948d4be15f",
   "metadata": {},
   "outputs": [],
   "source": [
    "test_df.head(1)"
   ]
  },
  {
   "cell_type": "code",
   "execution_count": null,
   "id": "a85e5ee6-7ee2-4907-8b06-bdf17ca01a2f",
   "metadata": {},
   "outputs": [],
   "source": [
    "user_group = test_df.groupby('userID')\n",
    "\n",
    "test_df['grade'] = test_df.testId.str[2]\n",
    "\n",
    "test_df['grade'] = test_df['grade'].astype(int)"
   ]
  },
  {
   "cell_type": "code",
   "execution_count": null,
   "id": "dc2116aa-141d-4b2d-92cd-85d129a6d9ae",
   "metadata": {},
   "outputs": [],
   "source": [
    "user_group.last().grade.plot(kind='kde')"
   ]
  },
  {
   "cell_type": "code",
   "execution_count": null,
   "id": "eeea6e50-a68d-4d84-af71-ee49cb9e9659",
   "metadata": {},
   "outputs": [],
   "source": [
    "user_group.answerCode.mean().plot(kind='kde')\n",
    "plt.axvline(user_group.answerCode.mean().median())"
   ]
  },
  {
   "cell_type": "code",
   "execution_count": null,
   "id": "8a33ac04-adf2-4cf0-908f-4d7d000ff064",
   "metadata": {},
   "outputs": [],
   "source": [
    "user_group.answerCode.mean().mean()"
   ]
  },
  {
   "cell_type": "code",
   "execution_count": null,
   "id": "16803a80-94c4-48e9-9810-7e80b4905758",
   "metadata": {},
   "outputs": [],
   "source": [
    "user_group.answerCode.mean().median()"
   ]
  },
  {
   "cell_type": "code",
   "execution_count": null,
   "id": "aa13c541-d0d4-47a9-b68b-6958f003ee42",
   "metadata": {},
   "outputs": [],
   "source": [
    "user_group = train_df.groupby('userID')\n",
    "\n",
    "train_df['grade'] = train_df.testId.str[2]\n",
    "\n",
    "train_df['grade'] = train_df['grade'].astype(int)"
   ]
  },
  {
   "cell_type": "code",
   "execution_count": null,
   "id": "bdf6664b-48d6-4fae-b7ba-ccaa8a5ec321",
   "metadata": {},
   "outputs": [],
   "source": [
    "user_group.answerCode.mean().plot(kind='kde')\n",
    "plt.axvline(user_group.answerCode.mean().median())"
   ]
  },
  {
   "cell_type": "code",
   "execution_count": null,
   "id": "af2db9ef-1d34-47d8-b0e0-39180c388885",
   "metadata": {},
   "outputs": [],
   "source": [
    "user_group.answerCode.last().plot(kind='kde')\n",
    "# plt.axvline(user_group.answerCode.last().median())"
   ]
  },
  {
   "cell_type": "code",
   "execution_count": null,
   "id": "52a1e541-5357-435f-9c21-64247c90902c",
   "metadata": {},
   "outputs": [],
   "source": [
    "r = user_group.answerCode.last()"
   ]
  },
  {
   "cell_type": "code",
   "execution_count": null,
   "id": "eb1815d9-bf74-4cf5-a151-f9785e3a592d",
   "metadata": {},
   "outputs": [],
   "source": [
    "r.describe()"
   ]
  },
  {
   "cell_type": "code",
   "execution_count": null,
   "id": "923f3cab-70e0-472a-8256-9984bddaa461",
   "metadata": {},
   "outputs": [],
   "source": [
    "user_group.count().grade.plot(kind='kde')"
   ]
  },
  {
   "cell_type": "code",
   "execution_count": null,
   "id": "20d4ad0c-74f6-4181-a95e-0fb3bd516272",
   "metadata": {},
   "outputs": [],
   "source": [
    "test_group = test_df.groupby('userID')"
   ]
  },
  {
   "cell_type": "code",
   "execution_count": null,
   "id": "a4a74dcf-1798-4600-9305-1a0ddd616511",
   "metadata": {},
   "outputs": [],
   "source": [
    "test_group.count().grade.plot(kind='kde')"
   ]
  },
  {
   "cell_type": "code",
   "execution_count": null,
   "id": "2af443a9-33f3-4c1e-aa2e-8c0ec35d230a",
   "metadata": {},
   "outputs": [],
   "source": [
    "### big mean을 맞춰라"
   ]
  },
  {
   "cell_type": "code",
   "execution_count": null,
   "id": "41e96468-4788-49ab-a031-fef940a591e6",
   "metadata": {},
   "outputs": [],
   "source": [
    "train_df['big'] = train_df.testId.str[2].astype(int)\n",
    "test_df['big'] = test_df.testId.str[2].astype(int)"
   ]
  },
  {
   "cell_type": "code",
   "execution_count": null,
   "id": "60f9973a-d983-43b6-ba98-89c7ef3ef1d0",
   "metadata": {},
   "outputs": [],
   "source": [
    "train_df.groupby('big').answerCode.mean()"
   ]
  },
  {
   "cell_type": "code",
   "execution_count": null,
   "id": "ca5c8de9-442b-4de8-bccd-0bfb1ade2f4d",
   "metadata": {},
   "outputs": [],
   "source": [
    "test_df.groupby('big').answerCode.mean()"
   ]
  },
  {
   "cell_type": "code",
   "execution_count": null,
   "id": "4df8de8f-bb7f-4494-aa63-521b14b6b24f",
   "metadata": {},
   "outputs": [],
   "source": [
    "plt.plot(train_df.groupby('big').answerCode.mean())\n",
    "plt.plot(test_df.groupby('big').answerCode.mean())"
   ]
  },
  {
   "cell_type": "code",
   "execution_count": null,
   "id": "e8354cab-9ba4-45ee-8458-8b3a4f744a4f",
   "metadata": {},
   "outputs": [],
   "source": [
    "train_df.big.value_counts()"
   ]
  },
  {
   "cell_type": "code",
   "execution_count": null,
   "id": "9dda7fd9-96f3-481e-b4ef-092d34d9ce7b",
   "metadata": {},
   "outputs": [],
   "source": [
    "train_df.big.value_counts() / len(train_df)"
   ]
  },
  {
   "cell_type": "code",
   "execution_count": null,
   "id": "22c626f8-8365-4997-97bb-192f3938d12e",
   "metadata": {},
   "outputs": [],
   "source": [
    "test_df.big.value_counts()"
   ]
  },
  {
   "cell_type": "code",
   "execution_count": null,
   "id": "d330ea1d-5859-4217-948b-8a9e951e7fd3",
   "metadata": {},
   "outputs": [],
   "source": [
    "test_df.big.value_counts() / len(test_df)"
   ]
  },
  {
   "cell_type": "code",
   "execution_count": null,
   "id": "05b5ffe4-1739-4f40-9a0a-5c5b6ff2e717",
   "metadata": {},
   "outputs": [],
   "source": [
    "test_df.groupby(['big']).answerCode.mean()"
   ]
  },
  {
   "cell_type": "code",
   "execution_count": null,
   "id": "54165822-068d-4229-8724-f6006b7e6554",
   "metadata": {},
   "outputs": [],
   "source": [
    "train_df['split'] = (train_df['big']*10 + train_df['answerCode']).astype(int)"
   ]
  },
  {
   "cell_type": "code",
   "execution_count": null,
   "id": "9e0a9b3e-ccad-4251-9d04-c5d8ceacd8df",
   "metadata": {},
   "outputs": [],
   "source": [
    "len(train_df) * 0.2 * 0.047152"
   ]
  },
  {
   "cell_type": "code",
   "execution_count": null,
   "id": "40065140-503d-4486-9741-35b852b04d97",
   "metadata": {},
   "outputs": [],
   "source": [
    "21375 / 119385"
   ]
  },
  {
   "cell_type": "code",
   "execution_count": null,
   "id": "72ee3466-589e-498c-8930-04a9b4e0b1a6",
   "metadata": {},
   "outputs": [],
   "source": [
    "len(train_df) * 0.2 * 0.047152 * 0.498492"
   ]
  },
  {
   "cell_type": "code",
   "execution_count": null,
   "id": "15f1ac3f-9ab3-4abd-b105-225417649579",
   "metadata": {},
   "outputs": [],
   "source": [
    "0.2 * 0.047152 * 0.498492"
   ]
  },
  {
   "cell_type": "code",
   "execution_count": null,
   "id": "348bfe55-6af9-4b2c-86b1-ba4dcefccf7c",
   "metadata": {},
   "outputs": [],
   "source": [
    "from sklearn.model_selection import train_test_split"
   ]
  },
  {
   "cell_type": "code",
   "execution_count": null,
   "id": "d26910bd-76a6-4f97-bff1-07d98c557323",
   "metadata": {},
   "outputs": [],
   "source": [
    "train_df.split.value_counts()"
   ]
  },
  {
   "cell_type": "code",
   "execution_count": null,
   "id": "8e7a8a7c-a585-4d56-9732-9be52fefdbc1",
   "metadata": {},
   "outputs": [],
   "source": [
    "train_df[train_df.split == 90]"
   ]
  },
  {
   "cell_type": "code",
   "execution_count": null,
   "id": "cd9e9d3b-dc76-44ba-aae3-dbd8ac5c07df",
   "metadata": {},
   "outputs": [],
   "source": [
    "t, v = train_test_split(train_df[train_df.split == 90], test_size=0.17)"
   ]
  },
  {
   "cell_type": "code",
   "execution_count": null,
   "id": "6af880d8-ae81-4966-95f1-1eff5587a8fb",
   "metadata": {},
   "outputs": [],
   "source": [
    "len(t)"
   ]
  },
  {
   "cell_type": "code",
   "execution_count": null,
   "id": "04791f10-b7ad-488e-9b92-85a0a499311b",
   "metadata": {},
   "outputs": [],
   "source": [
    "len(v)"
   ]
  },
  {
   "cell_type": "code",
   "execution_count": null,
   "id": "304fa0f8-e539-4c61-869b-0924f3f93ff6",
   "metadata": {},
   "outputs": [],
   "source": []
  },
  {
   "cell_type": "code",
   "execution_count": null,
   "id": "05207829-e0ff-4adb-8a57-163e6953c728",
   "metadata": {},
   "outputs": [],
   "source": [
    "### 구하기"
   ]
  },
  {
   "cell_type": "code",
   "execution_count": null,
   "id": "21f4bd0c-5f45-4c6c-b7ca-54293cda0926",
   "metadata": {},
   "outputs": [],
   "source": [
    "train_len = len(train_df)"
   ]
  },
  {
   "cell_type": "code",
   "execution_count": null,
   "id": "9414d791-f306-468f-a41c-133871229421",
   "metadata": {},
   "outputs": [],
   "source": [
    "test_count_ratio = (test_df.big.value_counts() / len(test_df)).sort_index()"
   ]
  },
  {
   "cell_type": "code",
   "execution_count": null,
   "id": "a6431939-e44e-4ab3-b6fe-a2bc3685e108",
   "metadata": {},
   "outputs": [],
   "source": [
    "test_count_ratio"
   ]
  },
  {
   "cell_type": "code",
   "execution_count": null,
   "id": "c0b903b8-a6f8-4a4b-a7c8-74a13d84c96b",
   "metadata": {},
   "outputs": [],
   "source": [
    "test_correct_ratio = test_df.groupby('big').answerCode.mean()"
   ]
  },
  {
   "cell_type": "code",
   "execution_count": null,
   "id": "bfd24411-37e6-4a93-8143-53e56ea96526",
   "metadata": {},
   "outputs": [],
   "source": [
    "test_correct_ratio"
   ]
  },
  {
   "cell_type": "code",
   "execution_count": null,
   "id": "8b0dded3-9f45-4aff-a6f4-a26b215cb3cf",
   "metadata": {},
   "outputs": [],
   "source": [
    "ratio = 0.5"
   ]
  },
  {
   "cell_type": "code",
   "execution_count": null,
   "id": "9d68ef59-64f1-400e-8931-3befa8c78059",
   "metadata": {},
   "outputs": [],
   "source": [
    "train_ratio = [0]\n",
    "valid_ratio = [0]\n",
    "for grade in range(1, 10):\n",
    "    count_needed = train_len * ratio * test_count_ratio[grade] * test_correct_ratio[grade]\n",
    "    train_ratio.append(count_needed / train_count[grade])\n",
    "    \n",
    "    count_needed = train_len * ratio * test_count_ratio[grade] * (1 - test_correct_ratio[grade])\n",
    "    valid_ratio.append(count_needed / train_count[grade])\n",
    "    "
   ]
  },
  {
   "cell_type": "code",
   "execution_count": null,
   "id": "af3f4530-32ff-4f70-9dcb-5e4e2f73b5c4",
   "metadata": {},
   "outputs": [],
   "source": [
    "train_ratio"
   ]
  },
  {
   "cell_type": "code",
   "execution_count": null,
   "id": "12d2a0dd-213b-4597-8ac4-d9d305e20533",
   "metadata": {},
   "outputs": [],
   "source": [
    "valid_ratio"
   ]
  },
  {
   "cell_type": "code",
   "execution_count": null,
   "id": "00ce4662-c13b-4608-b632-b1b744765f54",
   "metadata": {},
   "outputs": [],
   "source": [
    "grouped = train_df.groupby('userID').last()"
   ]
  },
  {
   "cell_type": "code",
   "execution_count": null,
   "id": "94db9d45-67a5-4650-be55-78d63bcd0a2b",
   "metadata": {},
   "outputs": [],
   "source": [
    "len(grouped)"
   ]
  },
  {
   "cell_type": "code",
   "execution_count": null,
   "id": "ce53e24e-ce1d-429d-9e75-3c5841999ea2",
   "metadata": {},
   "outputs": [],
   "source": [
    "train_set = []\n",
    "valid_set = []\n",
    "for grade in range(1, 10):\n",
    "    valid, train = train_test_split( train_df[train_df['split'] == (grade * 10)].index.values.tolist() , train_size=train_ratio[grade])\n",
    "    train_set += train\n",
    "    valid_set += valid\n",
    "    \n",
    "    valid, train = train_test_split( train_df[train_df['split'] == (grade * 10) + 1].index.values.tolist() , train_size=valid_ratio[grade])\n",
    "    train_set += train\n",
    "    valid_set += valid\n",
    "    \n",
    "    "
   ]
  },
  {
   "cell_type": "code",
   "execution_count": null,
   "id": "1abc0b00-d3c5-4f5b-a1c3-ab2164686b43",
   "metadata": {},
   "outputs": [],
   "source": [
    "train_df.iloc[train_set].shape"
   ]
  },
  {
   "cell_type": "code",
   "execution_count": null,
   "id": "2ebcfabc-af7a-466f-971a-79eb18032c96",
   "metadata": {},
   "outputs": [],
   "source": [
    "train_df.iloc[valid_set].shape"
   ]
  },
  {
   "cell_type": "code",
   "execution_count": null,
   "id": "32ef6129-38f1-421d-901e-1dd7ccd381e7",
   "metadata": {},
   "outputs": [],
   "source": [
    "len(valid_set)"
   ]
  },
  {
   "cell_type": "code",
   "execution_count": null,
   "id": "e3d49ad1-552e-4f00-a050-e1b106f8d52f",
   "metadata": {},
   "outputs": [],
   "source": [
    "len(train_df)"
   ]
  },
  {
   "cell_type": "code",
   "execution_count": null,
   "id": "f55d7ec2-a876-4dc2-8801-40b1c59aa925",
   "metadata": {},
   "outputs": [],
   "source": [
    "len(valid_set) / train_len"
   ]
  },
  {
   "cell_type": "code",
   "execution_count": null,
   "id": "5947518f-8a5d-442b-b211-b466016d79d6",
   "metadata": {},
   "outputs": [],
   "source": [
    "len(train_set) / train_len"
   ]
  },
  {
   "cell_type": "code",
   "execution_count": null,
   "id": "a2a36a80-1a75-4fcf-885f-4ae56e0b5c1b",
   "metadata": {},
   "outputs": [],
   "source": []
  },
  {
   "cell_type": "code",
   "execution_count": null,
   "id": "330ba30a-76b1-4e86-9cf2-94a034b20aaa",
   "metadata": {},
   "outputs": [],
   "source": [
    "###"
   ]
  },
  {
   "cell_type": "code",
   "execution_count": null,
   "id": "744f8607-2c0c-4c5d-b7f7-096263df2358",
   "metadata": {},
   "outputs": [],
   "source": [
    "last_index = test_df.groupby('userID').last().index"
   ]
  },
  {
   "cell_type": "code",
   "execution_count": null,
   "id": "1eed43df-6c84-4af3-8eb8-ffc4b08487b3",
   "metadata": {},
   "outputs": [],
   "source": [
    "drop_last = test_df.drop(index=last_index)"
   ]
  },
  {
   "cell_type": "code",
   "execution_count": null,
   "id": "2a02c2dd-da1b-49ef-9e96-1e572ba1d1a1",
   "metadata": {},
   "outputs": [],
   "source": [
    "drop_last.groupby('userID').answerCode.mean().mean()"
   ]
  },
  {
   "cell_type": "code",
   "execution_count": null,
   "id": "875eb732-fb77-4966-843b-b7d73f9eb472",
   "metadata": {},
   "outputs": [],
   "source": []
  },
  {
   "cell_type": "code",
   "execution_count": null,
   "id": "b219dc79-a913-4642-b716-ac232227bfdc",
   "metadata": {},
   "outputs": [],
   "source": []
  },
  {
   "cell_type": "code",
   "execution_count": null,
   "id": "2f3b660f-b646-4349-a279-02bcfeef63a8",
   "metadata": {},
   "outputs": [],
   "source": []
  },
  {
   "cell_type": "code",
   "execution_count": null,
   "id": "aab12751-08b2-4914-be98-026b74e1cf94",
   "metadata": {},
   "outputs": [],
   "source": [
    "train_df.groupby('userID').answerCode.mean().mean()"
   ]
  },
  {
   "cell_type": "code",
   "execution_count": null,
   "id": "35b4406b-ebc9-4ac9-8542-cbfd18e0577f",
   "metadata": {},
   "outputs": [],
   "source": [
    "t, v = train_test_split(train_df.userID.unique(), train_size=0.7, random_state=0)"
   ]
  },
  {
   "cell_type": "code",
   "execution_count": null,
   "id": "72599833-407e-4237-bdec-9896a8104333",
   "metadata": {},
   "outputs": [],
   "source": [
    "len(t)"
   ]
  },
  {
   "cell_type": "code",
   "execution_count": null,
   "id": "1cc8ca8f-6bb8-48d0-b503-2f9fac2149cb",
   "metadata": {},
   "outputs": [],
   "source": [
    "len(v)"
   ]
  },
  {
   "cell_type": "code",
   "execution_count": null,
   "id": "5d3aacff-37d3-435a-8f85-c08d88aeac4b",
   "metadata": {},
   "outputs": [],
   "source": [
    "train_df.loc[train_df['userID'].isin(t)].groupby('userID').answerCode.mean().mean()"
   ]
  },
  {
   "cell_type": "code",
   "execution_count": null,
   "id": "d0788acf-bf64-4105-b6cd-3449f8e5128f",
   "metadata": {},
   "outputs": [],
   "source": [
    "train_df.loc[~train_df['userID'].isin(v)].groupby('userID').answerCode.mean().mean()"
   ]
  },
  {
   "cell_type": "code",
   "execution_count": null,
   "id": "5197c106-d69b-4ee8-9c97-79f5e4415963",
   "metadata": {
    "tags": []
   },
   "outputs": [],
   "source": [
    "while True:\n",
    "    t, v = train_test_split(train_df.userID.unique(), train_size=0.7, random_state=0)\n",
    "    m = train_df.loc[~train_df['userID'].isin(v)].groupby('userID').answerCode.mean().mean()\n",
    "    if m > 0.605 and m < 0.615:\n",
    "        break"
   ]
  },
  {
   "cell_type": "code",
   "execution_count": null,
   "id": "c2b68e6a-b69c-456d-8dc9-9e3c1be01b66",
   "metadata": {},
   "outputs": [],
   "source": [
    "train_df['answer_mean'] = train_df.groupby('userID').answerCode.transform(lambda x: x.mean())"
   ]
  },
  {
   "cell_type": "code",
   "execution_count": null,
   "id": "172f98a9-744a-433a-a278-20cb26c68cab",
   "metadata": {},
   "outputs": [],
   "source": [
    "lasts = train_df.groupby('userID').last().reset_index()"
   ]
  },
  {
   "cell_type": "code",
   "execution_count": null,
   "id": "2b24ed4c-4de0-4f0e-95fc-8eb8f65f82cc",
   "metadata": {},
   "outputs": [],
   "source": [
    "prob = 0.\n",
    "user_ids = []"
   ]
  },
  {
   "cell_type": "code",
   "execution_count": null,
   "id": "2ecb1afc-5b3d-4742-8e38-1162460339c7",
   "metadata": {},
   "outputs": [],
   "source": [
    "upper_index = lasts[lasts.answer_mean > 0.61].index.tolist()\n",
    "under_index = lasts[lasts.answer_mean <= 0.61].index.tolist()"
   ]
  },
  {
   "cell_type": "code",
   "execution_count": null,
   "id": "00671e5c-efe3-4a39-b25b-5a7867c20128",
   "metadata": {},
   "outputs": [],
   "source": [
    "len(under_index)"
   ]
  },
  {
   "cell_type": "code",
   "execution_count": null,
   "id": "cd919f68-5bd4-4d01-9da5-3f32218abbeb",
   "metadata": {},
   "outputs": [],
   "source": [
    "len(upper_index)"
   ]
  },
  {
   "cell_type": "code",
   "execution_count": null,
   "id": "d8ac5cf5-9601-49d0-9466-24ecad5043a2",
   "metadata": {},
   "outputs": [],
   "source": [
    "for _ in range(int(len(lasts) * 0.2)):\n",
    "    if prob > 0.61:\n",
    "        i = under_index.pop(0)\n",
    "    else:\n",
    "        i = upper_index.pop(0)\n",
    "    \n",
    "    user_ids.append(i)\n",
    "    prob = lasts.iloc[user_ids].answer_mean.mean()\n",
    "    \n",
    "    "
   ]
  },
  {
   "cell_type": "code",
   "execution_count": null,
   "id": "64720e71-22fa-459a-b753-7e6fe5ae849c",
   "metadata": {},
   "outputs": [],
   "source": [
    "len(user_ids)"
   ]
  },
  {
   "cell_type": "code",
   "execution_count": null,
   "id": "c713f6c4-1024-41e5-9bbf-721d1d6f9ebf",
   "metadata": {},
   "outputs": [],
   "source": [
    "len(under_index)"
   ]
  },
  {
   "cell_type": "code",
   "execution_count": null,
   "id": "6bf3ada5-2efd-4c09-9134-6f9c80ff24c1",
   "metadata": {},
   "outputs": [],
   "source": [
    "len(upper_index)"
   ]
  },
  {
   "cell_type": "code",
   "execution_count": null,
   "id": "c4bb8a75-cc6f-4f72-86d6-3934b6df69d8",
   "metadata": {},
   "outputs": [],
   "source": [
    "prob"
   ]
  },
  {
   "cell_type": "code",
   "execution_count": null,
   "id": "4b4f9ce5-34e0-4258-b127-ef69e78b4439",
   "metadata": {},
   "outputs": [],
   "source": []
  },
  {
   "cell_type": "code",
   "execution_count": null,
   "id": "71032d77-d751-4a64-8231-846b7bb902e0",
   "metadata": {},
   "outputs": [],
   "source": []
  },
  {
   "cell_type": "code",
   "execution_count": null,
   "id": "15683740-305e-4502-81cc-fc5158396125",
   "metadata": {},
   "outputs": [],
   "source": [
    "a = train_df.groupby('userID').last().reset_index()"
   ]
  },
  {
   "cell_type": "code",
   "execution_count": null,
   "id": "4951016b-bfae-4ea4-9959-ba5990856cc0",
   "metadata": {},
   "outputs": [],
   "source": [
    "a"
   ]
  },
  {
   "cell_type": "code",
   "execution_count": null,
   "id": "6187a04d-3a21-4c93-85b9-cfbb379f17fa",
   "metadata": {},
   "outputs": [],
   "source": [
    "lasts[lasts['userID'].isin(user_ids)].answerCode"
   ]
  },
  {
   "cell_type": "code",
   "execution_count": null,
   "id": "d7100cf5-9e81-4edb-8fcc-a28c86c66f83",
   "metadata": {},
   "outputs": [],
   "source": [
    "train_df.groupby('userID').cumcount()"
   ]
  },
  {
   "cell_type": "code",
   "execution_count": null,
   "id": "8726d63b-f9ec-4e81-9e41-be6cf15468de",
   "metadata": {},
   "outputs": [],
   "source": [
    "cum['cummean'] = cum['answer_mean']['cumsum'] / cum['answer_mean']['cumcount']"
   ]
  },
  {
   "cell_type": "code",
   "execution_count": null,
   "id": "4aee302b-8e8c-48cf-ac41-92ee75b1d71f",
   "metadata": {
    "tags": []
   },
   "outputs": [],
   "source": [
    "cum"
   ]
  },
  {
   "cell_type": "code",
   "execution_count": null,
   "id": "3867c02d-5f65-4dc1-b625-048a435a6d0b",
   "metadata": {},
   "outputs": [],
   "source": [
    "train_df['tmp_index'] = train_df.index\n",
    "last_index = train_df.groupby('userID').last()\n",
    "train_df = train_df.drop(index=last_index['tmp_index'])"
   ]
  },
  {
   "cell_type": "code",
   "execution_count": null,
   "id": "551334c9-e743-495f-93db-8ed0ce8ec2fa",
   "metadata": {},
   "outputs": [],
   "source": [
    "last_index = train_df.groupby('userID').last()"
   ]
  },
  {
   "cell_type": "code",
   "execution_count": null,
   "id": "437863c2-1218-4a31-ad15-b55137165daa",
   "metadata": {},
   "outputs": [],
   "source": [
    "last_index.reset_index()"
   ]
  },
  {
   "cell_type": "code",
   "execution_count": null,
   "id": "f362932a-0ae4-46f7-85be-f35de97c3763",
   "metadata": {},
   "outputs": [],
   "source": []
  }
 ],
 "metadata": {
  "kernelspec": {
   "display_name": "Python 3",
   "language": "python",
   "name": "python3"
  },
  "language_info": {
   "codemirror_mode": {
    "name": "ipython",
    "version": 3
   },
   "file_extension": ".py",
   "mimetype": "text/x-python",
   "name": "python",
   "nbconvert_exporter": "python",
   "pygments_lexer": "ipython3",
   "version": "3.7.7"
  }
 },
 "nbformat": 4,
 "nbformat_minor": 5
}
