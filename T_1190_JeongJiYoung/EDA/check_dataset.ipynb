{
 "cells": [
  {
   "cell_type": "code",
   "execution_count": 432,
   "id": "677c9e36-aae2-4b2d-ab24-df18611b84af",
   "metadata": {},
   "outputs": [],
   "source": [
    "import os\n",
    "import pandas as pd\n",
    "from datetime import datetime, timedelta"
   ]
  },
  {
   "cell_type": "code",
   "execution_count": 433,
   "id": "afcaf405-f90b-480d-9b19-0d387daa5763",
   "metadata": {},
   "outputs": [],
   "source": [
    "train_file = 'train_data.csv'\n",
    "test_file = 'test_data.csv'\n",
    "\n",
    "data_path = '/opt/ml/input/data/train_dataset'\n",
    "train_path = os.path.join(data_path, train_file)\n",
    "test_path = os.path.join(data_path, test_file)"
   ]
  },
  {
   "cell_type": "code",
   "execution_count": 434,
   "id": "9f5bc190-836d-440f-8cd9-21a8eeb70c13",
   "metadata": {},
   "outputs": [],
   "source": [
    "train_df = pd.read_csv(train_path, parse_dates=['Timestamp'])\n",
    "test_df = pd.read_csv(test_path, parse_dates=['Timestamp'])"
   ]
  },
  {
   "cell_type": "markdown",
   "id": "a75d762e-74cf-457a-a98d-dc1b3df6abe1",
   "metadata": {},
   "source": [
    "### 1) test set의 모든 userID가 train set에는 없다"
   ]
  },
  {
   "cell_type": "code",
   "execution_count": 4,
   "id": "645138e3-72e4-4d5b-876d-a8ba2bd66279",
   "metadata": {
    "tags": []
   },
   "outputs": [
    {
     "data": {
      "text/plain": [
       "True"
      ]
     },
     "execution_count": 4,
     "metadata": {},
     "output_type": "execute_result"
    }
   ],
   "source": [
    "result = test_df['userID'].isin(train_df['userID'].unique())\n",
    "all(~result)"
   ]
  },
  {
   "cell_type": "markdown",
   "id": "15a0008d-4d2b-4b80-ab47-768e29813a1a",
   "metadata": {},
   "source": [
    "### 2) test set의 assessmentItemID(=testId=KnowledgeTag) 는 모두 train set에 존재한다"
   ]
  },
  {
   "cell_type": "code",
   "execution_count": 5,
   "id": "5194844b-b560-4ab0-be46-6a80a84a07bf",
   "metadata": {
    "tags": []
   },
   "outputs": [
    {
     "name": "stdout",
     "output_type": "stream",
     "text": [
      "True\n",
      "True\n",
      "True\n"
     ]
    }
   ],
   "source": [
    "result = test_df['assessmentItemID'].isin(train_df['assessmentItemID'].unique())\n",
    "print(all(result))\n",
    "result = test_df['testId'].isin(train_df['testId'].unique())\n",
    "print(all(result))\n",
    "result = test_df['KnowledgeTag'].isin(train_df['KnowledgeTag'].unique())\n",
    "print(all(result))"
   ]
  },
  {
   "cell_type": "markdown",
   "id": "56c8d104-d310-45a8-971f-7a99da20cc8d",
   "metadata": {},
   "source": [
    "### 3) userID 마다 answerCode가 -1 인 row가 하나뿐이다. -1 은 마지막 timestamp를 갖는다"
   ]
  },
  {
   "cell_type": "code",
   "execution_count": 6,
   "id": "821d102c-6131-4dcb-871c-855d6199d9cf",
   "metadata": {},
   "outputs": [
    {
     "name": "stdout",
     "output_type": "stream",
     "text": [
      "744 744 744\n"
     ]
    }
   ],
   "source": [
    "unique_id = len(test_df['userID'].unique())\n",
    "minus_len = len(test_df[test_df['answerCode'] == -1])\n",
    "minus_unique_id = len(test_df[test_df['answerCode'] == -1]['userID'].unique())\n",
    "\n",
    "print(unique_id, minus_len, minus_unique_id, )"
   ]
  },
  {
   "cell_type": "markdown",
   "id": "beafa63b-c3b6-4bf7-81fc-7454fa0a6fa8",
   "metadata": {},
   "source": [
    "### 4) test set내 unique 개수"
   ]
  },
  {
   "cell_type": "code",
   "execution_count": 7,
   "id": "ada32285-1559-4dc3-8d7b-5c5d7a9a01e2",
   "metadata": {},
   "outputs": [],
   "source": [
    "minus_df = test_df[test_df['answerCode'] == -1]"
   ]
  },
  {
   "cell_type": "code",
   "execution_count": 8,
   "id": "0a88e422-67b8-4eb5-a623-dc404832f64f",
   "metadata": {},
   "outputs": [
    {
     "name": "stdout",
     "output_type": "stream",
     "text": [
      "444\n",
      "411\n",
      "273\n"
     ]
    }
   ],
   "source": [
    "unique_assessment = minus_df['assessmentItemID'].unique()\n",
    "unique_test = minus_df['testId'].unique()\n",
    "unique_tag = minus_df['KnowledgeTag'].unique()\n",
    "print(unique_assessment.size)\n",
    "print(unique_test.size)\n",
    "print(unique_tag.size)"
   ]
  },
  {
   "cell_type": "markdown",
   "id": "82246f72-ecf8-4515-a10e-f0adabd5b38f",
   "metadata": {},
   "source": [
    "### 5) 마지막 문제와 같은 문제를 푼 기록이 있기도 하다"
   ]
  },
  {
   "cell_type": "code",
   "execution_count": 226,
   "id": "a9007a14-da1b-4a40-894d-5a10029de804",
   "metadata": {},
   "outputs": [],
   "source": [
    "minus_question = minus_df[['userID', 'assessmentItemID']].values"
   ]
  },
  {
   "cell_type": "code",
   "execution_count": 246,
   "id": "3bd2829f-a1b8-4ff8-8b7b-d005c0513ec4",
   "metadata": {},
   "outputs": [
    {
     "name": "stdout",
     "output_type": "stream",
     "text": [
      "203 A060073007\n",
      "1268 A010135005\n",
      "1362 A070120008\n",
      "1469 A070163008\n",
      "1805 A010149005\n",
      "1885 A040135004\n",
      "2171 A020147004\n",
      "2334 A090049006\n",
      "3465 A040146005\n",
      "3716 A080128011\n",
      "4144 A080123008\n",
      "6027 A030131005\n"
     ]
    }
   ],
   "source": [
    "for uid, itemid in minus_question:\n",
    "    res = test_df[(test_df['userID'] == uid) & (test_df['assessmentItemID'] == itemid)]\n",
    "    if len(res) > 1:\n",
    "        print(uid, itemid)"
   ]
  },
  {
   "cell_type": "code",
   "execution_count": 392,
   "id": "66414715-91fd-461c-bcda-ab689e181fa0",
   "metadata": {},
   "outputs": [
    {
     "data": {
      "text/html": [
       "<div>\n",
       "<style scoped>\n",
       "    .dataframe tbody tr th:only-of-type {\n",
       "        vertical-align: middle;\n",
       "    }\n",
       "\n",
       "    .dataframe tbody tr th {\n",
       "        vertical-align: top;\n",
       "    }\n",
       "\n",
       "    .dataframe thead th {\n",
       "        text-align: right;\n",
       "    }\n",
       "</style>\n",
       "<table border=\"1\" class=\"dataframe\">\n",
       "  <thead>\n",
       "    <tr style=\"text-align: right;\">\n",
       "      <th></th>\n",
       "      <th>userID</th>\n",
       "      <th>assessmentItemID</th>\n",
       "      <th>testId</th>\n",
       "      <th>answerCode</th>\n",
       "      <th>Timestamp</th>\n",
       "      <th>KnowledgeTag</th>\n",
       "    </tr>\n",
       "  </thead>\n",
       "  <tbody>\n",
       "    <tr>\n",
       "      <th>16212</th>\n",
       "      <td>203</td>\n",
       "      <td>A060073007</td>\n",
       "      <td>A060000073</td>\n",
       "      <td>1</td>\n",
       "      <td>2020-07-30 10:25:26</td>\n",
       "      <td>616</td>\n",
       "    </tr>\n",
       "    <tr>\n",
       "      <th>16728</th>\n",
       "      <td>203</td>\n",
       "      <td>A060073007</td>\n",
       "      <td>A060000073</td>\n",
       "      <td>-1</td>\n",
       "      <td>2020-10-23 10:00:55</td>\n",
       "      <td>616</td>\n",
       "    </tr>\n",
       "  </tbody>\n",
       "</table>\n",
       "</div>"
      ],
      "text/plain": [
       "       userID assessmentItemID      testId  answerCode           Timestamp  \\\n",
       "16212     203       A060073007  A060000073           1 2020-07-30 10:25:26   \n",
       "16728     203       A060073007  A060000073          -1 2020-10-23 10:00:55   \n",
       "\n",
       "       KnowledgeTag  \n",
       "16212           616  \n",
       "16728           616  "
      ]
     },
     "execution_count": 392,
     "metadata": {},
     "output_type": "execute_result"
    }
   ],
   "source": [
    "test_df[(test_df['userID'] == 203) & (test_df['assessmentItemID'] == 'A060073007')]"
   ]
  },
  {
   "cell_type": "code",
   "execution_count": 396,
   "id": "536281cc-e7cd-460e-919c-58d53fa37798",
   "metadata": {},
   "outputs": [
    {
     "data": {
      "text/html": [
       "<div>\n",
       "<style scoped>\n",
       "    .dataframe tbody tr th:only-of-type {\n",
       "        vertical-align: middle;\n",
       "    }\n",
       "\n",
       "    .dataframe tbody tr th {\n",
       "        vertical-align: top;\n",
       "    }\n",
       "\n",
       "    .dataframe thead th {\n",
       "        text-align: right;\n",
       "    }\n",
       "</style>\n",
       "<table border=\"1\" class=\"dataframe\">\n",
       "  <thead>\n",
       "    <tr style=\"text-align: right;\">\n",
       "      <th></th>\n",
       "      <th>userID</th>\n",
       "      <th>assessmentItemID</th>\n",
       "      <th>testId</th>\n",
       "      <th>answerCode</th>\n",
       "      <th>Timestamp</th>\n",
       "      <th>KnowledgeTag</th>\n",
       "      <th>elapsed</th>\n",
       "    </tr>\n",
       "  </thead>\n",
       "  <tbody>\n",
       "    <tr>\n",
       "      <th>16212</th>\n",
       "      <td>203</td>\n",
       "      <td>A060073007</td>\n",
       "      <td>A060000073</td>\n",
       "      <td>1</td>\n",
       "      <td>2020-07-30 10:25:26</td>\n",
       "      <td>616</td>\n",
       "      <td>NaT</td>\n",
       "    </tr>\n",
       "    <tr>\n",
       "      <th>16728</th>\n",
       "      <td>203</td>\n",
       "      <td>A060073007</td>\n",
       "      <td>A060000073</td>\n",
       "      <td>-1</td>\n",
       "      <td>2020-10-23 10:00:55</td>\n",
       "      <td>616</td>\n",
       "      <td>NaT</td>\n",
       "    </tr>\n",
       "  </tbody>\n",
       "</table>\n",
       "</div>"
      ],
      "text/plain": [
       "       userID assessmentItemID      testId  answerCode           Timestamp  \\\n",
       "16212     203       A060073007  A060000073           1 2020-07-30 10:25:26   \n",
       "16728     203       A060073007  A060000073          -1 2020-10-23 10:00:55   \n",
       "\n",
       "       KnowledgeTag elapsed  \n",
       "16212           616     NaT  \n",
       "16728           616     NaT  "
      ]
     },
     "execution_count": 396,
     "metadata": {},
     "output_type": "execute_result"
    }
   ],
   "source": [
    "group_test[(group_test['userID'] == 203) & (group_test['assessmentItemID'] == 'A060073007')]"
   ]
  },
  {
   "cell_type": "code",
   "execution_count": 402,
   "id": "6ba1e189-b36c-4792-b9f0-30fb21f5398f",
   "metadata": {
    "collapsed": true,
    "jupyter": {
     "outputs_hidden": true
    },
    "tags": []
   },
   "outputs": [
    {
     "ename": "KeyboardInterrupt",
     "evalue": "",
     "output_type": "error",
     "traceback": [
      "\u001b[0;31m---------------------------------------------------------------------------\u001b[0m",
      "\u001b[0;31mKeyboardInterrupt\u001b[0m                         Traceback (most recent call last)",
      "\u001b[0;32m<ipython-input-402-9b2551afa901>\u001b[0m in \u001b[0;36m<module>\u001b[0;34m\u001b[0m\n\u001b[0;32m----> 1\u001b[0;31m \u001b[0mtrain_elapse\u001b[0m \u001b[0;34m=\u001b[0m \u001b[0mtrain_df\u001b[0m\u001b[0;34m.\u001b[0m\u001b[0mgroupby\u001b[0m\u001b[0;34m(\u001b[0m\u001b[0;34m[\u001b[0m\u001b[0;34m'userID'\u001b[0m\u001b[0;34m,\u001b[0m \u001b[0;34m'testId'\u001b[0m\u001b[0;34m]\u001b[0m\u001b[0;34m)\u001b[0m\u001b[0;34m.\u001b[0m\u001b[0mapply\u001b[0m\u001b[0;34m(\u001b[0m\u001b[0mcalculate_elapse\u001b[0m\u001b[0;34m)\u001b[0m\u001b[0;34m\u001b[0m\u001b[0;34m\u001b[0m\u001b[0m\n\u001b[0m",
      "\u001b[0;32m/opt/conda/lib/python3.7/site-packages/pandas/core/groupby/groupby.py\u001b[0m in \u001b[0;36mapply\u001b[0;34m(self, func, *args, **kwargs)\u001b[0m\n\u001b[1;32m    892\u001b[0m         \u001b[0;32mwith\u001b[0m \u001b[0moption_context\u001b[0m\u001b[0;34m(\u001b[0m\u001b[0;34m\"mode.chained_assignment\"\u001b[0m\u001b[0;34m,\u001b[0m \u001b[0;32mNone\u001b[0m\u001b[0;34m)\u001b[0m\u001b[0;34m:\u001b[0m\u001b[0;34m\u001b[0m\u001b[0;34m\u001b[0m\u001b[0m\n\u001b[1;32m    893\u001b[0m             \u001b[0;32mtry\u001b[0m\u001b[0;34m:\u001b[0m\u001b[0;34m\u001b[0m\u001b[0;34m\u001b[0m\u001b[0m\n\u001b[0;32m--> 894\u001b[0;31m                 \u001b[0mresult\u001b[0m \u001b[0;34m=\u001b[0m \u001b[0mself\u001b[0m\u001b[0;34m.\u001b[0m\u001b[0m_python_apply_general\u001b[0m\u001b[0;34m(\u001b[0m\u001b[0mf\u001b[0m\u001b[0;34m,\u001b[0m \u001b[0mself\u001b[0m\u001b[0;34m.\u001b[0m\u001b[0m_selected_obj\u001b[0m\u001b[0;34m)\u001b[0m\u001b[0;34m\u001b[0m\u001b[0;34m\u001b[0m\u001b[0m\n\u001b[0m\u001b[1;32m    895\u001b[0m             \u001b[0;32mexcept\u001b[0m \u001b[0mTypeError\u001b[0m\u001b[0;34m:\u001b[0m\u001b[0;34m\u001b[0m\u001b[0;34m\u001b[0m\u001b[0m\n\u001b[1;32m    896\u001b[0m                 \u001b[0;31m# gh-20949\u001b[0m\u001b[0;34m\u001b[0m\u001b[0;34m\u001b[0m\u001b[0;34m\u001b[0m\u001b[0m\n",
      "\u001b[0;32m/opt/conda/lib/python3.7/site-packages/pandas/core/groupby/groupby.py\u001b[0m in \u001b[0;36m_python_apply_general\u001b[0;34m(self, f, data)\u001b[0m\n\u001b[1;32m    926\u001b[0m             \u001b[0mdata\u001b[0m \u001b[0mafter\u001b[0m \u001b[0mapplying\u001b[0m \u001b[0mf\u001b[0m\u001b[0;34m\u001b[0m\u001b[0;34m\u001b[0m\u001b[0m\n\u001b[1;32m    927\u001b[0m         \"\"\"\n\u001b[0;32m--> 928\u001b[0;31m         \u001b[0mkeys\u001b[0m\u001b[0;34m,\u001b[0m \u001b[0mvalues\u001b[0m\u001b[0;34m,\u001b[0m \u001b[0mmutated\u001b[0m \u001b[0;34m=\u001b[0m \u001b[0mself\u001b[0m\u001b[0;34m.\u001b[0m\u001b[0mgrouper\u001b[0m\u001b[0;34m.\u001b[0m\u001b[0mapply\u001b[0m\u001b[0;34m(\u001b[0m\u001b[0mf\u001b[0m\u001b[0;34m,\u001b[0m \u001b[0mdata\u001b[0m\u001b[0;34m,\u001b[0m \u001b[0mself\u001b[0m\u001b[0;34m.\u001b[0m\u001b[0maxis\u001b[0m\u001b[0;34m)\u001b[0m\u001b[0;34m\u001b[0m\u001b[0;34m\u001b[0m\u001b[0m\n\u001b[0m\u001b[1;32m    929\u001b[0m \u001b[0;34m\u001b[0m\u001b[0m\n\u001b[1;32m    930\u001b[0m         return self._wrap_applied_output(\n",
      "\u001b[0;32m/opt/conda/lib/python3.7/site-packages/pandas/core/groupby/ops.py\u001b[0m in \u001b[0;36mapply\u001b[0;34m(self, f, data, axis)\u001b[0m\n\u001b[1;32m    236\u001b[0m             \u001b[0;31m# group might be modified\u001b[0m\u001b[0;34m\u001b[0m\u001b[0;34m\u001b[0m\u001b[0;34m\u001b[0m\u001b[0m\n\u001b[1;32m    237\u001b[0m             \u001b[0mgroup_axes\u001b[0m \u001b[0;34m=\u001b[0m \u001b[0mgroup\u001b[0m\u001b[0;34m.\u001b[0m\u001b[0maxes\u001b[0m\u001b[0;34m\u001b[0m\u001b[0;34m\u001b[0m\u001b[0m\n\u001b[0;32m--> 238\u001b[0;31m             \u001b[0mres\u001b[0m \u001b[0;34m=\u001b[0m \u001b[0mf\u001b[0m\u001b[0;34m(\u001b[0m\u001b[0mgroup\u001b[0m\u001b[0;34m)\u001b[0m\u001b[0;34m\u001b[0m\u001b[0;34m\u001b[0m\u001b[0m\n\u001b[0m\u001b[1;32m    239\u001b[0m             \u001b[0;32mif\u001b[0m \u001b[0;32mnot\u001b[0m \u001b[0m_is_indexed_like\u001b[0m\u001b[0;34m(\u001b[0m\u001b[0mres\u001b[0m\u001b[0;34m,\u001b[0m \u001b[0mgroup_axes\u001b[0m\u001b[0;34m,\u001b[0m \u001b[0maxis\u001b[0m\u001b[0;34m)\u001b[0m\u001b[0;34m:\u001b[0m\u001b[0;34m\u001b[0m\u001b[0;34m\u001b[0m\u001b[0m\n\u001b[1;32m    240\u001b[0m                 \u001b[0mmutated\u001b[0m \u001b[0;34m=\u001b[0m \u001b[0;32mTrue\u001b[0m\u001b[0;34m\u001b[0m\u001b[0;34m\u001b[0m\u001b[0m\n",
      "\u001b[0;32m<ipython-input-291-a4314d696d8e>\u001b[0m in \u001b[0;36mcalculate_elapse\u001b[0;34m(group)\u001b[0m\n\u001b[1;32m      1\u001b[0m \u001b[0;32mdef\u001b[0m \u001b[0mcalculate_elapse\u001b[0m\u001b[0;34m(\u001b[0m\u001b[0mgroup\u001b[0m\u001b[0;34m)\u001b[0m\u001b[0;34m:\u001b[0m\u001b[0;34m\u001b[0m\u001b[0;34m\u001b[0m\u001b[0m\n\u001b[1;32m      2\u001b[0m     \u001b[0mend_group\u001b[0m \u001b[0;34m=\u001b[0m \u001b[0mgroup\u001b[0m\u001b[0;34m[\u001b[0m\u001b[0;36m1\u001b[0m\u001b[0;34m:\u001b[0m\u001b[0;34m]\u001b[0m\u001b[0;34m\u001b[0m\u001b[0;34m\u001b[0m\u001b[0m\n\u001b[0;32m----> 3\u001b[0;31m     \u001b[0mend_group\u001b[0m\u001b[0;34m.\u001b[0m\u001b[0mindex\u001b[0m \u001b[0;34m=\u001b[0m \u001b[0mend_group\u001b[0m\u001b[0;34m.\u001b[0m\u001b[0mindex\u001b[0m \u001b[0;34m-\u001b[0m \u001b[0;36m1\u001b[0m\u001b[0;34m\u001b[0m\u001b[0;34m\u001b[0m\u001b[0m\n\u001b[0m\u001b[1;32m      4\u001b[0m     \u001b[0mstart_group\u001b[0m \u001b[0;34m=\u001b[0m \u001b[0mgroup\u001b[0m\u001b[0;34m[\u001b[0m\u001b[0;34m:\u001b[0m\u001b[0;34m-\u001b[0m\u001b[0;36m1\u001b[0m\u001b[0;34m]\u001b[0m\u001b[0;34m\u001b[0m\u001b[0;34m\u001b[0m\u001b[0m\n\u001b[1;32m      5\u001b[0m     \u001b[0mgroup\u001b[0m\u001b[0;34m[\u001b[0m\u001b[0;34m'elapsed'\u001b[0m\u001b[0;34m]\u001b[0m \u001b[0;34m=\u001b[0m \u001b[0mend_group\u001b[0m\u001b[0;34m[\u001b[0m\u001b[0;34m'Timestamp'\u001b[0m\u001b[0;34m]\u001b[0m \u001b[0;34m-\u001b[0m \u001b[0mstart_group\u001b[0m\u001b[0;34m[\u001b[0m\u001b[0;34m'Timestamp'\u001b[0m\u001b[0;34m]\u001b[0m\u001b[0;34m\u001b[0m\u001b[0;34m\u001b[0m\u001b[0m\n",
      "\u001b[0;32m/opt/conda/lib/python3.7/site-packages/pandas/core/ops/common.py\u001b[0m in \u001b[0;36mnew_method\u001b[0;34m(self, other)\u001b[0m\n\u001b[1;32m     63\u001b[0m         \u001b[0mother\u001b[0m \u001b[0;34m=\u001b[0m \u001b[0mitem_from_zerodim\u001b[0m\u001b[0;34m(\u001b[0m\u001b[0mother\u001b[0m\u001b[0;34m)\u001b[0m\u001b[0;34m\u001b[0m\u001b[0;34m\u001b[0m\u001b[0m\n\u001b[1;32m     64\u001b[0m \u001b[0;34m\u001b[0m\u001b[0m\n\u001b[0;32m---> 65\u001b[0;31m         \u001b[0;32mreturn\u001b[0m \u001b[0mmethod\u001b[0m\u001b[0;34m(\u001b[0m\u001b[0mself\u001b[0m\u001b[0;34m,\u001b[0m \u001b[0mother\u001b[0m\u001b[0;34m)\u001b[0m\u001b[0;34m\u001b[0m\u001b[0;34m\u001b[0m\u001b[0m\n\u001b[0m\u001b[1;32m     66\u001b[0m \u001b[0;34m\u001b[0m\u001b[0m\n\u001b[1;32m     67\u001b[0m     \u001b[0;32mreturn\u001b[0m \u001b[0mnew_method\u001b[0m\u001b[0;34m\u001b[0m\u001b[0;34m\u001b[0m\u001b[0m\n",
      "\u001b[0;32m/opt/conda/lib/python3.7/site-packages/pandas/core/arraylike.py\u001b[0m in \u001b[0;36m__sub__\u001b[0;34m(self, other)\u001b[0m\n\u001b[1;32m     95\u001b[0m     \u001b[0;34m@\u001b[0m\u001b[0munpack_zerodim_and_defer\u001b[0m\u001b[0;34m(\u001b[0m\u001b[0;34m\"__sub__\"\u001b[0m\u001b[0;34m)\u001b[0m\u001b[0;34m\u001b[0m\u001b[0;34m\u001b[0m\u001b[0m\n\u001b[1;32m     96\u001b[0m     \u001b[0;32mdef\u001b[0m \u001b[0m__sub__\u001b[0m\u001b[0;34m(\u001b[0m\u001b[0mself\u001b[0m\u001b[0;34m,\u001b[0m \u001b[0mother\u001b[0m\u001b[0;34m)\u001b[0m\u001b[0;34m:\u001b[0m\u001b[0;34m\u001b[0m\u001b[0;34m\u001b[0m\u001b[0m\n\u001b[0;32m---> 97\u001b[0;31m         \u001b[0;32mreturn\u001b[0m \u001b[0mself\u001b[0m\u001b[0;34m.\u001b[0m\u001b[0m_arith_method\u001b[0m\u001b[0;34m(\u001b[0m\u001b[0mother\u001b[0m\u001b[0;34m,\u001b[0m \u001b[0moperator\u001b[0m\u001b[0;34m.\u001b[0m\u001b[0msub\u001b[0m\u001b[0;34m)\u001b[0m\u001b[0;34m\u001b[0m\u001b[0;34m\u001b[0m\u001b[0m\n\u001b[0m\u001b[1;32m     98\u001b[0m \u001b[0;34m\u001b[0m\u001b[0m\n\u001b[1;32m     99\u001b[0m     \u001b[0;34m@\u001b[0m\u001b[0munpack_zerodim_and_defer\u001b[0m\u001b[0;34m(\u001b[0m\u001b[0;34m\"__rsub__\"\u001b[0m\u001b[0;34m)\u001b[0m\u001b[0;34m\u001b[0m\u001b[0;34m\u001b[0m\u001b[0m\n",
      "\u001b[0;32m/opt/conda/lib/python3.7/site-packages/pandas/core/indexes/base.py\u001b[0m in \u001b[0;36m_arith_method\u001b[0;34m(self, other, op)\u001b[0m\n\u001b[1;32m   5647\u001b[0m         \u001b[0;32mfrom\u001b[0m \u001b[0mpandas\u001b[0m \u001b[0;32mimport\u001b[0m \u001b[0mSeries\u001b[0m\u001b[0;34m\u001b[0m\u001b[0;34m\u001b[0m\u001b[0m\n\u001b[1;32m   5648\u001b[0m \u001b[0;34m\u001b[0m\u001b[0m\n\u001b[0;32m-> 5649\u001b[0;31m         \u001b[0mresult\u001b[0m \u001b[0;34m=\u001b[0m \u001b[0mop\u001b[0m\u001b[0;34m(\u001b[0m\u001b[0mSeries\u001b[0m\u001b[0;34m(\u001b[0m\u001b[0mself\u001b[0m\u001b[0;34m)\u001b[0m\u001b[0;34m,\u001b[0m \u001b[0mother\u001b[0m\u001b[0;34m)\u001b[0m\u001b[0;34m\u001b[0m\u001b[0;34m\u001b[0m\u001b[0m\n\u001b[0m\u001b[1;32m   5650\u001b[0m         \u001b[0;32mif\u001b[0m \u001b[0misinstance\u001b[0m\u001b[0;34m(\u001b[0m\u001b[0mresult\u001b[0m\u001b[0;34m,\u001b[0m \u001b[0mtuple\u001b[0m\u001b[0;34m)\u001b[0m\u001b[0;34m:\u001b[0m\u001b[0;34m\u001b[0m\u001b[0;34m\u001b[0m\u001b[0m\n\u001b[1;32m   5651\u001b[0m             \u001b[0;32mreturn\u001b[0m \u001b[0;34m(\u001b[0m\u001b[0mIndex\u001b[0m\u001b[0;34m(\u001b[0m\u001b[0mresult\u001b[0m\u001b[0;34m[\u001b[0m\u001b[0;36m0\u001b[0m\u001b[0;34m]\u001b[0m\u001b[0;34m)\u001b[0m\u001b[0;34m,\u001b[0m \u001b[0mIndex\u001b[0m\u001b[0;34m(\u001b[0m\u001b[0mresult\u001b[0m\u001b[0;34m[\u001b[0m\u001b[0;36m1\u001b[0m\u001b[0;34m]\u001b[0m\u001b[0;34m)\u001b[0m\u001b[0;34m)\u001b[0m\u001b[0;34m\u001b[0m\u001b[0;34m\u001b[0m\u001b[0m\n",
      "\u001b[0;32m/opt/conda/lib/python3.7/site-packages/pandas/core/series.py\u001b[0m in \u001b[0;36m__init__\u001b[0;34m(self, data, index, dtype, name, copy, fastpath)\u001b[0m\n\u001b[1;32m    339\u001b[0m \u001b[0;34m\u001b[0m\u001b[0m\n\u001b[1;32m    340\u001b[0m             \u001b[0;32mif\u001b[0m \u001b[0mindex\u001b[0m \u001b[0;32mis\u001b[0m \u001b[0;32mNone\u001b[0m\u001b[0;34m:\u001b[0m\u001b[0;34m\u001b[0m\u001b[0;34m\u001b[0m\u001b[0m\n\u001b[0;32m--> 341\u001b[0;31m                 \u001b[0;32mif\u001b[0m \u001b[0;32mnot\u001b[0m \u001b[0mis_list_like\u001b[0m\u001b[0;34m(\u001b[0m\u001b[0mdata\u001b[0m\u001b[0;34m)\u001b[0m\u001b[0;34m:\u001b[0m\u001b[0;34m\u001b[0m\u001b[0;34m\u001b[0m\u001b[0m\n\u001b[0m\u001b[1;32m    342\u001b[0m                     \u001b[0mdata\u001b[0m \u001b[0;34m=\u001b[0m \u001b[0;34m[\u001b[0m\u001b[0mdata\u001b[0m\u001b[0;34m]\u001b[0m\u001b[0;34m\u001b[0m\u001b[0;34m\u001b[0m\u001b[0m\n\u001b[1;32m    343\u001b[0m                 \u001b[0mindex\u001b[0m \u001b[0;34m=\u001b[0m \u001b[0mibase\u001b[0m\u001b[0;34m.\u001b[0m\u001b[0mdefault_index\u001b[0m\u001b[0;34m(\u001b[0m\u001b[0mlen\u001b[0m\u001b[0;34m(\u001b[0m\u001b[0mdata\u001b[0m\u001b[0;34m)\u001b[0m\u001b[0;34m)\u001b[0m\u001b[0;34m\u001b[0m\u001b[0;34m\u001b[0m\u001b[0m\n",
      "\u001b[0;31mKeyboardInterrupt\u001b[0m: "
     ]
    }
   ],
   "source": [
    "train_elapse = train_df.groupby(['userID', 'testId']).apply(calculate_elapse)"
   ]
  },
  {
   "cell_type": "markdown",
   "id": "a3f06bda-4636-4252-9cd0-7f9b46603b4b",
   "metadata": {},
   "source": [
    "* apply() too slow"
   ]
  },
  {
   "cell_type": "code",
   "execution_count": 418,
   "id": "5616f883-7bcb-4de6-9486-e13d2c728748",
   "metadata": {},
   "outputs": [],
   "source": [
    "train_df['tmp_index'] = train_df.index"
   ]
  },
  {
   "cell_type": "code",
   "execution_count": 424,
   "id": "8047d05a-87a3-41cc-8762-533d5d4bf3fd",
   "metadata": {},
   "outputs": [],
   "source": [
    "time = train_df[['userID', 'tmp_index', 'Timestamp']]"
   ]
  },
  {
   "cell_type": "code",
   "execution_count": 425,
   "id": "16351860-70de-4e5d-b08b-7c628c01e3be",
   "metadata": {
    "collapsed": true,
    "jupyter": {
     "outputs_hidden": true
    },
    "tags": []
   },
   "outputs": [
    {
     "name": "stderr",
     "output_type": "stream",
     "text": [
      "/opt/conda/lib/python3.7/site-packages/ipykernel_launcher.py:1: SettingWithCopyWarning: \n",
      "A value is trying to be set on a copy of a slice from a DataFrame.\n",
      "Try using .loc[row_indexer,col_indexer] = value instead\n",
      "\n",
      "See the caveats in the documentation: https://pandas.pydata.org/pandas-docs/stable/user_guide/indexing.html#returning-a-view-versus-a-copy\n",
      "  \"\"\"Entry point for launching an IPython kernel.\n"
     ]
    }
   ],
   "source": [
    "time['tmp_index'] = time['tmp_index']+1"
   ]
  },
  {
   "cell_type": "code",
   "execution_count": 428,
   "id": "6a92c782-6ca3-47c8-a370-09eae4222b6c",
   "metadata": {},
   "outputs": [],
   "source": [
    "train_elapse = train_df.merge(time, how='left', on=['userID', 'tmp_index'])"
   ]
  },
  {
   "cell_type": "code",
   "execution_count": 430,
   "id": "4fc44e20-527f-42d1-8677-81fe1304430f",
   "metadata": {},
   "outputs": [],
   "source": [
    "train_elapse['elapse'] = train_elapse['Timestamp_x'] - train_elapse['Timestamp_y']"
   ]
  },
  {
   "cell_type": "code",
   "execution_count": 431,
   "id": "dba66a9a-3fe9-4af7-8046-95ca41956905",
   "metadata": {},
   "outputs": [
    {
     "data": {
      "text/html": [
       "<div>\n",
       "<style scoped>\n",
       "    .dataframe tbody tr th:only-of-type {\n",
       "        vertical-align: middle;\n",
       "    }\n",
       "\n",
       "    .dataframe tbody tr th {\n",
       "        vertical-align: top;\n",
       "    }\n",
       "\n",
       "    .dataframe thead th {\n",
       "        text-align: right;\n",
       "    }\n",
       "</style>\n",
       "<table border=\"1\" class=\"dataframe\">\n",
       "  <thead>\n",
       "    <tr style=\"text-align: right;\">\n",
       "      <th></th>\n",
       "      <th>userID</th>\n",
       "      <th>assessmentItemID</th>\n",
       "      <th>testId</th>\n",
       "      <th>answerCode</th>\n",
       "      <th>Timestamp_x</th>\n",
       "      <th>KnowledgeTag</th>\n",
       "      <th>tmp_index</th>\n",
       "      <th>Timestamp_y</th>\n",
       "      <th>elapse</th>\n",
       "    </tr>\n",
       "  </thead>\n",
       "  <tbody>\n",
       "    <tr>\n",
       "      <th>4690</th>\n",
       "      <td>8</td>\n",
       "      <td>A060073007</td>\n",
       "      <td>A060000073</td>\n",
       "      <td>0</td>\n",
       "      <td>2020-05-13 12:11:53</td>\n",
       "      <td>616</td>\n",
       "      <td>4690</td>\n",
       "      <td>2020-05-13 12:10:16</td>\n",
       "      <td>0 days 00:01:37</td>\n",
       "    </tr>\n",
       "    <tr>\n",
       "      <th>27042</th>\n",
       "      <td>36</td>\n",
       "      <td>A060073007</td>\n",
       "      <td>A060000073</td>\n",
       "      <td>0</td>\n",
       "      <td>2020-08-25 01:34:07</td>\n",
       "      <td>616</td>\n",
       "      <td>27042</td>\n",
       "      <td>2020-08-25 01:33:51</td>\n",
       "      <td>0 days 00:00:16</td>\n",
       "    </tr>\n",
       "    <tr>\n",
       "      <th>45156</th>\n",
       "      <td>60</td>\n",
       "      <td>A060073007</td>\n",
       "      <td>A060000073</td>\n",
       "      <td>1</td>\n",
       "      <td>2020-08-05 12:18:43</td>\n",
       "      <td>616</td>\n",
       "      <td>45156</td>\n",
       "      <td>2020-08-05 12:17:36</td>\n",
       "      <td>0 days 00:01:07</td>\n",
       "    </tr>\n",
       "    <tr>\n",
       "      <th>59106</th>\n",
       "      <td>80</td>\n",
       "      <td>A060073007</td>\n",
       "      <td>A060000073</td>\n",
       "      <td>0</td>\n",
       "      <td>2020-08-19 00:27:54</td>\n",
       "      <td>616</td>\n",
       "      <td>59106</td>\n",
       "      <td>2020-08-19 00:27:43</td>\n",
       "      <td>0 days 00:00:11</td>\n",
       "    </tr>\n",
       "    <tr>\n",
       "      <th>67228</th>\n",
       "      <td>88</td>\n",
       "      <td>A060073007</td>\n",
       "      <td>A060000073</td>\n",
       "      <td>1</td>\n",
       "      <td>2020-08-12 06:06:19</td>\n",
       "      <td>616</td>\n",
       "      <td>67228</td>\n",
       "      <td>2020-08-12 06:06:03</td>\n",
       "      <td>0 days 00:00:16</td>\n",
       "    </tr>\n",
       "    <tr>\n",
       "      <th>...</th>\n",
       "      <td>...</td>\n",
       "      <td>...</td>\n",
       "      <td>...</td>\n",
       "      <td>...</td>\n",
       "      <td>...</td>\n",
       "      <td>...</td>\n",
       "      <td>...</td>\n",
       "      <td>...</td>\n",
       "      <td>...</td>\n",
       "    </tr>\n",
       "    <tr>\n",
       "      <th>2232185</th>\n",
       "      <td>6324</td>\n",
       "      <td>A060073007</td>\n",
       "      <td>A060000073</td>\n",
       "      <td>1</td>\n",
       "      <td>2020-06-30 12:45:52</td>\n",
       "      <td>616</td>\n",
       "      <td>2232185</td>\n",
       "      <td>2020-06-30 12:41:49</td>\n",
       "      <td>0 days 00:04:03</td>\n",
       "    </tr>\n",
       "    <tr>\n",
       "      <th>2246346</th>\n",
       "      <td>6653</td>\n",
       "      <td>A060073007</td>\n",
       "      <td>A060000073</td>\n",
       "      <td>1</td>\n",
       "      <td>2020-08-08 06:01:30</td>\n",
       "      <td>616</td>\n",
       "      <td>2246346</td>\n",
       "      <td>2020-08-08 05:58:48</td>\n",
       "      <td>0 days 00:02:42</td>\n",
       "    </tr>\n",
       "    <tr>\n",
       "      <th>2250019</th>\n",
       "      <td>6747</td>\n",
       "      <td>A060073007</td>\n",
       "      <td>A060000073</td>\n",
       "      <td>0</td>\n",
       "      <td>2020-08-13 09:40:02</td>\n",
       "      <td>616</td>\n",
       "      <td>2250019</td>\n",
       "      <td>2020-08-13 09:39:56</td>\n",
       "      <td>0 days 00:00:06</td>\n",
       "    </tr>\n",
       "    <tr>\n",
       "      <th>2253968</th>\n",
       "      <td>6859</td>\n",
       "      <td>A060073007</td>\n",
       "      <td>A060000073</td>\n",
       "      <td>1</td>\n",
       "      <td>2020-08-04 06:16:35</td>\n",
       "      <td>616</td>\n",
       "      <td>2253968</td>\n",
       "      <td>2020-08-04 06:16:13</td>\n",
       "      <td>0 days 00:00:22</td>\n",
       "    </tr>\n",
       "    <tr>\n",
       "      <th>2257026</th>\n",
       "      <td>6957</td>\n",
       "      <td>A060073007</td>\n",
       "      <td>A060000073</td>\n",
       "      <td>0</td>\n",
       "      <td>2020-07-14 12:01:36</td>\n",
       "      <td>616</td>\n",
       "      <td>2257026</td>\n",
       "      <td>2020-07-14 12:01:20</td>\n",
       "      <td>0 days 00:00:16</td>\n",
       "    </tr>\n",
       "  </tbody>\n",
       "</table>\n",
       "<p>224 rows × 9 columns</p>\n",
       "</div>"
      ],
      "text/plain": [
       "         userID assessmentItemID      testId  answerCode         Timestamp_x  \\\n",
       "4690          8       A060073007  A060000073           0 2020-05-13 12:11:53   \n",
       "27042        36       A060073007  A060000073           0 2020-08-25 01:34:07   \n",
       "45156        60       A060073007  A060000073           1 2020-08-05 12:18:43   \n",
       "59106        80       A060073007  A060000073           0 2020-08-19 00:27:54   \n",
       "67228        88       A060073007  A060000073           1 2020-08-12 06:06:19   \n",
       "...         ...              ...         ...         ...                 ...   \n",
       "2232185    6324       A060073007  A060000073           1 2020-06-30 12:45:52   \n",
       "2246346    6653       A060073007  A060000073           1 2020-08-08 06:01:30   \n",
       "2250019    6747       A060073007  A060000073           0 2020-08-13 09:40:02   \n",
       "2253968    6859       A060073007  A060000073           1 2020-08-04 06:16:35   \n",
       "2257026    6957       A060073007  A060000073           0 2020-07-14 12:01:36   \n",
       "\n",
       "         KnowledgeTag  tmp_index         Timestamp_y          elapse  \n",
       "4690              616       4690 2020-05-13 12:10:16 0 days 00:01:37  \n",
       "27042             616      27042 2020-08-25 01:33:51 0 days 00:00:16  \n",
       "45156             616      45156 2020-08-05 12:17:36 0 days 00:01:07  \n",
       "59106             616      59106 2020-08-19 00:27:43 0 days 00:00:11  \n",
       "67228             616      67228 2020-08-12 06:06:03 0 days 00:00:16  \n",
       "...               ...        ...                 ...             ...  \n",
       "2232185           616    2232185 2020-06-30 12:41:49 0 days 00:04:03  \n",
       "2246346           616    2246346 2020-08-08 05:58:48 0 days 00:02:42  \n",
       "2250019           616    2250019 2020-08-13 09:39:56 0 days 00:00:06  \n",
       "2253968           616    2253968 2020-08-04 06:16:13 0 days 00:00:22  \n",
       "2257026           616    2257026 2020-07-14 12:01:20 0 days 00:00:16  \n",
       "\n",
       "[224 rows x 9 columns]"
      ]
     },
     "execution_count": 431,
     "metadata": {},
     "output_type": "execute_result"
    }
   ],
   "source": [
    "train_elapse[train_elapse['assessmentItemID'] == 'A060073007']"
   ]
  },
  {
   "cell_type": "markdown",
   "id": "84b59ab4-7284-479b-bcea-4c9012ddf394",
   "metadata": {},
   "source": [
    "### 6) 예측할때 해당 문제의 소요시간을 알 수 없다.\n",
    "#### 사용할만한 것?\n",
    "* 해당 문제 평균 소요시간\n",
    "* 이전 문제 소요시간\n"
   ]
  },
  {
   "cell_type": "code",
   "execution_count": 291,
   "id": "ddd871b2-df06-4bfb-a153-8445256a8161",
   "metadata": {},
   "outputs": [],
   "source": [
    "def calculate_elapse(group):\n",
    "    end_group = group[1:]\n",
    "    end_group.index = end_group.index - 1\n",
    "    start_group = group[:-1]\n",
    "    group['elapsed'] = end_group['Timestamp'] - start_group['Timestamp']\n",
    "    return group"
   ]
  },
  {
   "cell_type": "code",
   "execution_count": 1,
   "id": "45b2f01a-a8a5-41e5-a14d-946ffa25edc6",
   "metadata": {},
   "outputs": [],
   "source": [
    "#느리니 수정필요"
   ]
  },
  {
   "cell_type": "code",
   "execution_count": 292,
   "id": "ff3cd755-9923-4852-9f00-71cbd6fd6fa0",
   "metadata": {},
   "outputs": [],
   "source": [
    "group_test = test_df.groupby(['userID', 'testId']).apply(calculate_elapse)"
   ]
  },
  {
   "cell_type": "code",
   "execution_count": 293,
   "id": "6b47e56a-aec7-4c78-a32c-51d3eed8c2b0",
   "metadata": {},
   "outputs": [],
   "source": [
    "five = timedelta(hours=5)"
   ]
  },
  {
   "cell_type": "code",
   "execution_count": 294,
   "id": "85e069ba-d564-4c91-b161-c0ccc3fff927",
   "metadata": {},
   "outputs": [
    {
     "data": {
      "text/html": [
       "<div>\n",
       "<style scoped>\n",
       "    .dataframe tbody tr th:only-of-type {\n",
       "        vertical-align: middle;\n",
       "    }\n",
       "\n",
       "    .dataframe tbody tr th {\n",
       "        vertical-align: top;\n",
       "    }\n",
       "\n",
       "    .dataframe thead th {\n",
       "        text-align: right;\n",
       "    }\n",
       "</style>\n",
       "<table border=\"1\" class=\"dataframe\">\n",
       "  <thead>\n",
       "    <tr style=\"text-align: right;\">\n",
       "      <th></th>\n",
       "      <th>userID</th>\n",
       "      <th>assessmentItemID</th>\n",
       "      <th>testId</th>\n",
       "      <th>answerCode</th>\n",
       "      <th>Timestamp</th>\n",
       "      <th>KnowledgeTag</th>\n",
       "      <th>elapsed</th>\n",
       "    </tr>\n",
       "  </thead>\n",
       "  <tbody>\n",
       "    <tr>\n",
       "      <th>2309</th>\n",
       "      <td>13</td>\n",
       "      <td>A020012003</td>\n",
       "      <td>A020000012</td>\n",
       "      <td>1</td>\n",
       "      <td>2020-07-21 00:20:11</td>\n",
       "      <td>7915</td>\n",
       "      <td>0 days 07:57:08</td>\n",
       "    </tr>\n",
       "    <tr>\n",
       "      <th>3853</th>\n",
       "      <td>17</td>\n",
       "      <td>A040153002</td>\n",
       "      <td>A040000153</td>\n",
       "      <td>1</td>\n",
       "      <td>2020-08-25 05:17:22</td>\n",
       "      <td>2108</td>\n",
       "      <td>0 days 06:46:36</td>\n",
       "    </tr>\n",
       "    <tr>\n",
       "      <th>9966</th>\n",
       "      <td>79</td>\n",
       "      <td>A070058012</td>\n",
       "      <td>A070000058</td>\n",
       "      <td>1</td>\n",
       "      <td>2020-04-14 09:31:23</td>\n",
       "      <td>1260</td>\n",
       "      <td>0 days 13:44:47</td>\n",
       "    </tr>\n",
       "    <tr>\n",
       "      <th>10376</th>\n",
       "      <td>79</td>\n",
       "      <td>A070090005</td>\n",
       "      <td>A070000090</td>\n",
       "      <td>1</td>\n",
       "      <td>2020-07-25 02:06:58</td>\n",
       "      <td>8880</td>\n",
       "      <td>1 days 04:01:09</td>\n",
       "    </tr>\n",
       "    <tr>\n",
       "      <th>10591</th>\n",
       "      <td>79</td>\n",
       "      <td>A070123004</td>\n",
       "      <td>A070000123</td>\n",
       "      <td>1</td>\n",
       "      <td>2020-09-20 23:26:05</td>\n",
       "      <td>9051</td>\n",
       "      <td>0 days 06:12:05</td>\n",
       "    </tr>\n",
       "    <tr>\n",
       "      <th>...</th>\n",
       "      <td>...</td>\n",
       "      <td>...</td>\n",
       "      <td>...</td>\n",
       "      <td>...</td>\n",
       "      <td>...</td>\n",
       "      <td>...</td>\n",
       "      <td>...</td>\n",
       "    </tr>\n",
       "    <tr>\n",
       "      <th>255045</th>\n",
       "      <td>6033</td>\n",
       "      <td>A030163001</td>\n",
       "      <td>A030000163</td>\n",
       "      <td>1</td>\n",
       "      <td>2020-10-25 22:10:24</td>\n",
       "      <td>1873</td>\n",
       "      <td>0 days 11:42:22</td>\n",
       "    </tr>\n",
       "    <tr>\n",
       "      <th>255457</th>\n",
       "      <td>6081</td>\n",
       "      <td>A030108006</td>\n",
       "      <td>A030000108</td>\n",
       "      <td>0</td>\n",
       "      <td>2020-08-29 04:47:51</td>\n",
       "      <td>554</td>\n",
       "      <td>6 days 03:59:11</td>\n",
       "    </tr>\n",
       "    <tr>\n",
       "      <th>256546</th>\n",
       "      <td>6295</td>\n",
       "      <td>A040197003</td>\n",
       "      <td>A040000197</td>\n",
       "      <td>1</td>\n",
       "      <td>2020-06-01 02:40:52</td>\n",
       "      <td>2132</td>\n",
       "      <td>0 days 05:00:40</td>\n",
       "    </tr>\n",
       "    <tr>\n",
       "      <th>256573</th>\n",
       "      <td>6295</td>\n",
       "      <td>A010075002</td>\n",
       "      <td>A010000075</td>\n",
       "      <td>1</td>\n",
       "      <td>2020-07-27 23:40:32</td>\n",
       "      <td>7621</td>\n",
       "      <td>0 days 11:57:37</td>\n",
       "    </tr>\n",
       "    <tr>\n",
       "      <th>257585</th>\n",
       "      <td>6594</td>\n",
       "      <td>A030153005</td>\n",
       "      <td>A030000153</td>\n",
       "      <td>1</td>\n",
       "      <td>2020-10-21 23:17:19</td>\n",
       "      <td>1720</td>\n",
       "      <td>0 days 08:03:39</td>\n",
       "    </tr>\n",
       "  </tbody>\n",
       "</table>\n",
       "<p>147 rows × 7 columns</p>\n",
       "</div>"
      ],
      "text/plain": [
       "        userID assessmentItemID      testId  answerCode           Timestamp  \\\n",
       "2309        13       A020012003  A020000012           1 2020-07-21 00:20:11   \n",
       "3853        17       A040153002  A040000153           1 2020-08-25 05:17:22   \n",
       "9966        79       A070058012  A070000058           1 2020-04-14 09:31:23   \n",
       "10376       79       A070090005  A070000090           1 2020-07-25 02:06:58   \n",
       "10591       79       A070123004  A070000123           1 2020-09-20 23:26:05   \n",
       "...        ...              ...         ...         ...                 ...   \n",
       "255045    6033       A030163001  A030000163           1 2020-10-25 22:10:24   \n",
       "255457    6081       A030108006  A030000108           0 2020-08-29 04:47:51   \n",
       "256546    6295       A040197003  A040000197           1 2020-06-01 02:40:52   \n",
       "256573    6295       A010075002  A010000075           1 2020-07-27 23:40:32   \n",
       "257585    6594       A030153005  A030000153           1 2020-10-21 23:17:19   \n",
       "\n",
       "        KnowledgeTag         elapsed  \n",
       "2309            7915 0 days 07:57:08  \n",
       "3853            2108 0 days 06:46:36  \n",
       "9966            1260 0 days 13:44:47  \n",
       "10376           8880 1 days 04:01:09  \n",
       "10591           9051 0 days 06:12:05  \n",
       "...              ...             ...  \n",
       "255045          1873 0 days 11:42:22  \n",
       "255457           554 6 days 03:59:11  \n",
       "256546          2132 0 days 05:00:40  \n",
       "256573          7621 0 days 11:57:37  \n",
       "257585          1720 0 days 08:03:39  \n",
       "\n",
       "[147 rows x 7 columns]"
      ]
     },
     "execution_count": 294,
     "metadata": {},
     "output_type": "execute_result"
    }
   ],
   "source": [
    "group_test[group_test['elapsed'] > five]"
   ]
  },
  {
   "cell_type": "markdown",
   "id": "517f9b15-2804-4483-a62f-a42d1041540d",
   "metadata": {},
   "source": [
    "#### 풀다가 다음날 푸는 경우가 있다. (큰 시간차이)\n",
    "#### 여러 시험지를 왔다갔다 하면서 푸는 경우가 있다. (시간을 어떻게 적용시켜 줄것? 바로 다음 시험문제를 푼다고 확신할 수 있는가? 필요가 있는가?)"
   ]
  },
  {
   "cell_type": "code",
   "execution_count": 302,
   "id": "1d93865a-8898-4aee-8acd-0589461d821b",
   "metadata": {},
   "outputs": [],
   "source": [
    "ggg = group_test.groupby(['userID'])"
   ]
  },
  {
   "cell_type": "code",
   "execution_count": 210,
   "id": "6ad5862f-efd0-4ca4-aad3-29049106378c",
   "metadata": {},
   "outputs": [],
   "source": [
    "duped_user_id = []\n",
    "for key, gr in ggg:\n",
    "    dup_testID = []\n",
    "    prior_testID = gr.iloc[0]['testId']\n",
    "    \n",
    "    for index, row in gr.iterrows():\n",
    "        if prior_testID == row['testId']:\n",
    "            continue\n",
    "        \n",
    "        if row['testId'] in dup_testID:\n",
    "            duped_user_id.append(row['userID'])\n",
    "            break\n",
    "        else:\n",
    "            dup_testID.append(row['testId'])\n",
    "            prior_testID = row['testId']\n"
   ]
  },
  {
   "cell_type": "code",
   "execution_count": 216,
   "id": "5b66539b-79ef-4ce7-93a9-6a0064ad44fb",
   "metadata": {},
   "outputs": [],
   "source": [
    "pd.set_option('display.max_rows', None)"
   ]
  },
  {
   "cell_type": "code",
   "execution_count": 304,
   "id": "4b36042f-70b9-4c17-a787-f60af579d445",
   "metadata": {
    "collapsed": true,
    "jupyter": {
     "outputs_hidden": true
    },
    "tags": []
   },
   "outputs": [
    {
     "data": {
      "text/html": [
       "<div>\n",
       "<style scoped>\n",
       "    .dataframe tbody tr th:only-of-type {\n",
       "        vertical-align: middle;\n",
       "    }\n",
       "\n",
       "    .dataframe tbody tr th {\n",
       "        vertical-align: top;\n",
       "    }\n",
       "\n",
       "    .dataframe thead th {\n",
       "        text-align: right;\n",
       "    }\n",
       "</style>\n",
       "<table border=\"1\" class=\"dataframe\">\n",
       "  <thead>\n",
       "    <tr style=\"text-align: right;\">\n",
       "      <th></th>\n",
       "      <th>userID</th>\n",
       "      <th>assessmentItemID</th>\n",
       "      <th>testId</th>\n",
       "      <th>answerCode</th>\n",
       "      <th>Timestamp</th>\n",
       "      <th>KnowledgeTag</th>\n",
       "      <th>elapsed</th>\n",
       "    </tr>\n",
       "  </thead>\n",
       "  <tbody>\n",
       "    <tr>\n",
       "      <th>0</th>\n",
       "      <td>3</td>\n",
       "      <td>A050023001</td>\n",
       "      <td>A050000023</td>\n",
       "      <td>1</td>\n",
       "      <td>2020-01-09 10:56:31</td>\n",
       "      <td>2626</td>\n",
       "      <td>0 days 00:00:26</td>\n",
       "    </tr>\n",
       "    <tr>\n",
       "      <th>1</th>\n",
       "      <td>3</td>\n",
       "      <td>A050023002</td>\n",
       "      <td>A050000023</td>\n",
       "      <td>1</td>\n",
       "      <td>2020-01-09 10:56:57</td>\n",
       "      <td>2626</td>\n",
       "      <td>0 days 00:01:34</td>\n",
       "    </tr>\n",
       "    <tr>\n",
       "      <th>2</th>\n",
       "      <td>3</td>\n",
       "      <td>A050023003</td>\n",
       "      <td>A050000023</td>\n",
       "      <td>0</td>\n",
       "      <td>2020-01-09 10:58:31</td>\n",
       "      <td>2625</td>\n",
       "      <td>0 days 00:00:05</td>\n",
       "    </tr>\n",
       "    <tr>\n",
       "      <th>3</th>\n",
       "      <td>3</td>\n",
       "      <td>A050023004</td>\n",
       "      <td>A050000023</td>\n",
       "      <td>0</td>\n",
       "      <td>2020-01-09 10:58:36</td>\n",
       "      <td>2625</td>\n",
       "      <td>0 days 00:00:07</td>\n",
       "    </tr>\n",
       "    <tr>\n",
       "      <th>4</th>\n",
       "      <td>3</td>\n",
       "      <td>A050023006</td>\n",
       "      <td>A050000023</td>\n",
       "      <td>0</td>\n",
       "      <td>2020-01-09 10:58:43</td>\n",
       "      <td>2623</td>\n",
       "      <td>0 days 00:00:03</td>\n",
       "    </tr>\n",
       "    <tr>\n",
       "      <th>...</th>\n",
       "      <td>...</td>\n",
       "      <td>...</td>\n",
       "      <td>...</td>\n",
       "      <td>...</td>\n",
       "      <td>...</td>\n",
       "      <td>...</td>\n",
       "      <td>...</td>\n",
       "    </tr>\n",
       "    <tr>\n",
       "      <th>1031</th>\n",
       "      <td>3</td>\n",
       "      <td>A050133004</td>\n",
       "      <td>A050000133</td>\n",
       "      <td>1</td>\n",
       "      <td>2020-10-26 13:12:11</td>\n",
       "      <td>5289</td>\n",
       "      <td>0 days 00:00:25</td>\n",
       "    </tr>\n",
       "    <tr>\n",
       "      <th>1032</th>\n",
       "      <td>3</td>\n",
       "      <td>A050133005</td>\n",
       "      <td>A050000133</td>\n",
       "      <td>1</td>\n",
       "      <td>2020-10-26 13:12:36</td>\n",
       "      <td>5288</td>\n",
       "      <td>0 days 00:00:16</td>\n",
       "    </tr>\n",
       "    <tr>\n",
       "      <th>1033</th>\n",
       "      <td>3</td>\n",
       "      <td>A050133006</td>\n",
       "      <td>A050000133</td>\n",
       "      <td>1</td>\n",
       "      <td>2020-10-26 13:12:52</td>\n",
       "      <td>5288</td>\n",
       "      <td>0 days 00:00:19</td>\n",
       "    </tr>\n",
       "    <tr>\n",
       "      <th>1034</th>\n",
       "      <td>3</td>\n",
       "      <td>A050133007</td>\n",
       "      <td>A050000133</td>\n",
       "      <td>0</td>\n",
       "      <td>2020-10-26 13:13:11</td>\n",
       "      <td>5289</td>\n",
       "      <td>0 days 00:00:46</td>\n",
       "    </tr>\n",
       "    <tr>\n",
       "      <th>1035</th>\n",
       "      <td>3</td>\n",
       "      <td>A050133008</td>\n",
       "      <td>A050000133</td>\n",
       "      <td>-1</td>\n",
       "      <td>2020-10-26 13:13:57</td>\n",
       "      <td>5289</td>\n",
       "      <td>NaT</td>\n",
       "    </tr>\n",
       "  </tbody>\n",
       "</table>\n",
       "<p>1036 rows × 7 columns</p>\n",
       "</div>"
      ],
      "text/plain": [
       "      userID assessmentItemID      testId  answerCode           Timestamp  \\\n",
       "0          3       A050023001  A050000023           1 2020-01-09 10:56:31   \n",
       "1          3       A050023002  A050000023           1 2020-01-09 10:56:57   \n",
       "2          3       A050023003  A050000023           0 2020-01-09 10:58:31   \n",
       "3          3       A050023004  A050000023           0 2020-01-09 10:58:36   \n",
       "4          3       A050023006  A050000023           0 2020-01-09 10:58:43   \n",
       "...      ...              ...         ...         ...                 ...   \n",
       "1031       3       A050133004  A050000133           1 2020-10-26 13:12:11   \n",
       "1032       3       A050133005  A050000133           1 2020-10-26 13:12:36   \n",
       "1033       3       A050133006  A050000133           1 2020-10-26 13:12:52   \n",
       "1034       3       A050133007  A050000133           0 2020-10-26 13:13:11   \n",
       "1035       3       A050133008  A050000133          -1 2020-10-26 13:13:57   \n",
       "\n",
       "      KnowledgeTag         elapsed  \n",
       "0             2626 0 days 00:00:26  \n",
       "1             2626 0 days 00:01:34  \n",
       "2             2625 0 days 00:00:05  \n",
       "3             2625 0 days 00:00:07  \n",
       "4             2623 0 days 00:00:03  \n",
       "...            ...             ...  \n",
       "1031          5289 0 days 00:00:25  \n",
       "1032          5288 0 days 00:00:16  \n",
       "1033          5288 0 days 00:00:19  \n",
       "1034          5289 0 days 00:00:46  \n",
       "1035          5289             NaT  \n",
       "\n",
       "[1036 rows x 7 columns]"
      ]
     },
     "execution_count": 304,
     "metadata": {},
     "output_type": "execute_result"
    }
   ],
   "source": [
    "ggg.get_group(duped_user_id[0])"
   ]
  },
  {
   "cell_type": "code",
   "execution_count": null,
   "id": "cad29eda-75ea-4755-ab2a-1bceab411328",
   "metadata": {},
   "outputs": [],
   "source": [
    "pd.set_option('display.max_rows', 10)"
   ]
  },
  {
   "cell_type": "markdown",
   "id": "84ee0bb9-16af-4151-985f-69bc2b8e425c",
   "metadata": {},
   "source": [
    "### GroupShuffleSplit - 필요없음"
   ]
  },
  {
   "cell_type": "code",
   "execution_count": 167,
   "id": "e68f8e88-f2d0-4048-933f-b22820a6d040",
   "metadata": {},
   "outputs": [],
   "source": [
    "import numpy as np\n",
    "from sklearn.model_selection import GroupShuffleSplit"
   ]
  },
  {
   "cell_type": "code",
   "execution_count": 179,
   "id": "460f4386-8b78-42af-a06b-9492d869172d",
   "metadata": {},
   "outputs": [],
   "source": [
    "gss = GroupShuffleSplit(n_splits=1, train_size=0.8, random_state=42)"
   ]
  },
  {
   "cell_type": "code",
   "execution_count": 180,
   "id": "e33a3604-9c1f-405d-a923-9a5077a13b9a",
   "metadata": {
    "collapsed": true,
    "jupyter": {
     "outputs_hidden": true
    },
    "tags": []
   },
   "outputs": [
    {
     "name": "stdout",
     "output_type": "stream",
     "text": [
      "1804309\n",
      "462277\n"
     ]
    }
   ],
   "source": [
    "for train, test in gss.split(train_df.index.values, groups=train_df.userID.values):\n",
    "    print(train.size)\n",
    "    print(test.size)"
   ]
  },
  {
   "cell_type": "markdown",
   "id": "d7c495be-f1af-4c68-aa7e-58303c2cb319",
   "metadata": {},
   "source": [
    "### LabelEncoder - "
   ]
  },
  {
   "cell_type": "code",
   "execution_count": 264,
   "id": "6f35bf99-c4e2-488f-a5d9-a29ac06227ff",
   "metadata": {},
   "outputs": [
    {
     "data": {
      "text/plain": [
       "LabelEncoder()"
      ]
     },
     "execution_count": 264,
     "metadata": {},
     "output_type": "execute_result"
    }
   ],
   "source": [
    "from sklearn.preprocessing import LabelEncoder\n",
    "le = LabelEncoder()\n",
    "assess = minus_df['assessmentItemID'].values\n",
    "le.fit(assess)"
   ]
  },
  {
   "cell_type": "code",
   "execution_count": 265,
   "id": "ce3be888-cc5e-4bf5-b99b-4723a8f2d19c",
   "metadata": {},
   "outputs": [
    {
     "data": {
      "text/plain": [
       "array([406])"
      ]
     },
     "execution_count": 265,
     "metadata": {},
     "output_type": "execute_result"
    }
   ],
   "source": [
    "le.transform(['A080126008'])"
   ]
  },
  {
   "cell_type": "markdown",
   "id": "2e699d30-7529-41ed-af7e-9f22447dbe62",
   "metadata": {},
   "source": [
    "### 시간별 count"
   ]
  },
  {
   "cell_type": "code",
   "execution_count": 282,
   "id": "1dc604f2-f1ea-4a88-8fb0-6b0faf93d6f1",
   "metadata": {},
   "outputs": [],
   "source": [
    "import numpy as np"
   ]
  },
  {
   "cell_type": "code",
   "execution_count": 295,
   "id": "19d74f8f-98e6-464d-9bb3-87982167629d",
   "metadata": {},
   "outputs": [],
   "source": [
    "ttt = group_test.copy()"
   ]
  },
  {
   "cell_type": "code",
   "execution_count": 299,
   "id": "85bee1f3-1c24-4776-8fea-d99a2193d3d8",
   "metadata": {},
   "outputs": [
    {
     "data": {
      "text/plain": [
       "userID                  0\n",
       "assessmentItemID        0\n",
       "testId                  0\n",
       "answerCode              0\n",
       "Timestamp               0\n",
       "KnowledgeTag            0\n",
       "elapsed             42926\n",
       "dtype: int64"
      ]
     },
     "execution_count": 299,
     "metadata": {},
     "output_type": "execute_result"
    }
   ],
   "source": [
    "ttt.isna().sum()"
   ]
  },
  {
   "cell_type": "code",
   "execution_count": 300,
   "id": "ce9a5671-2450-40f8-9eae-1a5cd62ad170",
   "metadata": {},
   "outputs": [
    {
     "data": {
      "text/plain": [
       "userID              260114\n",
       "assessmentItemID    260114\n",
       "testId              260114\n",
       "answerCode          260114\n",
       "Timestamp           260114\n",
       "KnowledgeTag        260114\n",
       "elapsed             217188\n",
       "dtype: int64"
      ]
     },
     "execution_count": 300,
     "metadata": {},
     "output_type": "execute_result"
    }
   ],
   "source": [
    "ttt.count()"
   ]
  },
  {
   "cell_type": "code",
   "execution_count": 301,
   "id": "71302ee1-4b29-4b1c-9b03-1342bfe46b21",
   "metadata": {},
   "outputs": [
    {
     "data": {
      "text/plain": [
       "0.19764443707755494"
      ]
     },
     "execution_count": 301,
     "metadata": {},
     "output_type": "execute_result"
    }
   ],
   "source": [
    "42926 / 217188"
   ]
  },
  {
   "cell_type": "code",
   "execution_count": 306,
   "id": "909f1c93-4dae-45bb-b29e-a32291786cbb",
   "metadata": {},
   "outputs": [],
   "source": [
    "ttt_drop = ttt.dropna()"
   ]
  },
  {
   "cell_type": "code",
   "execution_count": 307,
   "id": "0340952d-bad0-4e1d-a714-21cced8b686e",
   "metadata": {},
   "outputs": [
    {
     "data": {
      "text/html": [
       "<div>\n",
       "<style scoped>\n",
       "    .dataframe tbody tr th:only-of-type {\n",
       "        vertical-align: middle;\n",
       "    }\n",
       "\n",
       "    .dataframe tbody tr th {\n",
       "        vertical-align: top;\n",
       "    }\n",
       "\n",
       "    .dataframe thead th {\n",
       "        text-align: right;\n",
       "    }\n",
       "</style>\n",
       "<table border=\"1\" class=\"dataframe\">\n",
       "  <thead>\n",
       "    <tr style=\"text-align: right;\">\n",
       "      <th></th>\n",
       "      <th>userID</th>\n",
       "      <th>assessmentItemID</th>\n",
       "      <th>testId</th>\n",
       "      <th>answerCode</th>\n",
       "      <th>Timestamp</th>\n",
       "      <th>KnowledgeTag</th>\n",
       "      <th>elapsed</th>\n",
       "    </tr>\n",
       "  </thead>\n",
       "  <tbody>\n",
       "    <tr>\n",
       "      <th>0</th>\n",
       "      <td>3</td>\n",
       "      <td>A050023001</td>\n",
       "      <td>A050000023</td>\n",
       "      <td>1</td>\n",
       "      <td>2020-01-09 10:56:31</td>\n",
       "      <td>2626</td>\n",
       "      <td>0 days 00:00:26</td>\n",
       "    </tr>\n",
       "    <tr>\n",
       "      <th>1</th>\n",
       "      <td>3</td>\n",
       "      <td>A050023002</td>\n",
       "      <td>A050000023</td>\n",
       "      <td>1</td>\n",
       "      <td>2020-01-09 10:56:57</td>\n",
       "      <td>2626</td>\n",
       "      <td>0 days 00:01:34</td>\n",
       "    </tr>\n",
       "    <tr>\n",
       "      <th>2</th>\n",
       "      <td>3</td>\n",
       "      <td>A050023003</td>\n",
       "      <td>A050000023</td>\n",
       "      <td>0</td>\n",
       "      <td>2020-01-09 10:58:31</td>\n",
       "      <td>2625</td>\n",
       "      <td>0 days 00:00:05</td>\n",
       "    </tr>\n",
       "  </tbody>\n",
       "</table>\n",
       "</div>"
      ],
      "text/plain": [
       "   userID assessmentItemID      testId  answerCode           Timestamp  \\\n",
       "0       3       A050023001  A050000023           1 2020-01-09 10:56:31   \n",
       "1       3       A050023002  A050000023           1 2020-01-09 10:56:57   \n",
       "2       3       A050023003  A050000023           0 2020-01-09 10:58:31   \n",
       "\n",
       "   KnowledgeTag         elapsed  \n",
       "0          2626 0 days 00:00:26  \n",
       "1          2626 0 days 00:01:34  \n",
       "2          2625 0 days 00:00:05  "
      ]
     },
     "execution_count": 307,
     "metadata": {},
     "output_type": "execute_result"
    }
   ],
   "source": [
    "ttt_drop.head(3)"
   ]
  },
  {
   "cell_type": "code",
   "execution_count": 320,
   "id": "bf7db8ca-0d16-4993-9943-a50095924ab7",
   "metadata": {
    "collapsed": true,
    "jupyter": {
     "outputs_hidden": true
    },
    "tags": []
   },
   "outputs": [
    {
     "name": "stderr",
     "output_type": "stream",
     "text": [
      "/opt/conda/lib/python3.7/site-packages/ipykernel_launcher.py:1: SettingWithCopyWarning: \n",
      "A value is trying to be set on a copy of a slice from a DataFrame.\n",
      "Try using .loc[row_indexer,col_indexer] = value instead\n",
      "\n",
      "See the caveats in the documentation: https://pandas.pydata.org/pandas-docs/stable/user_guide/indexing.html#returning-a-view-versus-a-copy\n",
      "  \"\"\"Entry point for launching an IPython kernel.\n"
     ]
    }
   ],
   "source": [
    "ttt_drop['elapsed'] = (ttt_drop['elapsed'].astype(np.int) / 10**9).astype(np.int)"
   ]
  },
  {
   "cell_type": "code",
   "execution_count": 391,
   "id": "bc302be5-8722-453f-bdb2-a5599ceea913",
   "metadata": {},
   "outputs": [],
   "source": [
    "import matplotlib.pyplot as plt\n",
    "import seaborn as sns"
   ]
  },
  {
   "cell_type": "code",
   "execution_count": 390,
   "id": "468d3f94-5e63-45e0-bfd5-5e24a34d0a2e",
   "metadata": {},
   "outputs": [
    {
     "data": {
      "text/plain": [
       "([<matplotlib.axis.XTick at 0x7ff2596ca910>,\n",
       "  <matplotlib.axis.XTick at 0x7ff256970590>,\n",
       "  <matplotlib.axis.XTick at 0x7ff256970150>,\n",
       "  <matplotlib.axis.XTick at 0x7ff27c245790>,\n",
       "  <matplotlib.axis.XTick at 0x7ff27c2454d0>],\n",
       " [Text(0, 0, '0'),\n",
       "  Text(1, 0, '1'),\n",
       "  Text(2, 0, '2'),\n",
       "  Text(3, 0, '3'),\n",
       "  Text(4, 0, '4')])"
      ]
     },
     "execution_count": 390,
     "metadata": {},
     "output_type": "execute_result"
    },
    {
     "data": {
      "image/png": "[encoded data removed]",
      "text/plain": [
       "<Figure size 2880x2160 with 1 Axes>"
      ]
     },
     "metadata": {
      "needs_background": "light"
     },
     "output_type": "display_data"
    }
   ],
   "source": [
    "plt.figure(figsize=(40,30))\n",
    "c = sns.countplot(x='elapsed', data=ttt_drop)\n",
    "plt.xticks([0,120,240,300,600])"
   ]
  },
  {
   "cell_type": "markdown",
   "id": "2d84a50a-ba15-4f0b-a7b9-60c12b7fe100",
   "metadata": {},
   "source": [
    "### 7) 대분류 추가"
   ]
  },
  {
   "cell_type": "code",
   "execution_count": 142,
   "id": "3deb9895-0729-457d-b9d0-c4e3c3199bfd",
   "metadata": {},
   "outputs": [
    {
     "name": "stderr",
     "output_type": "stream",
     "text": [
      "/opt/conda/lib/python3.7/site-packages/ipykernel_launcher.py:1: SettingWithCopyWarning: \n",
      "A value is trying to be set on a copy of a slice from a DataFrame.\n",
      "Try using .loc[row_indexer,col_indexer] = value instead\n",
      "\n",
      "See the caveats in the documentation: https://pandas.pydata.org/pandas-docs/stable/user_guide/indexing.html#returning-a-view-versus-a-copy\n",
      "  \"\"\"Entry point for launching an IPython kernel.\n"
     ]
    }
   ],
   "source": [
    "minus_df['big_cate'] = minus_df['testId'].str[2]"
   ]
  },
  {
   "cell_type": "markdown",
   "id": "27e91347-91f4-431f-b8a9-82f9d1969da2",
   "metadata": {},
   "source": [
    "### 8) 시험지별 -> 점수, 시간"
   ]
  },
  {
   "cell_type": "markdown",
   "id": "1d4e9574-322b-4ff3-a921-35af8975d4e1",
   "metadata": {},
   "source": [
    "### 9) 정답률 - 전체, 누적"
   ]
  },
  {
   "cell_type": "code",
   "execution_count": null,
   "id": "8ab7974b-9fe5-4ceb-bec1-86f87a85e150",
   "metadata": {},
   "outputs": [],
   "source": []
  }
 ],
 "metadata": {
  "kernelspec": {
   "display_name": "Python 3",
   "language": "python",
   "name": "python3"
  },
  "language_info": {
   "codemirror_mode": {
    "name": "ipython",
    "version": 3
   },
   "file_extension": ".py",
   "mimetype": "text/x-python",
   "name": "python",
   "nbconvert_exporter": "python",
   "pygments_lexer": "ipython3",
   "version": "3.7.7"
  }
 },
 "nbformat": 4,
 "nbformat_minor": 5
}
