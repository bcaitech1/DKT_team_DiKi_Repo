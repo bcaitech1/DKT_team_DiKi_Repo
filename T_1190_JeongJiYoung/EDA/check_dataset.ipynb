{
 "cells": [
  {
   "cell_type": "code",
   "execution_count": null,
   "id": "677c9e36-aae2-4b2d-ab24-df18611b84af",
   "metadata": {},
   "outputs": [],
   "source": [
    "import os\n",
    "import pandas as pd\n",
    "from datetime import datetime, timedelta\n",
    "import matplotlib.pyplot as plt\n",
    "import seaborn as sns\n",
    "import numpy as np"
   ]
  },
  {
   "cell_type": "code",
   "execution_count": null,
   "id": "afcaf405-f90b-480d-9b19-0d387daa5763",
   "metadata": {},
   "outputs": [],
   "source": [
    "train_file = 'train_data.csv'\n",
    "test_file = 'test_data.csv'\n",
    "\n",
    "data_path = '/opt/ml/input/data/train_dataset'\n",
    "train_path = os.path.join(data_path, train_file)\n",
    "test_path = os.path.join(data_path, test_file)"
   ]
  },
  {
   "cell_type": "code",
   "execution_count": null,
   "id": "9f5bc190-836d-440f-8cd9-21a8eeb70c13",
   "metadata": {},
   "outputs": [],
   "source": [
    "train_df = pd.read_csv(train_path, parse_dates=['Timestamp'])\n",
    "test_df = pd.read_csv(test_path, parse_dates=['Timestamp'])"
   ]
  },
  {
   "cell_type": "markdown",
   "id": "a75d762e-74cf-457a-a98d-dc1b3df6abe1",
   "metadata": {},
   "source": [
    "### 1) test set의 모든 userID가 train set에는 없다"
   ]
  },
  {
   "cell_type": "code",
   "execution_count": null,
   "id": "645138e3-72e4-4d5b-876d-a8ba2bd66279",
   "metadata": {
    "tags": []
   },
   "outputs": [],
   "source": [
    "result = test_df['userID'].isin(train_df['userID'].unique())\n",
    "all(~result)"
   ]
  },
  {
   "cell_type": "markdown",
   "id": "15a0008d-4d2b-4b80-ab47-768e29813a1a",
   "metadata": {},
   "source": [
    "### 2) test set의 assessmentItemID(=testId=KnowledgeTag) 는 모두 train set에 존재한다"
   ]
  },
  {
   "cell_type": "code",
   "execution_count": null,
   "id": "5194844b-b560-4ab0-be46-6a80a84a07bf",
   "metadata": {
    "tags": []
   },
   "outputs": [],
   "source": [
    "result = test_df['assessmentItemID'].isin(train_df['assessmentItemID'].unique())\n",
    "print(all(result))\n",
    "result = test_df['testId'].isin(train_df['testId'].unique())\n",
    "print(all(result))\n",
    "result = test_df['KnowledgeTag'].isin(train_df['KnowledgeTag'].unique())\n",
    "print(all(result))"
   ]
  },
  {
   "cell_type": "markdown",
   "id": "56c8d104-d310-45a8-971f-7a99da20cc8d",
   "metadata": {},
   "source": [
    "### 3) userID 마다 answerCode가 -1 인 row가 하나뿐이다. -1 은 마지막 timestamp를 갖는다"
   ]
  },
  {
   "cell_type": "code",
   "execution_count": null,
   "id": "821d102c-6131-4dcb-871c-855d6199d9cf",
   "metadata": {},
   "outputs": [],
   "source": [
    "unique_id = len(test_df['userID'].unique())\n",
    "minus_len = len(test_df[test_df['answerCode'] == -1])\n",
    "minus_unique_id = len(test_df[test_df['answerCode'] == -1]['userID'].unique())\n",
    "\n",
    "print(unique_id, minus_len, minus_unique_id, )"
   ]
  },
  {
   "cell_type": "markdown",
   "id": "beafa63b-c3b6-4bf7-81fc-7454fa0a6fa8",
   "metadata": {},
   "source": [
    "### 4) test set내 unique 개수"
   ]
  },
  {
   "cell_type": "code",
   "execution_count": null,
   "id": "ada32285-1559-4dc3-8d7b-5c5d7a9a01e2",
   "metadata": {},
   "outputs": [],
   "source": [
    "minus_df = test_df[test_df['answerCode'] == -1]"
   ]
  },
  {
   "cell_type": "code",
   "execution_count": null,
   "id": "0a88e422-67b8-4eb5-a623-dc404832f64f",
   "metadata": {},
   "outputs": [],
   "source": [
    "unique_assessment = minus_df['assessmentItemID'].unique()\n",
    "unique_test = minus_df['testId'].unique()\n",
    "unique_tag = minus_df['KnowledgeTag'].unique()\n",
    "print(unique_assessment.size)\n",
    "print(unique_test.size)\n",
    "print(unique_tag.size)"
   ]
  },
  {
   "cell_type": "markdown",
   "id": "82246f72-ecf8-4515-a10e-f0adabd5b38f",
   "metadata": {},
   "source": [
    "### 5) 마지막 문제와 같은 문제를 푼 기록이 있기도 하다"
   ]
  },
  {
   "cell_type": "code",
   "execution_count": null,
   "id": "a9007a14-da1b-4a40-894d-5a10029de804",
   "metadata": {},
   "outputs": [],
   "source": [
    "minus_question = minus_df[['userID', 'assessmentItemID']].values"
   ]
  },
  {
   "cell_type": "code",
   "execution_count": null,
   "id": "3bd2829f-a1b8-4ff8-8b7b-d005c0513ec4",
   "metadata": {},
   "outputs": [],
   "source": [
    "for uid, itemid in minus_question:\n",
    "    res = test_df[(test_df['userID'] == uid) & (test_df['assessmentItemID'] == itemid)]\n",
    "    if len(res) > 1:\n",
    "        print(uid, itemid)"
   ]
  },
  {
   "cell_type": "code",
   "execution_count": null,
   "id": "66414715-91fd-461c-bcda-ab689e181fa0",
   "metadata": {},
   "outputs": [],
   "source": [
    "test_df[(test_df['userID'] == 203) & (test_df['assessmentItemID'] == 'A060073007')]"
   ]
  },
  {
   "cell_type": "code",
   "execution_count": null,
   "id": "5616f883-7bcb-4de6-9486-e13d2c728748",
   "metadata": {},
   "outputs": [],
   "source": [
    "train_df['tmp_index'] = train_df.index"
   ]
  },
  {
   "cell_type": "code",
   "execution_count": null,
   "id": "8047d05a-87a3-41cc-8762-533d5d4bf3fd",
   "metadata": {},
   "outputs": [],
   "source": [
    "tmp_df = train_df[['userID', 'tmp_index', 'Timestamp']]"
   ]
  },
  {
   "cell_type": "code",
   "execution_count": null,
   "id": "16351860-70de-4e5d-b08b-7c628c01e3be",
   "metadata": {
    "tags": []
   },
   "outputs": [],
   "source": [
    "tmp_df['tmp_index'] = tmp_df['tmp_index']+1"
   ]
  },
  {
   "cell_type": "code",
   "execution_count": null,
   "id": "6a92c782-6ca3-47c8-a370-09eae4222b6c",
   "metadata": {},
   "outputs": [],
   "source": [
    "train_elapse = train_df.merge(tmp_df, how='left', on=['userID', 'tmp_index'])"
   ]
  },
  {
   "cell_type": "code",
   "execution_count": null,
   "id": "4fc44e20-527f-42d1-8677-81fe1304430f",
   "metadata": {},
   "outputs": [],
   "source": [
    "train_elapse['elapse'] = train_elapse['Timestamp_x'] - train_elapse['Timestamp_y']"
   ]
  },
  {
   "cell_type": "code",
   "execution_count": null,
   "id": "dba66a9a-3fe9-4af7-8046-95ca41956905",
   "metadata": {},
   "outputs": [],
   "source": [
    "train_elapse[train_elapse['assessmentItemID'] == 'A060073007']"
   ]
  },
  {
   "cell_type": "markdown",
   "id": "84b59ab4-7284-479b-bcea-4c9012ddf394",
   "metadata": {},
   "source": [
    "### 6) 예측할때 해당 문제의 소요시간을 알 수 없다.\n",
    "#### 사용할만한 것?\n",
    "* 해당 문제 평균 소요시간\n",
    "* 이전 문제 소요시간\n"
   ]
  },
  {
   "cell_type": "code",
   "execution_count": null,
   "id": "c3a8c902-b8e8-410f-9ef4-0388fdbbeab7",
   "metadata": {},
   "outputs": [],
   "source": [
    "test_df['tmp_index'] = test_df.index"
   ]
  },
  {
   "cell_type": "code",
   "execution_count": null,
   "id": "e6cea123-5ae9-431c-8138-18a2bbec29f9",
   "metadata": {},
   "outputs": [],
   "source": [
    "tmp_df = test_df[['userID', 'tmp_index', 'Timestamp']]"
   ]
  },
  {
   "cell_type": "code",
   "execution_count": null,
   "id": "10453b05-5050-4eb6-9f84-bd1a2b7e1caa",
   "metadata": {},
   "outputs": [],
   "source": [
    "tmp_df.loc[:, 'tmp_index'] += 1"
   ]
  },
  {
   "cell_type": "code",
   "execution_count": null,
   "id": "f006800b-6831-4e51-9b42-4d8e0ced0060",
   "metadata": {},
   "outputs": [],
   "source": [
    "test_elapse = test_df.merge(tmp_df, how='left', on=['userID', 'tmp_index'])"
   ]
  },
  {
   "cell_type": "code",
   "execution_count": null,
   "id": "3db15393-bb0a-4cb2-af52-7f48ba2e9dc7",
   "metadata": {},
   "outputs": [],
   "source": [
    "test_elapse['elapse'] = test_elapse['Timestamp_x'] - test_elapse['Timestamp_y']"
   ]
  },
  {
   "cell_type": "code",
   "execution_count": null,
   "id": "6b47e56a-aec7-4c78-a32c-51d3eed8c2b0",
   "metadata": {},
   "outputs": [],
   "source": [
    "five = timedelta(hours=5)"
   ]
  },
  {
   "cell_type": "code",
   "execution_count": null,
   "id": "85e069ba-d564-4c91-b161-c0ccc3fff927",
   "metadata": {
    "tags": []
   },
   "outputs": [],
   "source": [
    "test_elapse[test_elapse['elapse'] > five]"
   ]
  },
  {
   "cell_type": "code",
   "execution_count": null,
   "id": "247e8d32-763f-485e-ba36-3fa2fee82246",
   "metadata": {},
   "outputs": [],
   "source": [
    "## 유저별로 그룹할때 시험지 변화 찾기"
   ]
  },
  {
   "cell_type": "code",
   "execution_count": null,
   "id": "12f4bc08-7b42-404e-9e1f-21d8491e0688",
   "metadata": {},
   "outputs": [],
   "source": [
    "ggg = test_elapse.groupby(['userID'])"
   ]
  },
  {
   "cell_type": "code",
   "execution_count": null,
   "id": "f8f3ea0e-b9b6-4a5a-a7ec-320922828f8f",
   "metadata": {
    "tags": []
   },
   "outputs": [],
   "source": [
    "duped_user_id = []\n",
    "for key, gr in ggg:\n",
    "    dup_testID = []\n",
    "    prior_testID = gr.iloc[0]['testId']\n",
    "    \n",
    "    for index, row in gr.iterrows():\n",
    "        if prior_testID == row['testId']:\n",
    "            continue\n",
    "        \n",
    "        if row['testId'] in dup_testID:\n",
    "            duped_user_id.append(row['userID'])\n",
    "            break\n",
    "        else:\n",
    "            dup_testID.append(row['testId'])\n",
    "            prior_testID = row['testId']\n"
   ]
  },
  {
   "cell_type": "code",
   "execution_count": null,
   "id": "5c6f408a-405b-44e5-9fb7-9c03de2383aa",
   "metadata": {},
   "outputs": [],
   "source": [
    "pd.set_option('display.max_rows', None)"
   ]
  },
  {
   "cell_type": "code",
   "execution_count": null,
   "id": "994df5f4-98fe-427c-9d2b-98b7a28ea059",
   "metadata": {
    "tags": []
   },
   "outputs": [],
   "source": [
    "ggg.get_group(duped_user_id[0])"
   ]
  },
  {
   "cell_type": "code",
   "execution_count": null,
   "id": "4fc56cd2-0f41-43e7-af9e-382f216923a4",
   "metadata": {},
   "outputs": [],
   "source": [
    "pd.set_option('display.max_rows', 10)"
   ]
  },
  {
   "cell_type": "markdown",
   "id": "517f9b15-2804-4483-a62f-a42d1041540d",
   "metadata": {},
   "source": [
    "#### 풀다가 다음날 푸는 경우가 있다. (큰 시간차이)\n",
    "#### 여러 시험지를 왔다갔다 하면서 푸는 경우가 있다. (시간을 어떻게 적용시켜 줄것? 바로 다음 시험문제를 푼다고 확신할 수 있는가? 필요가 있는가?)"
   ]
  },
  {
   "cell_type": "code",
   "execution_count": null,
   "id": "bcb68ae7-b56c-4ee7-99b1-01ed939580cc",
   "metadata": {},
   "outputs": [],
   "source": [
    "### 유저 + 시험지별 분류"
   ]
  },
  {
   "cell_type": "code",
   "execution_count": null,
   "id": "c442ca8e-6435-4815-a197-282a2a2951cf",
   "metadata": {},
   "outputs": [],
   "source": [
    "test_df['tmp_index'] = test_df.index"
   ]
  },
  {
   "cell_type": "code",
   "execution_count": null,
   "id": "6ed1e32b-6ace-4cff-aa7d-d79e2c60f644",
   "metadata": {},
   "outputs": [],
   "source": [
    "tmp_df = test_df.loc[:, ['userID', 'testId', 'tmp_index', 'Timestamp']]"
   ]
  },
  {
   "cell_type": "code",
   "execution_count": null,
   "id": "362054da-d0bc-49d9-9f25-c3a970bba0d9",
   "metadata": {},
   "outputs": [],
   "source": [
    "tmp_df.loc[:, 'tmp_index'] -= 1"
   ]
  },
  {
   "cell_type": "code",
   "execution_count": null,
   "id": "a49e6687-7d5e-46d9-bb46-79c7223d041f",
   "metadata": {},
   "outputs": [],
   "source": [
    "test_elapse = test_df.merge(tmp_df, how='left', on=['userID', 'testId', 'tmp_index'])"
   ]
  },
  {
   "cell_type": "code",
   "execution_count": null,
   "id": "64df8dfa-de9d-4145-a0e5-ef2af4172693",
   "metadata": {},
   "outputs": [],
   "source": [
    "test_elapse['elapse'] = (test_elapse['Timestamp_y']  - test_elapse['Timestamp_x']).dt.seconds"
   ]
  },
  {
   "cell_type": "code",
   "execution_count": null,
   "id": "653f3f41-6608-4f40-a6e2-b3d5f527c917",
   "metadata": {},
   "outputs": [],
   "source": [
    "test_elapse"
   ]
  },
  {
   "cell_type": "code",
   "execution_count": null,
   "id": "c432fed0-2965-4355-aebb-eae1175e146d",
   "metadata": {},
   "outputs": [],
   "source": [
    "test_elapse['elapse'] = test_elapse['elapse'].fillna(0).astype(int)"
   ]
  },
  {
   "cell_type": "code",
   "execution_count": null,
   "id": "540895df-1929-4a41-b57f-91b596222722",
   "metadata": {},
   "outputs": [],
   "source": [
    "test_elapse.loc[test_elapse['elapse'] > 600, 'elapse'] = 0"
   ]
  },
  {
   "cell_type": "code",
   "execution_count": null,
   "id": "18fd65cd-addb-4e53-ab5a-74eae4282972",
   "metadata": {},
   "outputs": [],
   "source": [
    "test_elapse.elapse.value_counts()"
   ]
  },
  {
   "cell_type": "markdown",
   "id": "84ee0bb9-16af-4151-985f-69bc2b8e425c",
   "metadata": {},
   "source": [
    "### GroupShuffleSplit - 필요없음"
   ]
  },
  {
   "cell_type": "code",
   "execution_count": null,
   "id": "e68f8e88-f2d0-4048-933f-b22820a6d040",
   "metadata": {},
   "outputs": [],
   "source": [
    "from sklearn.model_selection import GroupShuffleSplit"
   ]
  },
  {
   "cell_type": "code",
   "execution_count": null,
   "id": "460f4386-8b78-42af-a06b-9492d869172d",
   "metadata": {},
   "outputs": [],
   "source": [
    "gss = GroupShuffleSplit(n_splits=1, train_size=0.8, random_state=42)"
   ]
  },
  {
   "cell_type": "code",
   "execution_count": null,
   "id": "e33a3604-9c1f-405d-a923-9a5077a13b9a",
   "metadata": {
    "tags": []
   },
   "outputs": [],
   "source": [
    "for train, test in gss.split(train_df.index.values, groups=train_df.userID.values):\n",
    "    print(train.size)\n",
    "    print(test.size)"
   ]
  },
  {
   "cell_type": "markdown",
   "id": "d7c495be-f1af-4c68-aa7e-58303c2cb319",
   "metadata": {},
   "source": [
    "### LabelEncoder - "
   ]
  },
  {
   "cell_type": "code",
   "execution_count": null,
   "id": "6f35bf99-c4e2-488f-a5d9-a29ac06227ff",
   "metadata": {},
   "outputs": [],
   "source": [
    "from sklearn.preprocessing import LabelEncoder\n",
    "le = LabelEncoder()\n",
    "assess = minus_df['assessmentItemID'].values\n",
    "le.fit(assess)"
   ]
  },
  {
   "cell_type": "code",
   "execution_count": null,
   "id": "ce3be888-cc5e-4bf5-b99b-4723a8f2d19c",
   "metadata": {},
   "outputs": [],
   "source": [
    "le.transform(['A080126008'])"
   ]
  },
  {
   "cell_type": "markdown",
   "id": "2e699d30-7529-41ed-af7e-9f22447dbe62",
   "metadata": {},
   "source": [
    "### 시간별 count"
   ]
  },
  {
   "cell_type": "code",
   "execution_count": null,
   "id": "19d74f8f-98e6-464d-9bb3-87982167629d",
   "metadata": {},
   "outputs": [],
   "source": [
    "ttt = test_elapse.copy()"
   ]
  },
  {
   "cell_type": "code",
   "execution_count": null,
   "id": "85bee1f3-1c24-4776-8fea-d99a2193d3d8",
   "metadata": {},
   "outputs": [],
   "source": [
    "ttt.isna().sum()"
   ]
  },
  {
   "cell_type": "code",
   "execution_count": null,
   "id": "ce9a5671-2450-40f8-9eae-1a5cd62ad170",
   "metadata": {},
   "outputs": [],
   "source": [
    "ttt.count()"
   ]
  },
  {
   "cell_type": "code",
   "execution_count": null,
   "id": "71302ee1-4b29-4b1c-9b03-1342bfe46b21",
   "metadata": {},
   "outputs": [],
   "source": [
    "42926 / (217188 + 42926)"
   ]
  },
  {
   "cell_type": "code",
   "execution_count": null,
   "id": "909f1c93-4dae-45bb-b29e-a32291786cbb",
   "metadata": {},
   "outputs": [],
   "source": [
    "ttt_drop = ttt.dropna()"
   ]
  },
  {
   "cell_type": "code",
   "execution_count": null,
   "id": "0340952d-bad0-4e1d-a714-21cced8b686e",
   "metadata": {},
   "outputs": [],
   "source": [
    "ttt_drop.head(3)"
   ]
  },
  {
   "cell_type": "code",
   "execution_count": null,
   "id": "bf7db8ca-0d16-4993-9943-a50095924ab7",
   "metadata": {
    "tags": []
   },
   "outputs": [],
   "source": [
    "ttt_drop['elapse'] = (ttt_drop['elapse'].astype(np.int) / 10**9).astype(np.int)"
   ]
  },
  {
   "cell_type": "code",
   "execution_count": null,
   "id": "300e7736-46a2-4eb2-b5fa-b734401abfe9",
   "metadata": {},
   "outputs": [],
   "source": [
    "ttt_count = ttt_drop[['elapse', 'assessmentItemID']].groupby('elapse').count()"
   ]
  },
  {
   "cell_type": "code",
   "execution_count": null,
   "id": "5500fb57-74fd-463e-85c0-41333a872c44",
   "metadata": {},
   "outputs": [],
   "source": [
    "# 카운트 10개 이상만 남긴다\n",
    "ttt_above_10 = ttt_count[ttt_count['assessmentItemID'] > 10]"
   ]
  },
  {
   "cell_type": "code",
   "execution_count": null,
   "id": "771a61a7-b5b8-4b48-9cb2-d581c0022278",
   "metadata": {},
   "outputs": [],
   "source": [
    "ttt_above_10.index"
   ]
  },
  {
   "cell_type": "code",
   "execution_count": null,
   "id": "468d3f94-5e63-45e0-bfd5-5e24a34d0a2e",
   "metadata": {},
   "outputs": [],
   "source": [
    "plt.plot(ttt_above_10.index, ttt_above_10.values, 'ro', markersize=1)"
   ]
  },
  {
   "cell_type": "code",
   "execution_count": null,
   "id": "c208c598-0135-4e4c-bc49-236c64e61ba0",
   "metadata": {},
   "outputs": [],
   "source": [
    "plt.bar(ttt_above_10[:100].index.values, ttt_above_10[:100].assessmentItemID.values)"
   ]
  },
  {
   "cell_type": "markdown",
   "id": "2d84a50a-ba15-4f0b-a7b9-60c12b7fe100",
   "metadata": {},
   "source": [
    "### 7) 대분류 추가"
   ]
  },
  {
   "cell_type": "code",
   "execution_count": null,
   "id": "3deb9895-0729-457d-b9d0-c4e3c3199bfd",
   "metadata": {},
   "outputs": [],
   "source": [
    "minus_df['big_cate'] = minus_df['testId'].str[2]"
   ]
  },
  {
   "cell_type": "markdown",
   "id": "27e91347-91f4-431f-b8a9-82f9d1969da2",
   "metadata": {},
   "source": [
    "### 8) 시험지별 -> 점수, 시간"
   ]
  },
  {
   "cell_type": "code",
   "execution_count": null,
   "id": "a9b02699-b7b6-428a-930b-4754cb068aa9",
   "metadata": {},
   "outputs": [],
   "source": []
  },
  {
   "cell_type": "markdown",
   "id": "1d4e9574-322b-4ff3-a921-35af8975d4e1",
   "metadata": {},
   "source": [
    "### 9) 정답률 - 전체, 누적"
   ]
  },
  {
   "cell_type": "code",
   "execution_count": null,
   "id": "8ab7974b-9fe5-4ceb-bec1-86f87a85e150",
   "metadata": {},
   "outputs": [],
   "source": []
  },
  {
   "cell_type": "markdown",
   "id": "b4965354-7353-440a-afc5-71c6e4917472",
   "metadata": {},
   "source": [
    "### 10) 테스트 데이터 살펴보기"
   ]
  },
  {
   "cell_type": "code",
   "execution_count": null,
   "id": "08dcccc3-6408-4f0f-a8c0-67106dec0a82",
   "metadata": {},
   "outputs": [],
   "source": [
    "row_count = test_df.groupby('userID')['userID'].count().values"
   ]
  },
  {
   "cell_type": "code",
   "execution_count": null,
   "id": "0c8d7019-2880-4986-a639-b1fc415082e5",
   "metadata": {},
   "outputs": [],
   "source": [
    "plt.plot(row_count, 'bo', markersize=2)\n",
    "plt.axhline(row_count.mean(), color='red')\n",
    "plt.title('averge_row')\n",
    "plt.show()"
   ]
  },
  {
   "cell_type": "code",
   "execution_count": null,
   "id": "aff007ac-088d-4aed-bc5a-1abcf41d30d9",
   "metadata": {},
   "outputs": [],
   "source": [
    "train_row_count = train_df.groupby('userID')['userID'].count().values\n",
    "plt.plot(train_row_count, 'bo', markersize=2)\n",
    "plt.axhline(train_row_count.mean(), color='red')\n",
    "plt.title('averge_row')\n",
    "plt.show()"
   ]
  },
  {
   "cell_type": "code",
   "execution_count": null,
   "id": "fd7a0bcb-8d60-4299-aa3c-e76975c1cba6",
   "metadata": {},
   "outputs": [],
   "source": [
    "last_times = test_df[test_df['answerCode'] == -1].Timestamp"
   ]
  },
  {
   "cell_type": "code",
   "execution_count": null,
   "id": "5a902117-85cf-4396-a2ad-f4c39610c46d",
   "metadata": {},
   "outputs": [],
   "source": [
    "last_times.min()"
   ]
  },
  {
   "cell_type": "code",
   "execution_count": null,
   "id": "8807434d-d61d-435e-8b25-50780c2bee41",
   "metadata": {},
   "outputs": [],
   "source": [
    "last_times.max()"
   ]
  },
  {
   "cell_type": "code",
   "execution_count": null,
   "id": "39af7429-b012-4b74-ac57-f27c733b68c3",
   "metadata": {},
   "outputs": [],
   "source": [
    "train_df.groupby('userID').Timestamp.max().min()"
   ]
  },
  {
   "cell_type": "code",
   "execution_count": null,
   "id": "7038d242-e803-411b-b55a-9dad93960881",
   "metadata": {},
   "outputs": [],
   "source": [
    "train_df.groupby('userID').Timestamp.max().max()"
   ]
  },
  {
   "cell_type": "code",
   "execution_count": null,
   "id": "c2f5e547-25fb-43d2-8958-8c7e36883fa4",
   "metadata": {},
   "outputs": [],
   "source": []
  },
  {
   "cell_type": "code",
   "execution_count": null,
   "id": "30b979d8-6d22-4430-aef5-6885a0087412",
   "metadata": {},
   "outputs": [],
   "source": [
    "t = train_df[['userID', 'Timestamp']].groupby(['userID']).agg({\n",
    "    'userID':'count',\n",
    "    'Timestamp':'max'\n",
    "})"
   ]
  },
  {
   "cell_type": "code",
   "execution_count": null,
   "id": "19f89346-3766-401e-b66d-8cfbedb0a6c3",
   "metadata": {},
   "outputs": [],
   "source": [
    "t = t.sort_values('Timestamp')"
   ]
  },
  {
   "cell_type": "code",
   "execution_count": null,
   "id": "481f9ff0-f363-4ad0-849f-2b9a8584b288",
   "metadata": {},
   "outputs": [],
   "source": [
    "plt.plot(t['userID'].values)"
   ]
  },
  {
   "cell_type": "code",
   "execution_count": null,
   "id": "c96c322e-3662-406c-b7a1-1989b347a75d",
   "metadata": {},
   "outputs": [],
   "source": [
    "t = test_df[['userID', 'Timestamp']].groupby(['userID']).agg({\n",
    "    'userID':'count',\n",
    "    'Timestamp':'max'\n",
    "})"
   ]
  },
  {
   "cell_type": "code",
   "execution_count": null,
   "id": "287580b4-27a6-4dc9-bf77-6a0d8c894409",
   "metadata": {},
   "outputs": [],
   "source": [
    "t = t.sort_values('Timestamp')"
   ]
  },
  {
   "cell_type": "code",
   "execution_count": null,
   "id": "fc49b489-41bf-4b13-ab58-31d57a8d2114",
   "metadata": {},
   "outputs": [],
   "source": [
    "t"
   ]
  },
  {
   "cell_type": "code",
   "execution_count": null,
   "id": "4961a1fd-54b8-4ba6-94a4-edae89e4d77b",
   "metadata": {},
   "outputs": [],
   "source": [
    "plt.plot(t['userID'].values)"
   ]
  }
 ],
 "metadata": {
  "kernelspec": {
   "display_name": "Python 3",
   "language": "python",
   "name": "python3"
  },
  "language_info": {
   "codemirror_mode": {
    "name": "ipython",
    "version": 3
   },
   "file_extension": ".py",
   "mimetype": "text/x-python",
   "name": "python",
   "nbconvert_exporter": "python",
   "pygments_lexer": "ipython3",
   "version": "3.7.7"
  }
 },
 "nbformat": 4,
 "nbformat_minor": 5
}
