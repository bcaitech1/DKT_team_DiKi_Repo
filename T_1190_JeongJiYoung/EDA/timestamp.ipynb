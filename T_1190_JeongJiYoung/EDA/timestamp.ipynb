{
 "cells": [
  {
   "cell_type": "code",
   "execution_count": 1,
   "id": "b9bfc521-3fd4-486f-9b52-d2cd3085a0a4",
   "metadata": {},
   "outputs": [],
   "source": [
    "import os\n",
    "import pandas as pd\n",
    "from datetime import datetime, timedelta\n",
    "import random\n",
    "import numpy as np\n",
    "import matplotlib.pyplot as plt\n",
    "import seaborn as sns"
   ]
  },
  {
   "cell_type": "code",
   "execution_count": 2,
   "id": "f116a0fe-201b-41f0-b682-a81f285a2721",
   "metadata": {},
   "outputs": [],
   "source": [
    "from sklearn.preprocessing import QuantileTransformer"
   ]
  },
  {
   "cell_type": "code",
   "execution_count": 3,
   "id": "f3641042-b181-4afa-88f0-cd5a92102d4d",
   "metadata": {},
   "outputs": [],
   "source": [
    "train_file = 'train_data.csv'\n",
    "test_file = 'test_data.csv'\n",
    "\n",
    "data_path = '/opt/ml/input/data/train_dataset'\n",
    "train_path = os.path.join(data_path, train_file)\n",
    "test_path = os.path.join(data_path, test_file)"
   ]
  },
  {
   "cell_type": "code",
   "execution_count": 4,
   "id": "c8e98429-d0b2-4400-b737-41225ad7a4c5",
   "metadata": {},
   "outputs": [],
   "source": [
    "train_df = pd.read_csv(train_path, parse_dates=['Timestamp'])\n",
    "test_df = pd.read_csv(test_path, parse_dates=['Timestamp'])"
   ]
  },
  {
   "cell_type": "markdown",
   "id": "92ffeb40-2be2-4645-b02c-1574c3aaaa03",
   "metadata": {},
   "source": [
    "# EDA"
   ]
  },
  {
   "cell_type": "code",
   "execution_count": 5,
   "id": "fae05d80-7f9d-4ef4-b46d-94c22284598d",
   "metadata": {},
   "outputs": [],
   "source": [
    "df = train_df.copy()\n",
    "df['tmp_index'] = df.index\n",
    "tmp_df = df[['userID', 'testId', 'Timestamp', 'tmp_index']].shift(1)\n",
    "tmp_df['tmp_index'] += 1\n",
    "tmp_df = tmp_df.rename(columns={'Timestamp':'prior_timestamp'})\n",
    "df = df.merge(tmp_df, how='left', on=['userID', 'testId', 'tmp_index'])\n",
    "df['prior_elapsed'] = (df.Timestamp - df.prior_timestamp).dt.seconds"
   ]
  },
  {
   "cell_type": "code",
   "execution_count": 14,
   "id": "19768ea9-b02d-40ab-8e1b-40dc6ed29459",
   "metadata": {},
   "outputs": [],
   "source": [
    "upper_bound = df['prior_elapsed'].quantile(0.98) # outlier 설정\n",
    "median = df[df['prior_elapsed'] <= upper_bound]['prior_elapsed'].median() \n",
    "df.loc[df['prior_elapsed'] > upper_bound, 'prior_elapsed'] = median \n",
    "df['prior_elapsed'] = df['prior_elapsed'].fillna(median) # 빈값 채우기"
   ]
  },
  {
   "cell_type": "code",
   "execution_count": 15,
   "id": "a122ad94-1546-4f86-8ba3-30e16095bb0a",
   "metadata": {},
   "outputs": [
    {
     "data": {
      "text/plain": [
       "<AxesSubplot:>"
      ]
     },
     "execution_count": 15,
     "metadata": {},
     "output_type": "execute_result"
    },
    {
     "data": {
      "image/png": "[encoded data removed]",
      "text/plain": [
       "<Figure size 432x288 with 1 Axes>"
      ]
     },
     "metadata": {
      "needs_background": "light"
     },
     "output_type": "display_data"
    }
   ],
   "source": [
    "df.prior_elapsed.hist()"
   ]
  },
  {
   "cell_type": "code",
   "execution_count": 16,
   "id": "fd59e710-bfe6-418b-b47d-aa747c77f8cb",
   "metadata": {},
   "outputs": [],
   "source": [
    "df['prior_elapsed_log'] = np.log1p(df['prior_elapsed'])"
   ]
  },
  {
   "cell_type": "code",
   "execution_count": 17,
   "id": "6e41d237-cbb6-4a7d-802c-da28e6d72f63",
   "metadata": {},
   "outputs": [
    {
     "data": {
      "text/plain": [
       "<AxesSubplot:>"
      ]
     },
     "execution_count": 17,
     "metadata": {},
     "output_type": "execute_result"
    },
    {
     "data": {
      "image/png": "[encoded data removed]",
      "text/plain": [
       "<Figure size 432x288 with 1 Axes>"
      ]
     },
     "metadata": {
      "needs_background": "light"
     },
     "output_type": "display_data"
    }
   ],
   "source": [
    "df.prior_elapsed_log.hist()"
   ]
  },
  {
   "cell_type": "code",
   "execution_count": 20,
   "id": "10b8679c-57c6-4200-9cfb-8ed1e22f5351",
   "metadata": {},
   "outputs": [],
   "source": [
    "df['prior_elapsed_quantile'] = QuantileTransformer(output_distribution='normal').fit_transform(df.prior_elapsed.values.reshape(-1,1)).reshape(-1)"
   ]
  },
  {
   "cell_type": "code",
   "execution_count": 21,
   "id": "7207d99e-1485-4ff0-9c42-4ce4081eb89f",
   "metadata": {},
   "outputs": [
    {
     "data": {
      "text/plain": [
       "<AxesSubplot:>"
      ]
     },
     "execution_count": 21,
     "metadata": {},
     "output_type": "execute_result"
    },
    {
     "data": {
      "image/png": "[encoded data removed]",
      "text/plain": [
       "<Figure size 432x288 with 1 Axes>"
      ]
     },
     "metadata": {
      "needs_background": "light"
     },
     "output_type": "display_data"
    }
   ],
   "source": [
    "df.prior_elapsed_quantile.hist()"
   ]
  }
 ],
 "metadata": {
  "kernelspec": {
   "display_name": "Python 3",
   "language": "python",
   "name": "python3"
  },
  "language_info": {
   "codemirror_mode": {
    "name": "ipython",
    "version": 3
   },
   "file_extension": ".py",
   "mimetype": "text/x-python",
   "name": "python",
   "nbconvert_exporter": "python",
   "pygments_lexer": "ipython3",
   "version": "3.7.7"
  }
 },
 "nbformat": 4,
 "nbformat_minor": 5
}
