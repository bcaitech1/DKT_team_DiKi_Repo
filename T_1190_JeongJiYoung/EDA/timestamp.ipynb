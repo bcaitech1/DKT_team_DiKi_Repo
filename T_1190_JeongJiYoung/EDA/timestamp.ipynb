{
 "cells": [
  {
   "cell_type": "code",
   "execution_count": null,
   "id": "b9bfc521-3fd4-486f-9b52-d2cd3085a0a4",
   "metadata": {},
   "outputs": [],
   "source": [
    "import os\n",
    "import pandas as pd\n",
    "from datetime import datetime, timedelta\n",
    "import random\n",
    "import numpy as np"
   ]
  },
  {
   "cell_type": "code",
   "execution_count": null,
   "id": "f3641042-b181-4afa-88f0-cd5a92102d4d",
   "metadata": {},
   "outputs": [],
   "source": [
    "train_file = 'train_data.csv'\n",
    "test_file = 'test_data.csv'\n",
    "\n",
    "data_path = '/opt/ml/input/data/train_dataset'\n",
    "train_path = os.path.join(data_path, train_file)\n",
    "test_path = os.path.join(data_path, test_file)"
   ]
  },
  {
   "cell_type": "code",
   "execution_count": null,
   "id": "c8e98429-d0b2-4400-b737-41225ad7a4c5",
   "metadata": {},
   "outputs": [],
   "source": [
    "train_df = pd.read_csv(train_path, parse_dates=['Timestamp'])\n",
    "test_df = pd.read_csv(test_path, parse_dates=['Timestamp'])"
   ]
  },
  {
   "cell_type": "markdown",
   "id": "92ffeb40-2be2-4645-b02c-1574c3aaaa03",
   "metadata": {},
   "source": [
    "# EDA"
   ]
  },
  {
   "cell_type": "code",
   "execution_count": null,
   "id": "fae05d80-7f9d-4ef4-b46d-94c22284598d",
   "metadata": {},
   "outputs": [],
   "source": [
    "df = train_df.copy()"
   ]
  },
  {
   "cell_type": "code",
   "execution_count": null,
   "id": "ae1c479f-7035-4093-9ec5-73daed607fb9",
   "metadata": {},
   "outputs": [],
   "source": [
    "df['tmp_index'] = df.index\n",
    "tmp_df = df[['userID', 'testId', 'Timestamp', 'tmp_index']].shift(1)\n",
    "tmp_df['tmp_index'] += 1\n",
    "df = df.merge(tmp_df, how='left', on=['userID', 'testId', 'tmp_index'])\n",
    "df['prior_elapsed'] = (df.Timestamp_x - df.Timestamp_y).dt.seconds\n",
    "\n",
    "median = df['prior_elapsed'].median()\n",
    "df.loc[df['prior_elapsed'] > 600, 'prior_elapsed'] = median\n",
    "df['prior_elapsed'] = df['prior_elapsed'].fillna(median)"
   ]
  },
  {
   "cell_type": "code",
   "execution_count": null,
   "id": "bc138813-843b-4a40-b2af-5dab64d74576",
   "metadata": {},
   "outputs": [],
   "source": [
    "# df['prior_elapsed'] = np.log1p(df['prior_elapsed'])"
   ]
  },
  {
   "cell_type": "code",
   "execution_count": null,
   "id": "c28fb642-25f4-42ff-bef9-e9b51b4f81ea",
   "metadata": {},
   "outputs": [],
   "source": [
    "df = df.drop(columns=['Timestamp_y', 'tmp_index'])"
   ]
  },
  {
   "cell_type": "code",
   "execution_count": null,
   "id": "372db5de-72f4-4384-b6e1-1284d92dd81d",
   "metadata": {},
   "outputs": [],
   "source": [
    "assess_time = df.groupby('assessmentItemID').prior_elapsed.mean()"
   ]
  },
  {
   "cell_type": "code",
   "execution_count": null,
   "id": "869d81a4-27cb-41bf-be39-ad512fe0b4ff",
   "metadata": {},
   "outputs": [],
   "source": [
    "df = df.merge(assess_time, how='left', on=['assessmentItemID'])"
   ]
  },
  {
   "cell_type": "code",
   "execution_count": null,
   "id": "3a736647-2932-4d3d-afff-830598104aa1",
   "metadata": {},
   "outputs": [],
   "source": [
    "assess_time"
   ]
  },
  {
   "cell_type": "code",
   "execution_count": null,
   "id": "1648ed0e-0538-4621-b24d-d014a84a4b84",
   "metadata": {},
   "outputs": [],
   "source": [
    "df[['answerCode', 'prior_elapsed_x', 'prior_elapsed_y']].corr()"
   ]
  },
  {
   "cell_type": "code",
   "execution_count": null,
   "id": "7a5ccf41-708e-47b5-ae89-24aaf233e778",
   "metadata": {},
   "outputs": [],
   "source": [
    "df['prior_elapsed_x'] = np.log1p(df['prior_elapsed_x'])\n",
    "df['prior_elapsed_y'] = np.log1p(df['prior_elapsed_y'])"
   ]
  },
  {
   "cell_type": "code",
   "execution_count": null,
   "id": "b5a2d391-b212-4c34-9067-419745d06bd6",
   "metadata": {},
   "outputs": [],
   "source": [
    "df[['answerCode', 'prior_elapsed_x', 'prior_elapsed_y']].corr()"
   ]
  },
  {
   "cell_type": "code",
   "execution_count": null,
   "id": "639660a1-1399-4ae8-89a6-14a6d9046179",
   "metadata": {},
   "outputs": [],
   "source": [
    "df = df.rename(columns={'prior_elapsed_y':'mean_elapsed'})"
   ]
  },
  {
   "cell_type": "code",
   "execution_count": null,
   "id": "479f05ea-ee5c-4e16-ad83-850f33882f90",
   "metadata": {},
   "outputs": [],
   "source": [
    "assess_time"
   ]
  },
  {
   "cell_type": "code",
   "execution_count": null,
   "id": "b909a645-92bf-4cce-a6bb-db765bd46c31",
   "metadata": {},
   "outputs": [],
   "source": [
    "assess_time.name = 'mean_elapsed'"
   ]
  },
  {
   "cell_type": "code",
   "execution_count": null,
   "id": "7f0217bb-cda9-4918-8e74-85137606c23a",
   "metadata": {},
   "outputs": [],
   "source": [
    "assess_time"
   ]
  },
  {
   "cell_type": "code",
   "execution_count": null,
   "id": "2c0cfd94-3957-42a7-a390-30d3830138ed",
   "metadata": {},
   "outputs": [],
   "source": []
  },
  {
   "cell_type": "code",
   "execution_count": null,
   "id": "6e4f887b-d712-47c4-bfd1-fffe2dc6b6b9",
   "metadata": {},
   "outputs": [],
   "source": [
    "import torch"
   ]
  },
  {
   "cell_type": "code",
   "execution_count": null,
   "id": "d898b541-d9b9-4105-92bc-3423749e0125",
   "metadata": {},
   "outputs": [],
   "source": [
    "a = torch.rand(10,20)\n",
    "b = torch.rand(10,20)"
   ]
  },
  {
   "cell_type": "code",
   "execution_count": null,
   "id": "56c3f475-dfcc-4009-b368-73ffc19cff61",
   "metadata": {},
   "outputs": [],
   "source": [
    "c = torch.cat([a,b],  dim=1)"
   ]
  },
  {
   "cell_type": "code",
   "execution_count": null,
   "id": "1e98f0cb-f8c3-467c-885f-8a4cee444757",
   "metadata": {},
   "outputs": [],
   "source": []
  },
  {
   "cell_type": "code",
   "execution_count": null,
   "id": "fd7294fa-e0eb-4ae7-9b94-d2772d46eb1f",
   "metadata": {},
   "outputs": [],
   "source": [
    "df = train_df.copy()\n",
    "df['tmp_index'] = df.index\n",
    "tmp_df = df[['userID', 'testId', 'Timestamp', 'tmp_index']].shift(1)\n",
    "tmp_df['tmp_index'] += 1\n",
    "df = df.merge(tmp_df, how='left', on=['userID', 'testId', 'tmp_index'])\n",
    "df['prior_elapsed'] = (df.Timestamp_x - df.Timestamp_y).dt.seconds"
   ]
  },
  {
   "cell_type": "code",
   "execution_count": null,
   "id": "ef21e11c-d5e6-4807-b011-e97ecaa0a764",
   "metadata": {},
   "outputs": [],
   "source": [
    "df.prior_elapsed.quantile(0.99)"
   ]
  },
  {
   "cell_type": "code",
   "execution_count": null,
   "id": "6700657b-a445-49a8-bee0-34478fe82721",
   "metadata": {},
   "outputs": [],
   "source": [
    "(df.prior_elapsed > 250).sum()"
   ]
  },
  {
   "cell_type": "code",
   "execution_count": null,
   "id": "69e72399-c4bf-4e90-a018-22d8840d62e5",
   "metadata": {},
   "outputs": [],
   "source": [
    "len(df)"
   ]
  },
  {
   "cell_type": "code",
   "execution_count": null,
   "id": "99610d5e-47d1-4be5-8ab0-92430222d077",
   "metadata": {},
   "outputs": [],
   "source": [
    "99432 / 2266586"
   ]
  },
  {
   "cell_type": "code",
   "execution_count": null,
   "id": "ad1746a0-767b-4bc8-9afc-640fc258b07b",
   "metadata": {},
   "outputs": [],
   "source": [
    "65.0 - 10.0"
   ]
  },
  {
   "cell_type": "code",
   "execution_count": null,
   "id": "3d580875-8329-4713-9314-ec3d7b345a20",
   "metadata": {},
   "outputs": [],
   "source": [
    "65.0 + 1.5 * 65.0"
   ]
  },
  {
   "cell_type": "code",
   "execution_count": null,
   "id": "52d58e14-684a-4730-8235-a52759e9a0d2",
   "metadata": {},
   "outputs": [],
   "source": [
    "df.prior_elapsed.quantile(0.95)"
   ]
  },
  {
   "cell_type": "code",
   "execution_count": null,
   "id": "c2fac43b-fbf9-405a-9676-19d2f7a101f5",
   "metadata": {},
   "outputs": [],
   "source": [
    "median = df[df['prior_elapsed'] <= 537]['prior_elapsed'].median()\n",
    "df.loc[df['prior_elapsed'] > 537, 'prior_elapsed'] = median # 95%\n",
    "df['prior_elapsed'] = df['prior_elapsed'].fillna(median)"
   ]
  },
  {
   "cell_type": "code",
   "execution_count": null,
   "id": "f9aed36d-22ca-4b48-bf35-9ceddf445b50",
   "metadata": {},
   "outputs": [],
   "source": []
  }
 ],
 "metadata": {
  "kernelspec": {
   "display_name": "Python 3",
   "language": "python",
   "name": "python3"
  },
  "language_info": {
   "codemirror_mode": {
    "name": "ipython",
    "version": 3
   },
   "file_extension": ".py",
   "mimetype": "text/x-python",
   "name": "python",
   "nbconvert_exporter": "python",
   "pygments_lexer": "ipython3",
   "version": "3.7.7"
  }
 },
 "nbformat": 4,
 "nbformat_minor": 5
}
