{
 "cells": [
  {
   "cell_type": "markdown",
   "metadata": {
    "id": "huFq4Um47fq2"
   },
   "source": [
    "# mlflow를 활용한 훈련 기록 및 모델 서빙 (sklearn)\n",
    "- 참고문서: https://mlflow.org/docs/latest/quickstart.html"
   ]
  },
  {
   "cell_type": "markdown",
   "metadata": {
    "id": "dtUeUDAc7frK"
   },
   "source": [
    "### mlflow 설치"
   ]
  },
  {
   "cell_type": "code",
   "execution_count": 1,
   "metadata": {
    "id": "PpGiU4rU7frM"
   },
   "outputs": [
    {
     "output_type": "stream",
     "name": "stdout",
     "text": [
      "Collecting mlflow\n",
      "  Downloading mlflow-1.17.0-py3-none-any.whl (14.2 MB)\n",
      "\u001b[K     |████████████████████████████████| 14.2 MB 21.4 MB/s \n",
      "\u001b[?25hRequirement already satisfied: gitpython>=2.1.0 in /opt/conda/lib/python3.7/site-packages (from mlflow) (3.1.17)\n",
      "Collecting cloudpickle\n",
      "  Downloading cloudpickle-1.6.0-py3-none-any.whl (23 kB)\n",
      "Collecting docker>=4.0.0\n",
      "  Downloading docker-5.0.0-py2.py3-none-any.whl (146 kB)\n",
      "\u001b[K     |████████████████████████████████| 146 kB 57.1 MB/s \n",
      "\u001b[?25hRequirement already satisfied: click>=7.0 in /opt/conda/lib/python3.7/site-packages (from mlflow) (8.0.1)\n",
      "Requirement already satisfied: pyyaml in /opt/conda/lib/python3.7/site-packages (from mlflow) (5.3.1)\n",
      "Requirement already satisfied: Flask in /opt/conda/lib/python3.7/site-packages (from mlflow) (2.0.1)\n",
      "Collecting databricks-cli>=0.8.7\n",
      "  Downloading databricks-cli-0.14.3.tar.gz (54 kB)\n",
      "\u001b[K     |████████████████████████████████| 54 kB 5.8 MB/s \n",
      "\u001b[?25hRequirement already satisfied: requests>=2.17.3 in /opt/conda/lib/python3.7/site-packages (from mlflow) (2.23.0)\n",
      "Collecting gunicorn; platform_system != \"Windows\"\n",
      "  Downloading gunicorn-20.1.0-py3-none-any.whl (79 kB)\n",
      "\u001b[K     |████████████████████████████████| 79 kB 11.5 MB/s \n",
      "\u001b[?25hCollecting prometheus-flask-exporter\n",
      "  Downloading prometheus_flask_exporter-0.18.2.tar.gz (22 kB)\n",
      "Requirement already satisfied: pytz in /opt/conda/lib/python3.7/site-packages (from mlflow) (2020.1)\n",
      "Collecting sqlalchemy\n",
      "  Downloading SQLAlchemy-1.4.17-cp37-cp37m-manylinux_2_5_x86_64.manylinux1_x86_64.manylinux_2_17_x86_64.manylinux2014_x86_64.whl (1.5 MB)\n",
      "\u001b[K     |████████████████████████████████| 1.5 MB 49.0 MB/s \n",
      "\u001b[?25hRequirement already satisfied: entrypoints in /opt/conda/lib/python3.7/site-packages (from mlflow) (0.3)\n",
      "Collecting alembic<=1.4.1\n",
      "  Downloading alembic-1.4.1.tar.gz (1.1 MB)\n",
      "\u001b[K     |████████████████████████████████| 1.1 MB 25.7 MB/s \n",
      "\u001b[?25hRequirement already satisfied: protobuf>=3.6.0 in /opt/conda/lib/python3.7/site-packages (from mlflow) (3.17.0)\n",
      "Collecting sqlparse>=0.3.1\n",
      "  Downloading sqlparse-0.4.1-py3-none-any.whl (42 kB)\n",
      "\u001b[K     |████████████████████████████████| 42 kB 2.0 MB/s \n",
      "\u001b[?25hCollecting querystring-parser\n",
      "  Downloading querystring_parser-1.2.4-py2.py3-none-any.whl (7.9 kB)\n",
      "Requirement already satisfied: numpy in /opt/conda/lib/python3.7/site-packages (from mlflow) (1.18.5)\n",
      "Requirement already satisfied: pandas in /opt/conda/lib/python3.7/site-packages (from mlflow) (1.2.4)\n",
      "Requirement already satisfied: typing-extensions>=3.7.4.0; python_version < \"3.8\" in /opt/conda/lib/python3.7/site-packages (from gitpython>=2.1.0->mlflow) (3.10.0.0)\n",
      "Requirement already satisfied: gitdb<5,>=4.0.1 in /opt/conda/lib/python3.7/site-packages (from gitpython>=2.1.0->mlflow) (4.0.7)\n",
      "Requirement already satisfied: websocket-client>=0.32.0 in /opt/conda/lib/python3.7/site-packages (from docker>=4.0.0->mlflow) (1.0.1)\n",
      "Requirement already satisfied: importlib-metadata; python_version < \"3.8\" in /opt/conda/lib/python3.7/site-packages (from click>=7.0->mlflow) (4.0.1)\n",
      "Requirement already satisfied: Jinja2>=3.0 in /opt/conda/lib/python3.7/site-packages (from Flask->mlflow) (3.0.1)\n",
      "Requirement already satisfied: itsdangerous>=2.0 in /opt/conda/lib/python3.7/site-packages (from Flask->mlflow) (2.0.1)\n",
      "Requirement already satisfied: Werkzeug>=2.0 in /opt/conda/lib/python3.7/site-packages (from Flask->mlflow) (2.0.1)\n",
      "Collecting tabulate>=0.7.7\n",
      "  Downloading tabulate-0.8.9-py3-none-any.whl (25 kB)\n",
      "Requirement already satisfied: six>=1.10.0 in /opt/conda/lib/python3.7/site-packages (from databricks-cli>=0.8.7->mlflow) (1.14.0)\n",
      "Requirement already satisfied: chardet<4,>=3.0.2 in /opt/conda/lib/python3.7/site-packages (from requests>=2.17.3->mlflow) (3.0.4)\n",
      "Requirement already satisfied: certifi>=2017.4.17 in /opt/conda/lib/python3.7/site-packages (from requests>=2.17.3->mlflow) (2020.6.20)\n",
      "Requirement already satisfied: urllib3!=1.25.0,!=1.25.1,<1.26,>=1.21.1 in /opt/conda/lib/python3.7/site-packages (from requests>=2.17.3->mlflow) (1.25.8)\n",
      "Requirement already satisfied: idna<3,>=2.5 in /opt/conda/lib/python3.7/site-packages (from requests>=2.17.3->mlflow) (2.9)\n",
      "Requirement already satisfied: setuptools>=3.0 in /opt/conda/lib/python3.7/site-packages (from gunicorn; platform_system != \"Windows\"->mlflow) (46.4.0.post20200518)\n",
      "Requirement already satisfied: prometheus_client in /opt/conda/lib/python3.7/site-packages (from prometheus-flask-exporter->mlflow) (0.10.1)\n",
      "Requirement already satisfied: greenlet!=0.4.17; python_version >= \"3\" in /opt/conda/lib/python3.7/site-packages (from sqlalchemy->mlflow) (1.1.0)\n",
      "Collecting Mako\n",
      "  Downloading Mako-1.1.4-py2.py3-none-any.whl (75 kB)\n",
      "\u001b[K     |████████████████████████████████| 75 kB 8.1 MB/s \n",
      "\u001b[?25hCollecting python-editor>=0.3\n",
      "  Downloading python_editor-1.0.4-py3-none-any.whl (4.9 kB)\n",
      "Requirement already satisfied: python-dateutil in /opt/conda/lib/python3.7/site-packages (from alembic<=1.4.1->mlflow) (2.8.1)\n",
      "Requirement already satisfied: smmap<5,>=3.0.1 in /opt/conda/lib/python3.7/site-packages (from gitdb<5,>=4.0.1->gitpython>=2.1.0->mlflow) (4.0.0)\n",
      "Requirement already satisfied: zipp>=0.5 in /opt/conda/lib/python3.7/site-packages (from importlib-metadata; python_version < \"3.8\"->click>=7.0->mlflow) (3.4.1)\n",
      "Requirement already satisfied: MarkupSafe>=2.0 in /opt/conda/lib/python3.7/site-packages (from Jinja2>=3.0->Flask->mlflow) (2.0.1)\n",
      "Building wheels for collected packages: databricks-cli, prometheus-flask-exporter, alembic\n",
      "  Building wheel for databricks-cli (setup.py) ... \u001b[?25ldone\n",
      "\u001b[?25h  Created wheel for databricks-cli: filename=databricks_cli-0.14.3-py3-none-any.whl size=100555 sha256=ebaef553bb3bd8926578a849caa8a8a00009b06063533d8aacab1083add74ab3\n",
      "  Stored in directory: /opt/ml/.cache/pip/wheels/3b/60/14/6930445b08959fbdf4e3029bac7e1f2cccb2e94df8afa00b29\n",
      "  Building wheel for prometheus-flask-exporter (setup.py) ... \u001b[?25ldone\n",
      "\u001b[?25h  Created wheel for prometheus-flask-exporter: filename=prometheus_flask_exporter-0.18.2-py3-none-any.whl size=17398 sha256=27c033db15343040cda1b1122963e0c8a31d95b60f1adb781d8e3f95686b80cf\n",
      "  Stored in directory: /opt/ml/.cache/pip/wheels/6a/1e/1c/c765920cb92b2f0343d2dd8b481a407cee2823f9b4bbd2e52a\n",
      "  Building wheel for alembic (setup.py) ... \u001b[?25ldone\n",
      "\u001b[?25h  Created wheel for alembic: filename=alembic-1.4.1-py2.py3-none-any.whl size=158154 sha256=2547b147100edc4fd58eec2f903fa9e758000a0f2fee50f20d6f080e230577b0\n",
      "  Stored in directory: /opt/ml/.cache/pip/wheels/be/5d/0a/9e13f53f4f5dfb67cd8d245bb7cdffe12f135846f491a283e3\n",
      "Successfully built databricks-cli prometheus-flask-exporter alembic\n",
      "Installing collected packages: cloudpickle, docker, tabulate, databricks-cli, gunicorn, prometheus-flask-exporter, sqlalchemy, Mako, python-editor, alembic, sqlparse, querystring-parser, mlflow\n",
      "Successfully installed Mako-1.1.4 alembic-1.4.1 cloudpickle-1.6.0 databricks-cli-0.14.3 docker-5.0.0 gunicorn-20.1.0 mlflow-1.17.0 prometheus-flask-exporter-0.18.2 python-editor-1.0.4 querystring-parser-1.2.4 sqlalchemy-1.4.17 sqlparse-0.4.1 tabulate-0.8.9\n"
     ]
    }
   ],
   "source": [
    "!pip install mlflow"
   ]
  },
  {
   "cell_type": "markdown",
   "metadata": {
    "id": "HWQ0NFjT7frO"
   },
   "source": [
    "### 터미널에 다음 명령어를 입려한뒤 mlflow gui 실행"
   ]
  },
  {
   "cell_type": "code",
   "execution_count": null,
   "metadata": {
    "id": "iFsKmi0W7frP"
   },
   "outputs": [],
   "source": [
    "# 주피터 노트북(8888)과 포트가 겹치지 않도록 8889로 실행\n",
    "# 포트는 상황에 맞게 자유롭게 변경해주시면 됩니다.\n",
    "# mlflow ui -h 0.0.0.0 -p 6006"
   ]
  },
  {
   "cell_type": "markdown",
   "metadata": {},
   "source": [
    "http://localhost:8889 로 접속하여 아래와 같은 웹사이트가 보이면 성공!\n",
    "<img src=\"image-asset/screenshot_01.png\"/>\n"
   ]
  },
  {
   "cell_type": "markdown",
   "metadata": {
    "id": "SRY8NJUS7frQ"
   },
   "source": [
    "### mlflow에 실험 초기화"
   ]
  },
  {
   "cell_type": "code",
   "execution_count": 2,
   "metadata": {
    "id": "HabW0BsL7frR"
   },
   "outputs": [],
   "source": [
    "import mlflow"
   ]
  },
  {
   "cell_type": "code",
   "execution_count": 3,
   "metadata": {
    "id": "mhIeUYyT7frS"
   },
   "outputs": [],
   "source": [
    "try:\n",
    "    #프로젝트 별로 이름을 다르게 가져가면서 실험들을 기록\n",
    "    mlflow.create_experiment(name='sklearn-test')\n",
    "except:\n",
    "    print('Exist experiment')\n",
    "\n",
    "mlflow.set_experiment('sklearn-test')"
   ]
  },
  {
   "cell_type": "code",
   "execution_count": 4,
   "metadata": {
    "id": "TsAo-DTT7frT"
   },
   "outputs": [
    {
     "output_type": "execute_result",
     "data": {
      "text/plain": [
       "<ActiveRun: >"
      ]
     },
     "metadata": {},
     "execution_count": 4
    }
   ],
   "source": [
    "#mlflow에 기록할 준비\n",
    "mlflow.start_run()"
   ]
  },
  {
   "cell_type": "code",
   "execution_count": 5,
   "metadata": {
    "id": "RxMzEiFp7frU"
   },
   "outputs": [],
   "source": [
    "#현재 모델/훈련의 버전 지정\n",
    "mlflow.set_tag('version', '0.1')"
   ]
  },
  {
   "cell_type": "code",
   "execution_count": 6,
   "metadata": {
    "id": "0LonWBmO7frV"
   },
   "outputs": [],
   "source": [
    "# 하이퍼 파라미터 설정\n",
    "params = {\n",
    "    'learning_rate' : 0.01,\n",
    "    'epochs' : 100,\n",
    "    'batch_size' : 128\n",
    "}"
   ]
  },
  {
   "cell_type": "code",
   "execution_count": 7,
   "metadata": {
    "id": "MR79IWLn7frW"
   },
   "outputs": [],
   "source": [
    "# mlflow에 현재 실험의 하이퍼파라미터 등록\n",
    "mlflow.log_params(params)"
   ]
  },
  {
   "cell_type": "markdown",
   "metadata": {
    "id": "fA77OZi_7frX"
   },
   "source": [
    "### 가상의 데이터 및 모델 준비"
   ]
  },
  {
   "cell_type": "code",
   "execution_count": 8,
   "metadata": {
    "id": "wCLhulLf7frX"
   },
   "outputs": [],
   "source": [
    "from sklearn.linear_model import LinearRegression"
   ]
  },
  {
   "cell_type": "code",
   "execution_count": 9,
   "metadata": {
    "id": "vzjPw_rp7frY"
   },
   "outputs": [],
   "source": [
    "model = LinearRegression()"
   ]
  },
  {
   "cell_type": "code",
   "execution_count": 10,
   "metadata": {
    "id": "93fAA7sm7frZ"
   },
   "outputs": [],
   "source": [
    "# 임시 데이터 생성\n",
    "from sklearn.model_selection import train_test_split\n",
    "import numpy as np\n",
    "X = np.random.rand(300, 2)\n",
    "y = np.random.rand(300)\n",
    "\n",
    "X_train, X_test, y_train, y_test = train_test_split(X, y, test_size=0.1, random_state=42)"
   ]
  },
  {
   "cell_type": "markdown",
   "metadata": {
    "id": "liPdMPzm7fra"
   },
   "source": [
    "## 모델 훈련(train)"
   ]
  },
  {
   "cell_type": "code",
   "execution_count": 11,
   "metadata": {
    "id": "4VWjHW-j7fra"
   },
   "outputs": [],
   "source": [
    "model = model.fit(X_train, y_train)"
   ]
  },
  {
   "cell_type": "code",
   "execution_count": 12,
   "metadata": {
    "id": "9BgeyERj7frb"
   },
   "outputs": [
    {
     "output_type": "stream",
     "name": "stdout",
     "text": [
      "0.07021110015411511\n"
     ]
    }
   ],
   "source": [
    "from sklearn.metrics import mean_squared_error\n",
    "\n",
    "y_pred = model.predict(X_test)\n",
    "mse = mean_squared_error(y_test, y_pred)\n",
    "print(mse)\n",
    "#validation 성능 등록\n",
    "mlflow.log_metric('MSE',mse)"
   ]
  },
  {
   "cell_type": "markdown",
   "metadata": {
    "id": "f14_rsYK7frc"
   },
   "source": [
    "### 훈련한 모델을 mlflow에 저장"
   ]
  },
  {
   "cell_type": "code",
   "execution_count": 13,
   "metadata": {
    "id": "VboG0TDw7frc"
   },
   "outputs": [],
   "source": [
    "mlflow.sklearn.log_model(model, 'save_model')"
   ]
  },
  {
   "cell_type": "code",
   "execution_count": 14,
   "metadata": {
    "id": "LH6jglBl7frd"
   },
   "outputs": [],
   "source": [
    "#mlflow 기록 종료\n",
    "mlflow.end_run()"
   ]
  },
  {
   "cell_type": "markdown",
   "metadata": {
    "id": "F81QEvxr7fre"
   },
   "source": [
    "## 모델 서빙\n",
    "mlflow gui에 접속하여 방금 훈련을 마친 모델의 실험 기록을 확인 한 후에, 모델 디렉토리를 복사\n",
    "- 모델 디렉토리 예: file:///Users/Tom/projects/9rkd/mlruns/1/a69f1d42be0e404097c19e3d2cd7fb7a/artifacts/save_model\n",
    "\n",
    "터미널에 아래 명령어 입력"
   ]
  },
  {
   "cell_type": "code",
   "execution_count": null,
   "metadata": {
    "id": "Cd0igkrc7frf"
   },
   "outputs": [],
   "source": [
    "# mlflow GUI와 포트가 겹치지 않도록 8890으로 실행\n",
    "\n",
    "# mlflow models serve -m <saved-model-dir> --no-conda -h 0.0.0.0 -p 8890\n",
    "# mlflow models serve -m file:///opt/ml/code/T_1170_LeeHakYoung/chapter9_practice/mlruns/1/962840c832a3463ba6ca768d203fe322/artifacts/save_model --no-conda -h 0.0.0.0 -p 8890"
   ]
  },
  {
   "cell_type": "markdown",
   "metadata": {
    "id": "IzOURSMW7frg"
   },
   "source": [
    "### curl로 요청을 보낼시\n",
    "기본적으로 http://[HOST]:[PORT]/invocations와 같이 'invocations'으로 resource path가 지정됨\n",
    "\n",
    "터미널에서 다음 명령어를 입력한뒤 반환되는 값 확인"
   ]
  },
  {
   "cell_type": "code",
   "execution_count": null,
   "metadata": {
    "id": "tCUOFRRG7frh"
   },
   "outputs": [],
   "source": [
    "# curl http://127.0.0.1:8890/invocations -H 'Content-Type: application/json' -d '{\"columns\": [\"dense_input\", \"dense_input\"],\"data\": [[0.1, 0.2]]}'"
   ]
  },
  {
   "cell_type": "markdown",
   "metadata": {
    "id": "cn_zRNGX7fri"
   },
   "source": [
    "### python에서 보내는 경우"
   ]
  },
  {
   "cell_type": "code",
   "execution_count": 15,
   "metadata": {
    "id": "euWQCs2N7fri"
   },
   "outputs": [
    {
     "output_type": "execute_result",
     "data": {
      "text/plain": [
       "'[0.5241513963607134]'"
      ]
     },
     "metadata": {},
     "execution_count": 15
    }
   ],
   "source": [
    "import requests, json\n",
    "url = 'http://localhost:8890/invocations'\n",
    "data = {\n",
    "    \"columns\": [\"dense_input\", \"dense_input\"],\n",
    "    \"data\": [[0.1, 0.2]]\n",
    "}\n",
    "headers = {\n",
    "    'content-type':'application/json'\n",
    "}\n",
    "res = requests.post(url, headers=headers, data=json.dumps(data))\n",
    "res.text"
   ]
  },
  {
   "cell_type": "code",
   "execution_count": null,
   "metadata": {
    "id": "V5bONblD7frj"
   },
   "outputs": [],
   "source": []
  }
 ],
 "metadata": {
  "colab": {
   "collapsed_sections": [],
   "name": "mlflow-sklearn.ipynb",
   "provenance": []
  },
  "kernelspec": {
   "name": "python377jvsc74a57bd098b0a9b7b4eaaa670588a142fd0a9b87eaafe866f1db4228be72b4211d12040f",
   "display_name": "Python 3.7.7 64-bit ('base': conda)"
  },
  "language_info": {
   "codemirror_mode": {
    "name": "ipython",
    "version": 3
   },
   "file_extension": ".py",
   "mimetype": "text/x-python",
   "name": "python",
   "nbconvert_exporter": "python",
   "pygments_lexer": "ipython3",
   "version": "3.7.7"
  }
 },
 "nbformat": 4,
 "nbformat_minor": 5
}