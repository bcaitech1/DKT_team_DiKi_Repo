{
 "cells": [
  {
   "cell_type": "markdown",
   "metadata": {},
   "source": [
    "# Wandb를 활용한 실험관리\n",
    "이번 예제에서는 pytorch를 이용해 cifar10 분류문제를 푸는 과정을 기록해보겠습니다\n",
    "- 참고자료: https://pytorch.org/tutorials/beginner/blitz/cifar10_tutorial.html#sphx-glr-beginner-blitz-cifar10-tutorial-py"
   ]
  },
  {
   "cell_type": "markdown",
   "metadata": {},
   "source": [
    "## 1. 데이터 및 모델 설정"
   ]
  },
  {
   "cell_type": "code",
   "execution_count": null,
   "metadata": {},
   "outputs": [],
   "source": [
    "import torch\n",
    "import torchvision\n",
    "import torchvision.transforms as transforms"
   ]
  },
  {
   "cell_type": "code",
   "execution_count": null,
   "metadata": {},
   "outputs": [],
   "source": [
    "!pip install -U ipywidgets\n",
    "!jupyter nbextension enable --py widgetsnbextension"
   ]
  },
  {
   "cell_type": "code",
   "execution_count": null,
   "metadata": {},
   "outputs": [],
   "source": [
    "#!!!이부분에서 Floatprogress not found 에러가 뜨면, 노트북을 재시작해주세요!!!!\n",
    "\n",
    "transform = transforms.Compose(\n",
    "    [transforms.ToTensor(),\n",
    "     transforms.Normalize((0.5, 0.5, 0.5), (0.5, 0.5, 0.5))])\n",
    "\n",
    "batch_size = 128\n",
    "\n",
    "trainset = torchvision.datasets.CIFAR10(root='./data', train=True,\n",
    "                                        download=True, transform=transform)\n",
    "trainloader = torch.utils.data.DataLoader(trainset, batch_size=batch_size,\n",
    "                                          shuffle=True, num_workers=2)\n",
    "\n",
    "testset = torchvision.datasets.CIFAR10(root='./data', train=False,\n",
    "                                       download=True, transform=transform)\n",
    "testloader = torch.utils.data.DataLoader(testset, batch_size=batch_size,\n",
    "                                         shuffle=False, num_workers=2)\n",
    "\n",
    "classes = ('plane', 'car', 'bird', 'cat',\n",
    "           'deer', 'dog', 'frog', 'horse', 'ship', 'truck')"
   ]
  },
  {
   "cell_type": "code",
   "execution_count": null,
   "metadata": {},
   "outputs": [],
   "source": [
    "import torch.nn as nn\n",
    "import torch.nn.functional as F\n",
    "\n",
    "\n",
    "class Net(nn.Module):\n",
    "    def __init__(self):\n",
    "        super().__init__()\n",
    "        self.conv1 = nn.Conv2d(3, 6, 5)\n",
    "        self.pool = nn.MaxPool2d(2, 2)\n",
    "        self.conv2 = nn.Conv2d(6, 16, 5)\n",
    "        self.fc1 = nn.Linear(16 * 5 * 5, 120)\n",
    "        self.fc2 = nn.Linear(120, 10)\n",
    "\n",
    "    def forward(self, x):\n",
    "        x = self.pool(F.relu(self.conv1(x)))\n",
    "        x = self.pool(F.relu(self.conv2(x)))\n",
    "        x = torch.flatten(x, 1) # flatten all dimensions except batch\n",
    "        x = F.relu(self.fc1(x))\n",
    "        x = self.fc2(x)\n",
    "        return x\n",
    "\n",
    "\n"
   ]
  },
  {
   "cell_type": "markdown",
   "metadata": {},
   "source": [
    "## 2. Wandb 설정"
   ]
  },
  {
   "cell_type": "code",
   "execution_count": null,
   "metadata": {
    "scrolled": true
   },
   "outputs": [],
   "source": [
    "!pip install wandb\n",
    "\n",
    "!wandb login"
   ]
  },
  {
   "cell_type": "markdown",
   "metadata": {},
   "source": [
    "### Wandb에 등록할 프로젝트 및 현재 훈련(Run) 관련 정보기록"
   ]
  },
  {
   "cell_type": "code",
   "execution_count": null,
   "metadata": {},
   "outputs": [],
   "source": [
    "import wandb\n",
    "\n",
    "config = dict (\n",
    "  learning_rate = 0.01,\n",
    "  momentum = 0.2,\n",
    "  architecture = \"CNN\",\n",
    "  dataset_id = \"CIFAR10\",\n",
    ")\n",
    "\n",
    "run = wandb.init(\n",
    "  project=\"cifar\",\n",
    "  name = \"my_test_01\", #다른 테스트를 진행해보고 싶으면 이 이름 부분을 바꿔서 기록해주세요!\n",
    "  notes=\"base line test\",\n",
    "  tags=[\"baseline\", \"cifar\"],\n",
    "  config=config,\n",
    ")"
   ]
  },
  {
   "cell_type": "markdown",
   "metadata": {},
   "source": [
    "## 위에서 정의한 모델과 wandb 세팅을 활용한 기록\n",
    "- 기본적으로 wandb.log 함수로 기록을 진행합니다."
   ]
  },
  {
   "cell_type": "code",
   "execution_count": null,
   "metadata": {},
   "outputs": [],
   "source": [
    "import torch.optim as optim\n",
    "\n",
    "device = torch.device(\"cuda:0\" if torch.cuda.is_available() else \"cpu\")\n",
    "\n",
    "net = Net()\n",
    "net.to(device)\n",
    "\n",
    "criterion = nn.CrossEntropyLoss()\n",
    "optimizer = optim.SGD(net.parameters(), lr=config['learning_rate'], momentum=config['momentum'])\n",
    "for epoch in range(5):\n",
    "    running_loss = 0.0\n",
    "    for i, data in enumerate(trainloader, 0):\n",
    "        inputs, labels = data[0].to(device), data[1].to(device)\n",
    "        optimizer.zero_grad()\n",
    "\n",
    "        outputs = net(inputs)\n",
    "        loss = criterion(outputs, labels)\n",
    "        loss.backward()\n",
    "        optimizer.step()\n",
    "\n",
    "        running_loss += loss.item()\n",
    "        if i % 100 == 99:    # print every 10 mini-batches\n",
    "            print('[%d, %5d] loss: %.3f' %(epoch + 1, i + 1, running_loss / 100))\n",
    "            \n",
    "            ##wandb 로깅\n",
    "            wandb.log({\"training_batch_loss\":running_loss / 100})\n",
    "            running_loss = 0.0\n",
    "\n",
    "    #VALIDATION\n",
    "    correct = 0\n",
    "    total = 0\n",
    "    with torch.no_grad():\n",
    "        for data in testloader:\n",
    "            images, labels = data[0].to(device), data[1].to(device)\n",
    "            outputs = net(images)\n",
    "            _, predicted = torch.max(outputs.data, 1)\n",
    "            total += labels.size(0)\n",
    "            correct += (predicted == labels).sum().item()\n",
    "\n",
    "    print('Accuracy of the network on the 10000 test images: %d %%' % (100 * correct / total))\n",
    "    \n",
    "    ## wandb 로깅\n",
    "    ## 아래와 같이 다양한 정보들을 로깅 할 수 있습니다.\n",
    "    wandb.log({\"valid_acc\": correct / total, \"epoch\": epoch,\n",
    "           \"inputs\": wandb.Image(images), #마지막 배치의 이미지\n",
    "           \"logits\": wandb.Histogram(outputs.to('cpu')), #마지막 배치의 아웃풋\n",
    "           })\n",
    "\n",
    "print('Finished Training')"
   ]
  },
  {
   "cell_type": "markdown",
   "metadata": {},
   "source": [
    "## 훈련 결과 출력"
   ]
  },
  {
   "cell_type": "code",
   "execution_count": null,
   "metadata": {},
   "outputs": [],
   "source": [
    "\n",
    "run.finish()\n"
   ]
  },
  {
   "cell_type": "markdown",
   "metadata": {},
   "source": [
    "<img src=\"image-asset/screenshot_001.png\"/>\n",
    "위와 같은 그림을 wandb 웹사이트에서 확인하시면 성공!"
   ]
  },
  {
   "cell_type": "markdown",
   "metadata": {},
   "source": [
    "## Wandb Sweep \n",
    "Wandb Sweep 기능을 활용하여, 목표 metric과 하이퍼파라미터간의 관계 확인하기\n",
    "- 참조: https://docs.wandb.ai/guides/sweeps"
   ]
  },
  {
   "cell_type": "code",
   "execution_count": null,
   "metadata": {},
   "outputs": [],
   "source": [
    "import wandb\n",
    "\n",
    "sweep_config = {\n",
    "    \"name\" : \"my-sweep\",\n",
    "    \"method\" : \"random\", #grid, random\n",
    "    \"metric\": { #목표로 삶을 매트릭에 대한 정보를 입력합니다.\n",
    "        \"name\": \"valid_acc\",\n",
    "        \"goal\": \"maximize\"\n",
    "    },\n",
    "    \"parameters\" : { #실험해볼 하이퍼 파라미터의 조합입니다.\n",
    "        \"epochs\" : {\n",
    "            \"values\" : [2, 3, 4]\n",
    "        },\n",
    "        \"learning_rate\" :{\n",
    "            \"values\" : [0.001, 0.002, 0.003, 0.004]\n",
    "        },\n",
    "        \"momentum\" :{\n",
    "            \"min\": 0.5,\n",
    "            \"max\": 0.9\n",
    "        }\n",
    "      }\n",
    "    }\n",
    "\n",
    "sweep_id = wandb.sweep(sweep_config, project=\"cifar-hyperparameter-tunning\")"
   ]
  },
  {
   "cell_type": "code",
   "execution_count": null,
   "metadata": {},
   "outputs": [],
   "source": [
    "def train():\n",
    "    with wandb.init() as run:\n",
    "        config = wandb.config\n",
    "        device = torch.device(\"cuda:0\" if torch.cuda.is_available() else \"cpu\")\n",
    "        net = Net()\n",
    "        net.to(device)\n",
    "        \n",
    "        criterion = nn.CrossEntropyLoss()\n",
    "        optimizer = optim.SGD(net.parameters(), lr=config['learning_rate'], momentum=config['momentum'])        \n",
    "        for epoch in range(config[\"epochs\"]):\n",
    "\n",
    "            running_loss = 0.0\n",
    "            for i, data in enumerate(trainloader, 0):\n",
    "                inputs, labels = data[0].to(device), data[1].to(device)\n",
    "                optimizer.zero_grad()\n",
    "\n",
    "                outputs = net(inputs)\n",
    "                loss = criterion(outputs, labels)\n",
    "                loss.backward()\n",
    "                optimizer.step()\n",
    "\n",
    "                running_loss += loss.item()\n",
    "                if i % 100 == 99:    # print every 10 mini-batches\n",
    "                    print('[%d, %5d] loss: %.3f' %(epoch + 1, i + 1, running_loss / 100))\n",
    "\n",
    "                    ##wandb 로깅\n",
    "                    wandb.log({\"training_batch_loss\":running_loss / 100})\n",
    "                    running_loss = 0.0\n",
    "\n",
    "            #VALIDATION\n",
    "            correct = 0\n",
    "            total = 0\n",
    "            with torch.no_grad():\n",
    "                for data in testloader:\n",
    "                    images, labels = data[0].to(device), data[1].to(device)\n",
    "\n",
    "                    outputs = net(images)\n",
    "                    _, predicted = torch.max(outputs.data, 1)\n",
    "                    total += labels.size(0)\n",
    "                    correct += (predicted == labels).sum().item()\n",
    "\n",
    "            print('Accuracy of the network on the 10000 test images: %d %%' % (100 * correct / total))\n",
    "\n",
    "            ## wandb 로깅\n",
    "            ## 아래와 같이 다양한 정보들을 로깅 할 수 있습니다.\n",
    "            wandb.log({\"valid_acc\": correct / total, \"epoch\": epoch,\n",
    "                   \"inputs\": wandb.Image(images), #마지막 배치의 이미지\n",
    "                   \"logits\": wandb.Histogram(outputs.to('cpu')), #마지막 배치의 아웃풋\n",
    "                   })\n",
    "\n",
    "            print('Finished Training')\n",
    "\n",
    "count = 5 # number of runs to execute\n",
    "wandb.agent(sweep_id, function=train, count=count)"
   ]
  },
  {
   "cell_type": "markdown",
   "metadata": {},
   "source": [
    "Sweep 페이지에서 아래와 같은 정보들을 확인하시면 성공!\n",
    "<img src=\"image-asset/screenshot_002.png\"/>"
   ]
  },
  {
   "cell_type": "code",
   "execution_count": null,
   "metadata": {},
   "outputs": [],
   "source": []
  }
 ],
 "metadata": {
  "kernelspec": {
   "display_name": "Python 3",
   "language": "python",
   "name": "python3"
  },
  "language_info": {
   "codemirror_mode": {
    "name": "ipython",
    "version": 3
   },
   "file_extension": ".py",
   "mimetype": "text/x-python",
   "name": "python",
   "nbconvert_exporter": "python",
   "pygments_lexer": "ipython3",
   "version": "3.7.6"
  }
 },
 "nbformat": 4,
 "nbformat_minor": 4
}
